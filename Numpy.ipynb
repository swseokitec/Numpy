{
  "nbformat": 4,
  "nbformat_minor": 0,
  "metadata": {
    "colab": {
      "name": "Numpy.ipynb",
      "provenance": [],
      "collapsed_sections": [],
      "toc_visible": true,
      "include_colab_link": true
    },
    "kernelspec": {
      "name": "python3",
      "display_name": "Python 3"
    },
    "gpuClass": "standard"
  },
  "cells": [
    {
      "cell_type": "markdown",
      "metadata": {
        "id": "view-in-github",
        "colab_type": "text"
      },
      "source": [
        "<a href=\"https://colab.research.google.com/github/swseokitec/Numpy/blob/main/Numpy.ipynb\" target=\"_parent\"><img src=\"https://colab.research.google.com/assets/colab-badge.svg\" alt=\"Open In Colab\"/></a>"
      ]
    },
    {
      "cell_type": "code",
      "source": [
        "import numpy as np\n",
        "import matplotlib.pyplot as plt\n",
        "import inspect\n",
        "np.__version__\n",
        "\n"
      ],
      "metadata": {
        "id": "us2BIFUWKEEt",
        "colab": {
          "base_uri": "https://localhost:8080/",
          "height": 36
        },
        "outputId": "0956511c-939b-478c-db76-7b8483174809"
      },
      "execution_count": 1,
      "outputs": [
        {
          "output_type": "execute_result",
          "data": {
            "text/plain": [
              "'1.21.6'"
            ],
            "application/vnd.google.colaboratory.intrinsic+json": {
              "type": "string"
            }
          },
          "metadata": {},
          "execution_count": 1
        }
      ]
    },
    {
      "cell_type": "code",
      "source": [
        "def print60():\n",
        "  print(\"*\" * 60)\n",
        "  return"
      ],
      "metadata": {
        "id": "8lO2Fzbn8olR"
      },
      "execution_count": 2,
      "outputs": []
    },
    {
      "cell_type": "code",
      "source": [
        "def retrieve_name(var):\n",
        "  callers_local_vars = inspect.currentframe().f_back.f_locals.items()\n",
        "  return [var_name for var_name, var_val in callers_local_vars if var_val is var]\n",
        "\n"
      ],
      "metadata": {
        "id": "5b7ATOJLhH7e"
      },
      "execution_count": 3,
      "outputs": []
    },
    {
      "cell_type": "code",
      "source": [
        "def array_info(array, array_name=\"Noname\"):\n",
        "  print60()\n",
        "  print(\"<<<array_info func:{0}>>>\".format(array_name))\n",
        "  print60()\n",
        "  print(\"array=\", array)\n",
        "  print(\"type=\", type(array))\n",
        "  print(\"ndim:\", array.ndim)\n",
        "  print(\"shape:\", array.shape)\n",
        "  print(\"dtype:\", array.dtype)\n",
        "  print(\"size:\", array.size)  #item 개수\n",
        "  print(\"itemsize:\", array.itemsize) #item size\n",
        "  print(\"nbytes:\", array.nbytes)  # size * itemsize\n",
        "  print(\"strides:\", array.strides) # array내의 각 item에서 다음 item간의 바이트 간격?\n",
        "  print60()\n",
        "\n",
        "#[[1,2,3],[4,5,6]] 이라는 2차원의 array가 있다.\n",
        "#strides를 사용하면 (dimensions 간의 간격, item간의 간격)으로 결과가 출력된다.\n",
        "#각 dimensions 간의 간격은 [1,2,3] 의 용량과 같으므로 4바이트인 int32형 3개 = 12 bytes인 것.\n",
        "#그래서 (12,4)로 표현한다."
      ],
      "metadata": {
        "id": "LI3tFwagcDRr"
      },
      "execution_count": 4,
      "outputs": []
    },
    {
      "cell_type": "markdown",
      "metadata": {
        "id": "J_FfQuu2Tb30"
      },
      "source": [
        "# NumPy\n",
        "\n",
        "파이썬은 자체적으로 배열 자료형을 제공하지 않는다. 따라서 배열을 구현한 다른 패키지를 임포트해야 한다. 파이썬에서 배열을 사용하기 위한 표준 패키지는 넘파이(NumPy)다."
      ]
    },
    {
      "cell_type": "markdown",
      "metadata": {
        "id": "Zgrrh9T2vs8u"
      },
      "source": [
        "\n",
        "\n",
        "---\n",
        "\n"
      ]
    },
    {
      "cell_type": "markdown",
      "metadata": {
        "id": "oR5hNBH-Retd"
      },
      "source": [
        "## NumPy 특징\n",
        "\n",
        "* Numerical Python의 약자\n",
        "* 고성능 과학 계산용 패키지로 강력한 N차원 배열 객체\n",
        "* 범용적 데이터 처리에 사용 가능한 다차원 컨테이너\n",
        "* 정교한 브로드캐스팅(`Broadcasting`) 기능\n",
        "* 파이썬의 자료형 list와 비슷하지만, 더 빠르고 메모리를 효율적으로 관리\n",
        "* 반복문 없이 데이터 배열에 대한 처리(`Vectorization`)를 지원하여 빠르고 편리\n",
        "* 데이터 과학 도구에 대한 생태계의 핵심을 이루고 있음\n",
        "\n",
        "\n",
        "\n",
        "\n",
        "\n",
        "\n",
        "데이터 분석의 각종 계산을 돕는 학문이 바로 선형대수(linear algebra)입니다. 선형대수를 사용하면 대량의 데이터를 포함하는 복잡한 계산 과정을 간단한 수식으로 표현할 수 있습니다. 선형대수의 데이터 유형은 데이터의 수와 형태에 따라서 스칼라(scalar), 벡터(vector), 행렬(matrix), 텐서(Tensor)로 구분됩니다. 각 데이터 유형에 대하여 간단하게 살펴보겠습니다.\n",
        "\n",
        "* 스칼라: scalar\n",
        "스칼라는 하나의 숫자만으로 이루어진 데이터를 의미합니다. 스칼라는 보통 x 와 같이 알파벳 소문자로 표기하며 실수(real number)인 숫자 중의 하나이므로 실수 집합 “R“의 원소라는 의미에서 다음과 같이 표기한다.\n",
        "\n",
        "<p>$$ x \\in {\\Bbb R} $$</p>\n",
        "\n",
        "* 벡터: vector\n",
        "벡터는 여러 숫자가 순서대로 모여 있는 것으로, 일반적인 일차원 배열이 벡터입니다.\n",
        "<p>$$\n",
        "x = \\begin{bmatrix}x_1 \\\\ x_2 \\\\ x_3 \\\\ x_4 \\end{bmatrix}\n",
        "$$</p>\n",
        "<font color=\"yellow\">하나의 벡터를 이루는 데이터의 개수를 차원(dimension)</font>이라고 합니다. \n",
        "위에서 예로든 벡터는 4개의 실수로 이루어져 있고, 4차원 벡터입니다. 이 벡터는 다음과 같이 표기할 수 있습니다.\n",
        "<p>$$ x \\in {\\Bbb R^4} $$</p>\n",
        "\n",
        "* 행렬: matrix\n",
        "행렬은 복수의 차원을 가지는 데이터가 다시 여러 개 있는 경우의 데이터를 합쳐서 표기한 것이다. 일반적으로 2차원 배열이 행렬입니다. 특히 3차원 이상 배열은 텐서(tensor)라고 합니다.\n",
        "\n",
        "* 다차원 배열의 축(axis)\n",
        "\n",
        "  ![axis.jpg](data:image/jpeg;base64,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)\n",
        "\n"
      ]
    },
    {
      "cell_type": "markdown",
      "source": [
        "![Image 2.png](data:image/png;base64,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)"
      ],
      "metadata": {
        "id": "cjlOISn8e_Zm"
      }
    },
    {
      "cell_type": "markdown",
      "source": [
        "![Image 1.png](data:image/png;base64,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)"
      ],
      "metadata": {
        "id": "O3MXohZZe__e"
      }
    },
    {
      "cell_type": "markdown",
      "metadata": {
        "id": "2hSWC5ptGyWP"
      },
      "source": [
        "\n",
        "\n",
        "---\n",
        "\n"
      ]
    },
    {
      "cell_type": "markdown",
      "metadata": {
        "id": "1kgkJZFlVUqk"
      },
      "source": [
        "## 배열 생성\n",
        "\n",
        "\n",
        "ndarray 객체를 생성하는 대표적인 함수가 array() 함수인데 첫 번째 입력인수가 array-like 객체이다. array-like 객체는 다음과 같은 것들이 있다.\n",
        "* list\n",
        "* tuple\n",
        "* ndarray\n",
        "* matrix"
      ]
    },
    {
      "cell_type": "markdown",
      "source": [
        "c++\n",
        "int x = 0;\n",
        "x = 3.2045\n",
        "-> x = 3;"
      ],
      "metadata": {
        "id": "HqK5kJ0CPBSC"
      }
    },
    {
      "cell_type": "code",
      "source": [
        "np.array([1, 2, 3.0]) # upcasting"
      ],
      "metadata": {
        "colab": {
          "base_uri": "https://localhost:8080/"
        },
        "id": "q6ELhuBcv-u8",
        "outputId": "48c73b60-3bb5-4284-a1f6-1ab7cbea5dc5"
      },
      "execution_count": null,
      "outputs": [
        {
          "output_type": "execute_result",
          "data": {
            "text/plain": [
              "array([1., 2., 3.])"
            ]
          },
          "metadata": {},
          "execution_count": 6
        }
      ]
    },
    {
      "cell_type": "code",
      "source": [
        "np.array([[1, 2], [3, 4]]) # More than one dimension:"
      ],
      "metadata": {
        "colab": {
          "base_uri": "https://localhost:8080/"
        },
        "id": "n9VjOceKwBu8",
        "outputId": "6a6a6b02-9436-4770-fc10-84a44a0d6df8"
      },
      "execution_count": null,
      "outputs": [
        {
          "output_type": "execute_result",
          "data": {
            "text/plain": [
              "array([[1, 2],\n",
              "       [3, 4]])"
            ]
          },
          "metadata": {},
          "execution_count": 7
        }
      ]
    },
    {
      "cell_type": "code",
      "source": [
        "np.array([1, 2, 3], ndmin=2) # Minimum dimensions 2"
      ],
      "metadata": {
        "colab": {
          "base_uri": "https://localhost:8080/"
        },
        "id": "-he19i4XwIP0",
        "outputId": "a519e3b5-72e5-420d-e6b1-8ed33ce2b4aa"
      },
      "execution_count": null,
      "outputs": [
        {
          "output_type": "execute_result",
          "data": {
            "text/plain": [
              "array([[1, 2, 3]])"
            ]
          },
          "metadata": {},
          "execution_count": 8
        }
      ]
    },
    {
      "cell_type": "code",
      "source": [
        "np.array([1, 2, 3], dtype=complex) # Type provided:"
      ],
      "metadata": {
        "colab": {
          "base_uri": "https://localhost:8080/"
        },
        "id": "XSbe3o1swNo0",
        "outputId": "0d36deda-9729-406f-d7d1-194e836e6021"
      },
      "execution_count": null,
      "outputs": [
        {
          "output_type": "execute_result",
          "data": {
            "text/plain": [
              "array([1.+0.j, 2.+0.j, 3.+0.j])"
            ]
          },
          "metadata": {},
          "execution_count": 9
        }
      ]
    },
    {
      "cell_type": "code",
      "source": [
        "matrixx = np.mat('1 2; 3 4')\n",
        "print(type(matrixx))\n",
        "print(matrixx)"
      ],
      "metadata": {
        "id": "XU3A4TnkyqPU",
        "colab": {
          "base_uri": "https://localhost:8080/"
        },
        "outputId": "a7f34ee6-b255-40a6-aa45-f54c90f7e299"
      },
      "execution_count": null,
      "outputs": [
        {
          "output_type": "stream",
          "name": "stdout",
          "text": [
            "<class 'numpy.matrix'>\n",
            "[[1 2]\n",
            " [3 4]]\n"
          ]
        }
      ]
    },
    {
      "cell_type": "markdown",
      "source": [
        "Unlike matrix, asmatrix does not make a copy if the input is already a matrix or an ndarray. Equivalent to matrix(data, copy=False)."
      ],
      "metadata": {
        "id": "x_Gpr9MABqIX"
      }
    },
    {
      "cell_type": "markdown",
      "source": [
        "[numpy.matrix](https://numpy.org/doc/stable/reference/generated/numpy.matrix.html#numpy.matrix)\n",
        "</br> class numpy.matrix(data, dtype=None, copy=True)</br>\n",
        "<font color=\"red\">Note!!!</font></br>\n",
        "It is no longer recommended to use this class, even for linear algebra.</br> Instead use regular arrays. The class may be removed in the future.\n"
      ],
      "metadata": {
        "id": "n_iKyX9xCOQK"
      }
    },
    {
      "cell_type": "code",
      "source": [
        "np.array(np.mat('1 2; 3 4')) # Creating an array from sub-classes: np.mat가 리턴하는 데이터 타입은 matrix인데, matrix는 ndarray의 subclass임"
      ],
      "metadata": {
        "id": "bshPqzZxwWIz",
        "colab": {
          "base_uri": "https://localhost:8080/"
        },
        "outputId": "9205e6f0-9948-4fae-8179-660726152bd8"
      },
      "execution_count": null,
      "outputs": [
        {
          "output_type": "execute_result",
          "data": {
            "text/plain": [
              "array([[1, 2],\n",
              "       [3, 4]])"
            ]
          },
          "metadata": {},
          "execution_count": 11
        }
      ]
    },
    {
      "cell_type": "markdown",
      "source": [
        "### 스칼라 상수(변수)로 생성된 배열은 0차 배열 이다.\n",
        "\n",
        "스칼라로 배열을 생성할 경우 배열 객체의 차수는 0-dimension이다. 즉, 스칼라는 0-dimension 배열이다. shape은 empty tuple을 가지고 size는 1이다.\n",
        "\n"
      ],
      "metadata": {
        "id": "lmvcux_f_EhC"
      }
    },
    {
      "cell_type": "code",
      "source": [
        "x = 10\n",
        "a = np.array(x)\n",
        "array_info(a, retrieve_name(a))\n",
        "#a.ndim, a.shape, a.size"
      ],
      "metadata": {
        "colab": {
          "base_uri": "https://localhost:8080/"
        },
        "id": "Vm2iFeVC_VEC",
        "outputId": "0e10b7ee-afbe-4710-e3d2-a015695d4e53"
      },
      "execution_count": null,
      "outputs": [
        {
          "output_type": "stream",
          "name": "stdout",
          "text": [
            "************************************************************\n",
            "<<<array_info func:['a']>>>\n",
            "************************************************************\n",
            "array= 10\n",
            "type= <class 'numpy.ndarray'>\n",
            "ndim: 0\n",
            "shape: ()\n",
            "dtype: int64\n",
            "size: 1\n",
            "itemsize: 8\n",
            "nbytes: 8\n",
            "strides: ()\n",
            "************************************************************\n"
          ]
        }
      ]
    },
    {
      "cell_type": "markdown",
      "source": [
        "0-dimension 배열이라는 용어가 생소하겠지만 배열에 스칼라도 포함된다는 것이 더 논리적인 것 같다.</br> 만약 단일 수에서 1-dimension 배열을 생성하려면 다음과 같이 리스트(혹은 튜플)로 만들어서 넘겨야 한다."
      ],
      "metadata": {
        "id": "4DBQkFM9_hjR"
      }
    },
    {
      "cell_type": "code",
      "source": [
        "a = np.array([x]) # 혹은 a = np.array( (x,))\n",
        "array_info(a, retrieve_name(a))"
      ],
      "metadata": {
        "colab": {
          "base_uri": "https://localhost:8080/"
        },
        "id": "7bTNP_zy_jyi",
        "outputId": "80aaa064-7cc4-4c73-939b-d625c1513a6b"
      },
      "execution_count": null,
      "outputs": [
        {
          "output_type": "stream",
          "name": "stdout",
          "text": [
            "************************************************************\n",
            "<<<array_info func:['a']>>>\n",
            "************************************************************\n",
            "array= [10]\n",
            "type= <class 'numpy.ndarray'>\n",
            "ndim: 1\n",
            "shape: (1,)\n",
            "dtype: int64\n",
            "size: 1\n",
            "itemsize: 8\n",
            "nbytes: 8\n",
            "strides: (8,)\n",
            "************************************************************\n"
          ]
        }
      ]
    },
    {
      "cell_type": "code",
      "source": [
        "a = np.array((x,))\n",
        "array_info(a, retrieve_name(a))"
      ],
      "metadata": {
        "colab": {
          "base_uri": "https://localhost:8080/"
        },
        "id": "kmHygxy5JL_o",
        "outputId": "ba1b5d3a-4a64-448e-f2fb-91a18508560c"
      },
      "execution_count": null,
      "outputs": [
        {
          "output_type": "stream",
          "name": "stdout",
          "text": [
            "************************************************************\n",
            "<<<array_info func:['a']>>>\n",
            "************************************************************\n",
            "array= [10]\n",
            "type= <class 'numpy.ndarray'>\n",
            "ndim: 1\n",
            "shape: (1,)\n",
            "dtype: int64\n",
            "size: 1\n",
            "itemsize: 8\n",
            "nbytes: 8\n",
            "strides: (8,)\n",
            "************************************************************\n"
          ]
        }
      ]
    },
    {
      "cell_type": "code",
      "source": [
        "x = [1,2,3]\n",
        "a = np.array(x) # 혹은 a = np.array( (x,))\n",
        "array_info(a, retrieve_name(a))"
      ],
      "metadata": {
        "colab": {
          "base_uri": "https://localhost:8080/"
        },
        "id": "v2E-0dwaTaMV",
        "outputId": "b752e47b-70a0-4005-f956-bb5044276323"
      },
      "execution_count": null,
      "outputs": [
        {
          "output_type": "stream",
          "name": "stdout",
          "text": [
            "************************************************************\n",
            "<<<array_info func:['a']>>>\n",
            "************************************************************\n",
            "array= [1 2 3]\n",
            "type= <class 'numpy.ndarray'>\n",
            "ndim: 1\n",
            "shape: (3,)\n",
            "dtype: int64\n",
            "size: 3\n",
            "itemsize: 8\n",
            "nbytes: 24\n",
            "strides: (8,)\n",
            "************************************************************\n"
          ]
        }
      ]
    },
    {
      "cell_type": "markdown",
      "source": [
        "이것은 요소가 한 개인 1-dimension 배열이 된다. 즉 <font color=\"yellow\">np.array(10) 과 np.array([10])은 엄연히 구별된다.</font></br> 전자는 0-dimension 배열, 후자는 1-dimension 배열이다."
      ],
      "metadata": {
        "id": "rb8dNnTp_3d0"
      }
    },
    {
      "cell_type": "markdown",
      "source": [
        "### 2차 배열에서 크기가 다른 row는 리스트다.\n",
        "이것은 예를 들어서 다음과 같은 배열 a와 b를 고려해 보자."
      ],
      "metadata": {
        "id": "JKQRTawOAQMq"
      }
    },
    {
      "cell_type": "code",
      "source": [
        "a = np.array( [ [1,2], [3,4] ] )\n",
        "array_info(a, retrieve_name(a))"
      ],
      "metadata": {
        "id": "S45eCUsLAWDx",
        "colab": {
          "base_uri": "https://localhost:8080/"
        },
        "outputId": "8d3f90bc-c93e-44e3-8058-7ff493d6fbba"
      },
      "execution_count": null,
      "outputs": [
        {
          "output_type": "stream",
          "name": "stdout",
          "text": [
            "************************************************************\n",
            "<<<array_info func:['a']>>>\n",
            "************************************************************\n",
            "array= [[1 2]\n",
            " [3 4]]\n",
            "type= <class 'numpy.ndarray'>\n",
            "ndim: 2\n",
            "shape: (2, 2)\n",
            "dtype: int64\n",
            "size: 4\n",
            "itemsize: 8\n",
            "nbytes: 32\n",
            "strides: (16, 8)\n",
            "************************************************************\n"
          ]
        }
      ]
    },
    {
      "cell_type": "code",
      "source": [
        "b = np.array( [ [1,2], [3,4,5] ] )\n",
        "array_info(b, retrieve_name(b))"
      ],
      "metadata": {
        "colab": {
          "base_uri": "https://localhost:8080/"
        },
        "id": "Ia27Ma6uAaia",
        "outputId": "d32d7171-44be-469f-d2cc-36231407d618"
      },
      "execution_count": null,
      "outputs": [
        {
          "output_type": "stream",
          "name": "stdout",
          "text": [
            "************************************************************\n",
            "<<<array_info func:['b']>>>\n",
            "************************************************************\n",
            "array= [list([1, 2]) list([3, 4, 5])]\n",
            "type= <class 'numpy.ndarray'>\n",
            "ndim: 1\n",
            "shape: (2,)\n",
            "dtype: object\n",
            "size: 2\n",
            "itemsize: 8\n",
            "nbytes: 16\n",
            "strides: (8,)\n",
            "************************************************************\n"
          ]
        },
        {
          "output_type": "stream",
          "name": "stderr",
          "text": [
            "/usr/local/lib/python3.7/dist-packages/ipykernel_launcher.py:1: VisibleDeprecationWarning: Creating an ndarray from ragged nested sequences (which is a list-or-tuple of lists-or-tuples-or ndarrays with different lengths or shapes) is deprecated. If you meant to do this, you must specify 'dtype=object' when creating the ndarray.\n",
            "  \"\"\"Entry point for launching an IPython kernel.\n"
          ]
        }
      ]
    },
    {
      "cell_type": "code",
      "source": [
        "b = np.array( [ [1,2,3], [4,5,6] ] )\n",
        "array_info(b, retrieve_name(b))"
      ],
      "metadata": {
        "colab": {
          "base_uri": "https://localhost:8080/"
        },
        "id": "xb3X2aVTUxQK",
        "outputId": "30070660-057f-42c7-87c5-74378b066947"
      },
      "execution_count": null,
      "outputs": [
        {
          "output_type": "stream",
          "name": "stdout",
          "text": [
            "************************************************************\n",
            "<<<array_info func:['b']>>>\n",
            "************************************************************\n",
            "array= [[1 2 3]\n",
            " [4 5 6]]\n",
            "type= <class 'numpy.ndarray'>\n",
            "ndim: 2\n",
            "shape: (2, 3)\n",
            "dtype: int64\n",
            "size: 6\n",
            "itemsize: 8\n",
            "nbytes: 48\n",
            "strides: (24, 8)\n",
            "************************************************************\n"
          ]
        }
      ]
    },
    {
      "cell_type": "markdown",
      "source": [
        "두 변수는 모두 배열이다. 하지만 배열 a의 각 요소 a[0] 과 a[1] 은 type이 배열인 반면 b[0], b[1] 은 리스트이다.</br>즉, 변수 a는 array of array이고 변수 b는 array of list이다. 따라서 a[0]은 배열의 모든 속성을 사용할 수 있지만 b[0]는 리스트이기 때문에 그럴 수 없다.</br>\n",
        "만약 크기가 다른 행들도 모두 배열로 만들고 싶다면 다음과 같이 하면 된다."
      ],
      "metadata": {
        "id": "HMjPRC1QAkk7"
      }
    },
    {
      "cell_type": "code",
      "source": [
        "a = np.array( [ np.array([1,2]) , np.array([1,2,3]) ] )\n",
        "array_info(a, retrieve_name(a))"
      ],
      "metadata": {
        "colab": {
          "base_uri": "https://localhost:8080/"
        },
        "id": "WUyVfwoqAomE",
        "outputId": "d5d6e8e7-51fb-442f-f425-a87cf726f318"
      },
      "execution_count": null,
      "outputs": [
        {
          "output_type": "stream",
          "name": "stdout",
          "text": [
            "************************************************************\n",
            "<<<array_info func:['a']>>>\n",
            "************************************************************\n",
            "array= [array([1, 2]) array([1, 2, 3])]\n",
            "type= <class 'numpy.ndarray'>\n",
            "ndim: 1\n",
            "shape: (2,)\n",
            "dtype: object\n",
            "size: 2\n",
            "itemsize: 8\n",
            "nbytes: 16\n",
            "strides: (8,)\n",
            "************************************************************\n"
          ]
        },
        {
          "output_type": "stream",
          "name": "stderr",
          "text": [
            "/usr/local/lib/python3.7/dist-packages/ipykernel_launcher.py:1: VisibleDeprecationWarning: Creating an ndarray from ragged nested sequences (which is a list-or-tuple of lists-or-tuples-or ndarrays with different lengths or shapes) is deprecated. If you meant to do this, you must specify 'dtype=object' when creating the ndarray.\n",
            "  \"\"\"Entry point for launching an IPython kernel.\n"
          ]
        }
      ]
    },
    {
      "cell_type": "markdown",
      "source": [
        "### 리스트와 배열의 연산 결과는 배열이다.\n",
        "\n",
        "리스트끼리의 산술 연산은 정의되어 있지 않으나 리스트와 배열 상호간 연산은 요소간 연산이 적용된다. 그리고 그 결과도 배열이다"
      ],
      "metadata": {
        "id": "7XzqfE3-BGfT"
      }
    },
    {
      "cell_type": "code",
      "source": [
        "[1,2,3]/2 # 에러가 발생한다."
      ],
      "metadata": {
        "colab": {
          "base_uri": "https://localhost:8080/",
          "height": 172
        },
        "id": "fvUv_aKFBOoL",
        "outputId": "3ad1d3e1-4c08-47f4-b9b1-fe49f6f4fcf6"
      },
      "execution_count": null,
      "outputs": [
        {
          "output_type": "error",
          "ename": "TypeError",
          "evalue": "ignored",
          "traceback": [
            "\u001b[0;31m---------------------------------------------------------------------------\u001b[0m",
            "\u001b[0;31mTypeError\u001b[0m                                 Traceback (most recent call last)",
            "\u001b[0;32m<ipython-input-20-ec43c6fa3b52>\u001b[0m in \u001b[0;36m<module>\u001b[0;34m()\u001b[0m\n\u001b[0;32m----> 1\u001b[0;31m \u001b[0;34m[\u001b[0m\u001b[0;36m1\u001b[0m\u001b[0;34m,\u001b[0m\u001b[0;36m2\u001b[0m\u001b[0;34m,\u001b[0m\u001b[0;36m3\u001b[0m\u001b[0;34m]\u001b[0m\u001b[0;34m/\u001b[0m\u001b[0;36m2\u001b[0m \u001b[0;31m# 에러가 발생한다.\u001b[0m\u001b[0;34m\u001b[0m\u001b[0;34m\u001b[0m\u001b[0m\n\u001b[0m",
            "\u001b[0;31mTypeError\u001b[0m: unsupported operand type(s) for /: 'list' and 'int'"
          ]
        }
      ]
    },
    {
      "cell_type": "code",
      "source": [
        "asa = np.asarray([2])\n",
        "array_info(asa, retrieve_name(asa))"
      ],
      "metadata": {
        "colab": {
          "base_uri": "https://localhost:8080/"
        },
        "id": "NPJN73KFBS2b",
        "outputId": "65c181e5-b1a2-4cc0-d2d4-68c2cf4d56b0"
      },
      "execution_count": null,
      "outputs": [
        {
          "output_type": "stream",
          "name": "stdout",
          "text": [
            "************************************************************\n",
            "<<<array_info func:['asa']>>>\n",
            "------------------------------------------------------------\n",
            "array= [2]\n",
            "type= <class 'numpy.ndarray'>\n",
            "ndim: 1\n",
            "shape: (1,)\n",
            "dtype: int64\n",
            "size: 1\n",
            "itemsize: 8\n",
            "nbytes: 8\n",
            "strides: (8,)\n",
            "************************************************************\n"
          ]
        }
      ]
    },
    {
      "cell_type": "code",
      "source": [
        "[1,2,3]/np.asarray([2])"
      ],
      "metadata": {
        "colab": {
          "base_uri": "https://localhost:8080/"
        },
        "id": "4KT7LyOyBP4i",
        "outputId": "43dccfb2-6456-46a1-b375-69386ff8b2e6"
      },
      "execution_count": null,
      "outputs": [
        {
          "output_type": "execute_result",
          "data": {
            "text/plain": [
              "array([0.5, 1. , 1.5])"
            ]
          },
          "metadata": {},
          "execution_count": 14
        }
      ]
    },
    {
      "cell_type": "code",
      "source": [
        "dro = np.array([\n",
        "          [1],\n",
        "          [2],\n",
        "          [3],\n",
        "          [4]\n",
        "])\n",
        "\n",
        "array_info(dro, retrieve_name(dro)) \n",
        " ##nbytes = size * itemsize"
      ],
      "metadata": {
        "colab": {
          "base_uri": "https://localhost:8080/"
        },
        "id": "D-q84vZ0bKLD",
        "outputId": "4dc4f601-3818-40ee-b9a1-ed063c28fe6c"
      },
      "execution_count": null,
      "outputs": [
        {
          "output_type": "stream",
          "name": "stdout",
          "text": [
            "************************************************************\n",
            "<<<array_info func:['dro']>>>\n",
            "------------------------------------------------------------\n",
            "array= [[1]\n",
            " [2]\n",
            " [3]\n",
            " [4]]\n",
            "type= <class 'numpy.ndarray'>\n",
            "ndim: 2\n",
            "shape: (4, 1)\n",
            "dtype: int64\n",
            "size: 4\n",
            "itemsize: 8\n",
            "nbytes: 32\n",
            "strides: (8, 8)\n",
            "************************************************************\n"
          ]
        }
      ]
    },
    {
      "cell_type": "markdown",
      "metadata": {
        "id": "5eQ4sAkMbzm0"
      },
      "source": [
        "### 리스트로 배열 만들기\n",
        "\n",
        "![Image 16.png](data:image/png;base64,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)"
      ]
    },
    {
      "cell_type": "code",
      "metadata": {
        "id": "Mtod2jcPWVvV",
        "colab": {
          "base_uri": "https://localhost:8080/"
        },
        "outputId": "16e35d8e-da9e-4f3f-f4bc-eaeeb3778166"
      },
      "source": [
        "a1 = np.array([1, 2, 3, 4, 5])\n",
        "array_info(a1, retrieve_name(a1))\n",
        "print(dir(a1))"
      ],
      "execution_count": 5,
      "outputs": [
        {
          "output_type": "stream",
          "name": "stdout",
          "text": [
            "************************************************************\n",
            "<<<array_info func:['a1']>>>\n",
            "************************************************************\n",
            "array= [1 2 3 4 5]\n",
            "type= <class 'numpy.ndarray'>\n",
            "ndim: 1\n",
            "shape: (5,)\n",
            "dtype: int64\n",
            "size: 5\n",
            "itemsize: 8\n",
            "nbytes: 40\n",
            "strides: (8,)\n",
            "************************************************************\n",
            "['T', '__abs__', '__add__', '__and__', '__array__', '__array_finalize__', '__array_function__', '__array_interface__', '__array_prepare__', '__array_priority__', '__array_struct__', '__array_ufunc__', '__array_wrap__', '__bool__', '__class__', '__complex__', '__contains__', '__copy__', '__deepcopy__', '__delattr__', '__delitem__', '__dir__', '__divmod__', '__doc__', '__eq__', '__float__', '__floordiv__', '__format__', '__ge__', '__getattribute__', '__getitem__', '__gt__', '__hash__', '__iadd__', '__iand__', '__ifloordiv__', '__ilshift__', '__imatmul__', '__imod__', '__imul__', '__index__', '__init__', '__init_subclass__', '__int__', '__invert__', '__ior__', '__ipow__', '__irshift__', '__isub__', '__iter__', '__itruediv__', '__ixor__', '__le__', '__len__', '__lshift__', '__lt__', '__matmul__', '__mod__', '__mul__', '__ne__', '__neg__', '__new__', '__or__', '__pos__', '__pow__', '__radd__', '__rand__', '__rdivmod__', '__reduce__', '__reduce_ex__', '__repr__', '__rfloordiv__', '__rlshift__', '__rmatmul__', '__rmod__', '__rmul__', '__ror__', '__rpow__', '__rrshift__', '__rshift__', '__rsub__', '__rtruediv__', '__rxor__', '__setattr__', '__setitem__', '__setstate__', '__sizeof__', '__str__', '__sub__', '__subclasshook__', '__truediv__', '__xor__', 'all', 'any', 'argmax', 'argmin', 'argpartition', 'argsort', 'astype', 'base', 'byteswap', 'choose', 'clip', 'compress', 'conj', 'conjugate', 'copy', 'ctypes', 'cumprod', 'cumsum', 'data', 'diagonal', 'dot', 'dtype', 'dump', 'dumps', 'fill', 'flags', 'flat', 'flatten', 'getfield', 'imag', 'item', 'itemset', 'itemsize', 'max', 'mean', 'min', 'nbytes', 'ndim', 'newbyteorder', 'nonzero', 'partition', 'prod', 'ptp', 'put', 'ravel', 'real', 'repeat', 'reshape', 'resize', 'round', 'searchsorted', 'setfield', 'setflags', 'shape', 'size', 'sort', 'squeeze', 'std', 'strides', 'sum', 'swapaxes', 'take', 'tobytes', 'tofile', 'tolist', 'tostring', 'trace', 'transpose', 'var', 'view']\n"
          ]
        }
      ]
    },
    {
      "cell_type": "code",
      "source": [
        "print(a1[0], a1[1], a1[2], a1[3], a1[4])\n",
        "# a1[0] = 4\n",
        "# a1[1] = 5\n",
        "# a1[2] = 6\n",
        "# print(a1)\n",
        "\n"
      ],
      "metadata": {
        "colab": {
          "base_uri": "https://localhost:8080/"
        },
        "id": "hXPV00jmZ8Gs",
        "outputId": "1d7630df-99d8-47df-a630-5d00875172b9"
      },
      "execution_count": 6,
      "outputs": [
        {
          "output_type": "stream",
          "name": "stdout",
          "text": [
            "1 2 3 4 5\n"
          ]
        }
      ]
    },
    {
      "cell_type": "code",
      "source": [
        "#tuple로 배열 만들기\n",
        "a1t = np.array((1,2,3,4,5))\n",
        "array_info(a1t, retrieve_name(a1t))\n",
        "a1t[0] = 10\n",
        "print(a1t)"
      ],
      "metadata": {
        "colab": {
          "base_uri": "https://localhost:8080/"
        },
        "id": "RYffHaekZ83j",
        "outputId": "98ef1857-7b53-44ff-99e5-0bc5a0e9aedc"
      },
      "execution_count": 7,
      "outputs": [
        {
          "output_type": "stream",
          "name": "stdout",
          "text": [
            "************************************************************\n",
            "<<<array_info func:['a1t']>>>\n",
            "************************************************************\n",
            "array= [1 2 3 4 5]\n",
            "type= <class 'numpy.ndarray'>\n",
            "ndim: 1\n",
            "shape: (5,)\n",
            "dtype: int64\n",
            "size: 5\n",
            "itemsize: 8\n",
            "nbytes: 40\n",
            "strides: (8,)\n",
            "************************************************************\n",
            "[10  2  3  4  5]\n"
          ]
        }
      ]
    },
    {
      "cell_type": "code",
      "metadata": {
        "id": "vp9tkHH8esXT",
        "colab": {
          "base_uri": "https://localhost:8080/"
        },
        "outputId": "095abb3f-1e1c-48b2-a94c-97da424c424a"
      },
      "source": [
        "a1_5 = np.array([\n",
        "                 [1,2,3,4,5]\n",
        "                 ])\n",
        "array_info(a1_5, retrieve_name(a1_5))\n",
        "\n",
        "#shape->(1,5) : 1 means row, 5 means column\n"
      ],
      "execution_count": 8,
      "outputs": [
        {
          "output_type": "stream",
          "name": "stdout",
          "text": [
            "************************************************************\n",
            "<<<array_info func:['a1_5']>>>\n",
            "************************************************************\n",
            "array= [[1 2 3 4 5]]\n",
            "type= <class 'numpy.ndarray'>\n",
            "ndim: 2\n",
            "shape: (1, 5)\n",
            "dtype: int64\n",
            "size: 5\n",
            "itemsize: 8\n",
            "nbytes: 40\n",
            "strides: (40, 8)\n",
            "************************************************************\n"
          ]
        }
      ]
    },
    {
      "cell_type": "code",
      "source": [
        "a2_3 = np.array([\n",
        "    [1, 2, 3],\n",
        "    [4, 5, 6]\n",
        "    ])\n",
        "\n",
        "array_info(a2_3, retrieve_name(a2_3))\n",
        "\n",
        "print(\"a2_3[0][0]=\", a2_3[0][0])\n",
        "print(\"a2_3[1][1]=\", a2_3[1][1])\n"
      ],
      "metadata": {
        "colab": {
          "base_uri": "https://localhost:8080/"
        },
        "id": "Kb-lPeHYaufD",
        "outputId": "22cf2209-9a5c-4237-8174-aa560c3bf810"
      },
      "execution_count": 9,
      "outputs": [
        {
          "output_type": "stream",
          "name": "stdout",
          "text": [
            "************************************************************\n",
            "<<<array_info func:['a2_3']>>>\n",
            "************************************************************\n",
            "array= [[1 2 3]\n",
            " [4 5 6]]\n",
            "type= <class 'numpy.ndarray'>\n",
            "ndim: 2\n",
            "shape: (2, 3)\n",
            "dtype: int64\n",
            "size: 6\n",
            "itemsize: 8\n",
            "nbytes: 48\n",
            "strides: (24, 8)\n",
            "************************************************************\n",
            "a2_3[0][0]= 1\n",
            "a2_3[1][1]= 5\n"
          ]
        }
      ]
    },
    {
      "cell_type": "code",
      "source": [
        "a3_3 = np.array([[1, 2, 3],\n",
        "               [4, 5, 6],\n",
        "               [7, 8, 9]])\n",
        "array_info(a3_3, retrieve_name(a3_3))\n",
        "\n",
        "print(a3_3[0, 0], a3_3[1][0], a3_3[2][0])\n",
        "\n",
        "\n"
      ],
      "metadata": {
        "colab": {
          "base_uri": "https://localhost:8080/"
        },
        "id": "RiKjI9gHaxwE",
        "outputId": "0315aa8c-1582-43cd-8e85-57df18583555"
      },
      "execution_count": 10,
      "outputs": [
        {
          "output_type": "stream",
          "name": "stdout",
          "text": [
            "************************************************************\n",
            "<<<array_info func:['a3_3']>>>\n",
            "************************************************************\n",
            "array= [[1 2 3]\n",
            " [4 5 6]\n",
            " [7 8 9]]\n",
            "type= <class 'numpy.ndarray'>\n",
            "ndim: 2\n",
            "shape: (3, 3)\n",
            "dtype: int64\n",
            "size: 9\n",
            "itemsize: 8\n",
            "nbytes: 72\n",
            "strides: (24, 8)\n",
            "************************************************************\n",
            "1 4 7\n"
          ]
        }
      ]
    },
    {
      "cell_type": "code",
      "source": [
        "a4_3 = np.array([[1, 2, 3],\n",
        "               [4, 5, 6],\n",
        "               [7, 8, 9],\n",
        "               [10, 11, 12]])\n",
        "\n",
        "array_info(a4_3, retrieve_name(a4_3))"
      ],
      "metadata": {
        "colab": {
          "base_uri": "https://localhost:8080/"
        },
        "id": "ZL1Dz4NpazhL",
        "outputId": "ee4bdf62-d9b1-4f5a-a226-26ec138bca01"
      },
      "execution_count": 11,
      "outputs": [
        {
          "output_type": "stream",
          "name": "stdout",
          "text": [
            "************************************************************\n",
            "<<<array_info func:['a4_3']>>>\n",
            "************************************************************\n",
            "array= [[ 1  2  3]\n",
            " [ 4  5  6]\n",
            " [ 7  8  9]\n",
            " [10 11 12]]\n",
            "type= <class 'numpy.ndarray'>\n",
            "ndim: 2\n",
            "shape: (4, 3)\n",
            "dtype: int64\n",
            "size: 12\n",
            "itemsize: 8\n",
            "nbytes: 96\n",
            "strides: (24, 8)\n",
            "************************************************************\n"
          ]
        }
      ]
    },
    {
      "cell_type": "code",
      "metadata": {
        "id": "Baj4gZ2meuJu",
        "colab": {
          "base_uri": "https://localhost:8080/"
        },
        "outputId": "57bff090-bcd4-4c17-fb2f-7d11c607be11"
      },
      "source": [
        "a2_2_3 = np.array([ \n",
        "                 \n",
        "                 [[1, 2, 3], \n",
        "                  [4, 5, 6]],\n",
        "                             \n",
        "                 [[7, 8, 9], \n",
        "                  [10, 11, 12]] \n",
        "                 \n",
        "                 ])\n",
        "array_info(a2_2_3, retrieve_name(a2_2_3))\n",
        "print(\"a2_2_3[0][1][2]=\", a2_2_3[0][1][2])\n",
        "print(\"a2_2_3[1][1][2]=\", a2_2_3[1][1][2])\n",
        "\n",
        "\n"
      ],
      "execution_count": 12,
      "outputs": [
        {
          "output_type": "stream",
          "name": "stdout",
          "text": [
            "************************************************************\n",
            "<<<array_info func:['a2_2_3']>>>\n",
            "************************************************************\n",
            "array= [[[ 1  2  3]\n",
            "  [ 4  5  6]]\n",
            "\n",
            " [[ 7  8  9]\n",
            "  [10 11 12]]]\n",
            "type= <class 'numpy.ndarray'>\n",
            "ndim: 3\n",
            "shape: (2, 2, 3)\n",
            "dtype: int64\n",
            "size: 12\n",
            "itemsize: 8\n",
            "nbytes: 96\n",
            "strides: (48, 24, 8)\n",
            "************************************************************\n",
            "a2_2_3[0][1][2]= 6\n",
            "a2_2_3[1][1][2]= 12\n"
          ]
        }
      ]
    },
    {
      "cell_type": "code",
      "source": [
        "a3_3_4 = np.array([ \n",
        "                 [[1, 2, 3, 4], \n",
        "                  [5, 6, 7, 8], \n",
        "                  [9, 10, 11, 12]],\n",
        "                 \n",
        "                 [\n",
        "                  [13, 14, 15, 16], \n",
        "                  [17, 18, 19, 20], \n",
        "                  [21, 22, 23, 24]\n",
        "                  ],\n",
        "                 \n",
        "                 [\n",
        "                  [25, 26, 27, 28], \n",
        "                  [29, 30, 31, 32], \n",
        "                  [33, 34, 35, 36]\n",
        "                 ]\n",
        "])\n",
        "array_info(a3_3_4, retrieve_name(a3_3_4))\n",
        "\n"
      ],
      "metadata": {
        "colab": {
          "base_uri": "https://localhost:8080/"
        },
        "id": "A0KZt7KKbxij",
        "outputId": "c5f4228a-cada-45ab-8223-b9ec04405628"
      },
      "execution_count": 13,
      "outputs": [
        {
          "output_type": "stream",
          "name": "stdout",
          "text": [
            "************************************************************\n",
            "<<<array_info func:['a3_3_4']>>>\n",
            "************************************************************\n",
            "array= [[[ 1  2  3  4]\n",
            "  [ 5  6  7  8]\n",
            "  [ 9 10 11 12]]\n",
            "\n",
            " [[13 14 15 16]\n",
            "  [17 18 19 20]\n",
            "  [21 22 23 24]]\n",
            "\n",
            " [[25 26 27 28]\n",
            "  [29 30 31 32]\n",
            "  [33 34 35 36]]]\n",
            "type= <class 'numpy.ndarray'>\n",
            "ndim: 3\n",
            "shape: (3, 3, 4)\n",
            "dtype: int64\n",
            "size: 36\n",
            "itemsize: 8\n",
            "nbytes: 288\n",
            "strides: (96, 32, 8)\n",
            "************************************************************\n"
          ]
        }
      ]
    },
    {
      "cell_type": "code",
      "source": [
        "a4_3_3 = np.array([ [[1, 2, 3], [4, 5, 6], [7, 8, 9]],\n",
        "               [[1, 2, 3], [4, 5, 6], [7, 8, 9]],\n",
        "               [[1, 2, 3], [4, 5, 6], [7, 8, 9]],\n",
        "               [[1, 2, 3], [4, 5, 6], [7, 8, 9]] ])\n",
        "array_info(a4_3_3, retrieve_name(a4_3_3))"
      ],
      "metadata": {
        "colab": {
          "base_uri": "https://localhost:8080/"
        },
        "id": "MX6cQ0ulclEs",
        "outputId": "3cc0ae59-76a2-4897-c274-3824bc93c9e4"
      },
      "execution_count": 15,
      "outputs": [
        {
          "output_type": "stream",
          "name": "stdout",
          "text": [
            "************************************************************\n",
            "<<<array_info func:['a4_3_3']>>>\n",
            "************************************************************\n",
            "array= [[[1 2 3]\n",
            "  [4 5 6]\n",
            "  [7 8 9]]\n",
            "\n",
            " [[1 2 3]\n",
            "  [4 5 6]\n",
            "  [7 8 9]]\n",
            "\n",
            " [[1 2 3]\n",
            "  [4 5 6]\n",
            "  [7 8 9]]\n",
            "\n",
            " [[1 2 3]\n",
            "  [4 5 6]\n",
            "  [7 8 9]]]\n",
            "type= <class 'numpy.ndarray'>\n",
            "ndim: 3\n",
            "shape: (4, 3, 3)\n",
            "dtype: int64\n",
            "size: 36\n",
            "itemsize: 8\n",
            "nbytes: 288\n",
            "strides: (72, 24, 8)\n",
            "************************************************************\n"
          ]
        }
      ]
    },
    {
      "cell_type": "code",
      "source": [
        "a2_2_or_3_3 = np.array([ \n",
        "    [[1, 2, 3], \n",
        "     [4, 5, 6]],\n",
        "    \n",
        "    [[1, 2, 3], \n",
        "     [4, 5, 6], \n",
        "     [7, 8, 9]]])\n",
        "array_info(a2_2_or_3_3, retrieve_name(a2_2_or_3_3))"
      ],
      "metadata": {
        "colab": {
          "base_uri": "https://localhost:8080/"
        },
        "id": "0LH_-WpBduXz",
        "outputId": "7083702c-c5e0-43d1-9029-491babe9ad8f"
      },
      "execution_count": null,
      "outputs": [
        {
          "output_type": "stream",
          "name": "stdout",
          "text": [
            "************************************************************\n",
            "<<<array_info func:['a2_2_or_3_3']>>>\n",
            "************************************************************\n",
            "array= [list([[1, 2, 3], [4, 5, 6]]) list([[1, 2, 3], [4, 5, 6], [7, 8, 9]])]\n",
            "type= <class 'numpy.ndarray'>\n",
            "ndim: 1\n",
            "shape: (2,)\n",
            "dtype: object\n",
            "size: 2\n",
            "itemsize: 8\n",
            "nbytes: 16\n",
            "strides: (8,)\n",
            "************************************************************\n"
          ]
        },
        {
          "output_type": "stream",
          "name": "stderr",
          "text": [
            "/usr/local/lib/python3.7/dist-packages/ipykernel_launcher.py:7: VisibleDeprecationWarning: Creating an ndarray from ragged nested sequences (which is a list-or-tuple of lists-or-tuples-or ndarrays with different lengths or shapes) is deprecated. If you meant to do this, you must specify 'dtype=object' when creating the ndarray.\n",
            "  import sys\n"
          ]
        }
      ]
    },
    {
      "cell_type": "code",
      "source": [
        "a2_2_or_3_3 = np.array([ \n",
        "    [[1, 2, 3], \n",
        "     [4, 5, 6]],\n",
        "    \n",
        "    [[1, 2, 3], \n",
        "     [4, 5, 6], \n",
        "     [7, 8, 9]]], dtype=object)\n",
        "array_info(a2_2_or_3_3, retrieve_name(a2_2_or_3_3))"
      ],
      "metadata": {
        "colab": {
          "base_uri": "https://localhost:8080/"
        },
        "id": "RMYhcMw-c3bj",
        "outputId": "0ebdee98-27aa-480b-c3eb-aea170b534e4"
      },
      "execution_count": null,
      "outputs": [
        {
          "output_type": "stream",
          "name": "stdout",
          "text": [
            "************************************************************\n",
            "<<<array_info func:['a2_2_or_3_3']>>>\n",
            "------------------------------------------------------------\n",
            "array= [list([[1, 2, 3], [4, 5, 6]]) list([[1, 2, 3], [4, 5, 6], [7, 8, 9]])]\n",
            "type= <class 'numpy.ndarray'>\n",
            "ndim: 1\n",
            "shape: (2,)\n",
            "dtype: object\n",
            "size: 2\n",
            "itemsize: 8\n",
            "nbytes: 16\n",
            "strides: (8,)\n",
            "************************************************************\n"
          ]
        }
      ]
    },
    {
      "cell_type": "code",
      "source": [
        "# aVD = np.array([\n",
        "                 \n",
        "#                  [[1, 2, 3], \n",
        "#                   [4, 5, 6]],\n",
        "\n",
        "#                  [[1, 2, 3], \n",
        "#                   [4, 5, 6], \n",
        "#                   [7, 8, 9]]\n",
        "                  \n",
        "#                  ])\n",
        "\n",
        "# aVD = np.array([\n",
        "#                 [[1, 2, 3], \n",
        "#                  [4, 5, 6]],\n",
        "\n",
        "#                 [[1, 2, 3],\n",
        "#                  [4, 5, 6],\n",
        "#                  [7, 8, 9]]\n",
        "#                 ], dtype=object)\n",
        "# VisibleDeprecationWarning: 비정형 중첩 \n",
        "# sequences(lengths 또는 shapes이 다른 list 또는 tuple 또는 ndarray의 list 또는 tuple)에서 \n",
        "# ndarray를 만드는 것은 더 이상 사용되지 않습니다. \n",
        "# 이렇게 하려면 ndarray를 만들 때 'dtype=object'를 지정해야 합니다.\n",
        "\n",
        "\n",
        "print(\"*\" * 40)\n",
        "aVD = np.array((1,2,3,4,5))\n",
        "array_info(aVD, retrieve_name(aVD))"
      ],
      "metadata": {
        "colab": {
          "base_uri": "https://localhost:8080/"
        },
        "id": "ZyzKywFMc0dc",
        "outputId": "70095239-4585-460e-b8ae-ed48ea0a74bc"
      },
      "execution_count": null,
      "outputs": [
        {
          "output_type": "stream",
          "name": "stdout",
          "text": [
            "****************************************\n",
            "************************************************************\n",
            "<<<array_info func:['aVD']>>>\n",
            "------------------------------------------------------------\n",
            "array= [1 2 3 4 5]\n",
            "type= <class 'numpy.ndarray'>\n",
            "ndim: 1\n",
            "shape: (5,)\n",
            "dtype: int64\n",
            "size: 5\n",
            "itemsize: 8\n",
            "nbytes: 40\n",
            "strides: (8,)\n",
            "************************************************************\n"
          ]
        }
      ]
    },
    {
      "cell_type": "markdown",
      "metadata": {
        "id": "PNkKtw4CoSDB"
      },
      "source": [
        "### 배열 생성 및 초기화"
      ]
    },
    {
      "cell_type": "markdown",
      "metadata": {
        "id": "mJVii5p_VfgM"
      },
      "source": [
        "* `zeros()`: 모든 요소를 0으로 초기화"
      ]
    },
    {
      "cell_type": "code",
      "source": [
        "# z1 = np.zeros(10)\n",
        "# array_info(z1, retrieve_name(z1))\n",
        "# print(\"*\" * 50)\n",
        "# z2 = np.zeros((2, 10)) #1st para = axis0[row numbers], 2nd para = axis1[column numbers]\n",
        "# array_info(z2, retrieve_name(z2))\n",
        "# print(\"*\" * 50)\n",
        "z3 = np.zeros((2,10,3)) #1st para=axis2[depth numbers], 1st para = axis0[row numbers], 2nd para = axis1[column numbers]\n",
        "array_info(z3, retrieve_name(z3))\n"
      ],
      "metadata": {
        "colab": {
          "base_uri": "https://localhost:8080/"
        },
        "id": "8s6SDhQtJ-Yc",
        "outputId": "1d9e5b15-217f-4faa-9207-1db3ece335fb"
      },
      "execution_count": 16,
      "outputs": [
        {
          "output_type": "stream",
          "name": "stdout",
          "text": [
            "************************************************************\n",
            "<<<array_info func:['z3']>>>\n",
            "************************************************************\n",
            "array= [[[0. 0. 0.]\n",
            "  [0. 0. 0.]\n",
            "  [0. 0. 0.]\n",
            "  [0. 0. 0.]\n",
            "  [0. 0. 0.]\n",
            "  [0. 0. 0.]\n",
            "  [0. 0. 0.]\n",
            "  [0. 0. 0.]\n",
            "  [0. 0. 0.]\n",
            "  [0. 0. 0.]]\n",
            "\n",
            " [[0. 0. 0.]\n",
            "  [0. 0. 0.]\n",
            "  [0. 0. 0.]\n",
            "  [0. 0. 0.]\n",
            "  [0. 0. 0.]\n",
            "  [0. 0. 0.]\n",
            "  [0. 0. 0.]\n",
            "  [0. 0. 0.]\n",
            "  [0. 0. 0.]\n",
            "  [0. 0. 0.]]]\n",
            "type= <class 'numpy.ndarray'>\n",
            "ndim: 3\n",
            "shape: (2, 10, 3)\n",
            "dtype: float64\n",
            "size: 60\n",
            "itemsize: 8\n",
            "nbytes: 480\n",
            "strides: (240, 24, 8)\n",
            "************************************************************\n"
          ]
        }
      ]
    },
    {
      "cell_type": "markdown",
      "metadata": {
        "id": "LjYFQrODVqhX"
      },
      "source": [
        "* `ones()`: 모든 요소를 1로 초기화"
      ]
    },
    {
      "cell_type": "code",
      "metadata": {
        "id": "MURoqsMsVeUw",
        "colab": {
          "base_uri": "https://localhost:8080/"
        },
        "outputId": "fd9f0269-b831-4d60-b5c7-8dd3e8c6b84a"
      },
      "source": [
        "# o1 = np.ones(10)\n",
        "# array_info(o1, retrieve_name(o1))\n",
        "\n",
        "# o2 = np.ones((2, 10)) #1st para = axis0[row numbers], 2nd para = axis1[column numbers]\n",
        "# array_info(o2, retrieve_name(o2))\n",
        "\n",
        "o3 = np.ones((2,1,10))\n",
        "array_info(o3, retrieve_name(o3))"
      ],
      "execution_count": 17,
      "outputs": [
        {
          "output_type": "stream",
          "name": "stdout",
          "text": [
            "************************************************************\n",
            "<<<array_info func:['o3']>>>\n",
            "************************************************************\n",
            "array= [[[1. 1. 1. 1. 1. 1. 1. 1. 1. 1.]]\n",
            "\n",
            " [[1. 1. 1. 1. 1. 1. 1. 1. 1. 1.]]]\n",
            "type= <class 'numpy.ndarray'>\n",
            "ndim: 3\n",
            "shape: (2, 1, 10)\n",
            "dtype: float64\n",
            "size: 20\n",
            "itemsize: 8\n",
            "nbytes: 160\n",
            "strides: (80, 80, 8)\n",
            "************************************************************\n"
          ]
        }
      ]
    },
    {
      "cell_type": "markdown",
      "metadata": {
        "id": "jnmm3Cj-cGtx"
      },
      "source": [
        "* `full()`: 모든 요소를 지정한 값으로 초기화"
      ]
    },
    {
      "cell_type": "code",
      "metadata": {
        "id": "oscabrdcV7Ny",
        "colab": {
          "base_uri": "https://localhost:8080/"
        },
        "outputId": "e8e235d9-755a-43be-df76-5f53a98e6aad"
      },
      "source": [
        "f1 = np.full((3, 4, 3), 5) #1st para = axis2[depth numbers], 2nd para = axis0[row numbers], 3rd para = axis1[column numbers]\n",
        "array_info(f1, retrieve_name(f1))"
      ],
      "execution_count": 18,
      "outputs": [
        {
          "output_type": "stream",
          "name": "stdout",
          "text": [
            "************************************************************\n",
            "<<<array_info func:['f1']>>>\n",
            "************************************************************\n",
            "array= [[[5 5 5]\n",
            "  [5 5 5]\n",
            "  [5 5 5]\n",
            "  [5 5 5]]\n",
            "\n",
            " [[5 5 5]\n",
            "  [5 5 5]\n",
            "  [5 5 5]\n",
            "  [5 5 5]]\n",
            "\n",
            " [[5 5 5]\n",
            "  [5 5 5]\n",
            "  [5 5 5]\n",
            "  [5 5 5]]]\n",
            "type= <class 'numpy.ndarray'>\n",
            "ndim: 3\n",
            "shape: (3, 4, 3)\n",
            "dtype: int64\n",
            "size: 36\n",
            "itemsize: 8\n",
            "nbytes: 288\n",
            "strides: (96, 24, 8)\n",
            "************************************************************\n"
          ]
        }
      ]
    },
    {
      "cell_type": "markdown",
      "metadata": {
        "id": "0SRI4jbmlIKc"
      },
      "source": [
        "* `eye()`: 단위행렬(identity matrix) 생성\n",
        "  + 주대각선의 원소가 모두 1이고 나머지 원소는 모두 0인 정사각 행렬"
      ]
    },
    {
      "cell_type": "code",
      "metadata": {
        "id": "VceBVLLjk9o5",
        "colab": {
          "base_uri": "https://localhost:8080/"
        },
        "outputId": "3609fb30-bcc7-4e1b-9397-d1c9b2e37c7f"
      },
      "source": [
        "e1 = np.eye(3)\n",
        "array_info(e1, retrieve_name(e1))\n",
        "afeye = np.array([[2., 0., 0.],\n",
        "       [0., 2., 0.],\n",
        "       [0., 0., 2.]])\n",
        "print(\"afeye=\", afeye)\n",
        "ret = e1 * afeye # elementwise product\n",
        "array_info(ret, retrieve_name(ret))\n",
        "\n",
        "e2 = np.eye(4)\n",
        "array_info(e2, retrieve_name(e2))"
      ],
      "execution_count": 19,
      "outputs": [
        {
          "output_type": "stream",
          "name": "stdout",
          "text": [
            "************************************************************\n",
            "<<<array_info func:['e1']>>>\n",
            "************************************************************\n",
            "array= [[1. 0. 0.]\n",
            " [0. 1. 0.]\n",
            " [0. 0. 1.]]\n",
            "type= <class 'numpy.ndarray'>\n",
            "ndim: 2\n",
            "shape: (3, 3)\n",
            "dtype: float64\n",
            "size: 9\n",
            "itemsize: 8\n",
            "nbytes: 72\n",
            "strides: (24, 8)\n",
            "************************************************************\n",
            "afeye= [[2. 0. 0.]\n",
            " [0. 2. 0.]\n",
            " [0. 0. 2.]]\n",
            "************************************************************\n",
            "<<<array_info func:['ret']>>>\n",
            "************************************************************\n",
            "array= [[2. 0. 0.]\n",
            " [0. 2. 0.]\n",
            " [0. 0. 2.]]\n",
            "type= <class 'numpy.ndarray'>\n",
            "ndim: 2\n",
            "shape: (3, 3)\n",
            "dtype: float64\n",
            "size: 9\n",
            "itemsize: 8\n",
            "nbytes: 72\n",
            "strides: (24, 8)\n",
            "************************************************************\n",
            "************************************************************\n",
            "<<<array_info func:['e2']>>>\n",
            "************************************************************\n",
            "array= [[1. 0. 0. 0.]\n",
            " [0. 1. 0. 0.]\n",
            " [0. 0. 1. 0.]\n",
            " [0. 0. 0. 1.]]\n",
            "type= <class 'numpy.ndarray'>\n",
            "ndim: 2\n",
            "shape: (4, 4)\n",
            "dtype: float64\n",
            "size: 16\n",
            "itemsize: 8\n",
            "nbytes: 128\n",
            "strides: (32, 8)\n",
            "************************************************************\n"
          ]
        }
      ]
    },
    {
      "cell_type": "markdown",
      "metadata": {
        "id": "7CCH1ZMT5R02"
      },
      "source": [
        "* `tri()`: 삼각행렬 생성"
      ]
    },
    {
      "cell_type": "code",
      "metadata": {
        "id": "mLe2Bhj05VYu",
        "colab": {
          "base_uri": "https://localhost:8080/"
        },
        "outputId": "bf452263-5c22-4a1a-d472-917db89c273f"
      },
      "source": [
        "np.tri(4)"
      ],
      "execution_count": 20,
      "outputs": [
        {
          "output_type": "execute_result",
          "data": {
            "text/plain": [
              "array([[1., 0., 0., 0.],\n",
              "       [1., 1., 0., 0.],\n",
              "       [1., 1., 1., 0.],\n",
              "       [1., 1., 1., 1.]])"
            ]
          },
          "metadata": {},
          "execution_count": 20
        }
      ]
    },
    {
      "cell_type": "markdown",
      "metadata": {
        "id": "ObZRA4HclZlO"
      },
      "source": [
        "* `empty()`: 초기화되지 않은 배열 생성\n",
        "  + 초기화가 없어서 배열 생성비용 저렴하고 빠름\n",
        "  + 초기화되지 않아서 기존 메모리 위치에 존재하는 더미값이 있음"
      ]
    },
    {
      "cell_type": "code",
      "metadata": {
        "id": "I3SoFgiglAkz",
        "colab": {
          "base_uri": "https://localhost:8080/"
        },
        "outputId": "80380064-ff30-459f-cd52-64fd0c1ad924"
      },
      "source": [
        "np.empty(10)"
      ],
      "execution_count": 21,
      "outputs": [
        {
          "output_type": "execute_result",
          "data": {
            "text/plain": [
              "array([1., 1., 1., 1., 1., 1., 1., 1., 1., 1.])"
            ]
          },
          "metadata": {},
          "execution_count": 21
        }
      ]
    },
    {
      "cell_type": "markdown",
      "metadata": {
        "id": "p3uSl1Ccmi5_"
      },
      "source": [
        "* `_like()`: 지정된 배열과 shape가 같은 행렬 생성\n",
        "  + `np.zeros_like()`\n",
        "  + `np.ones_like()`\n",
        "  + `np.full_like()`\n",
        "  + `np.empty_like()`"
      ]
    },
    {
      "cell_type": "code",
      "metadata": {
        "id": "Ad5RskRRlZLs",
        "colab": {
          "base_uri": "https://localhost:8080/"
        },
        "outputId": "c26b6968-03ce-4912-c1fd-fd6952dd4b6e"
      },
      "source": [
        "array_info(a1, retrieve_name(a1))\n",
        "zl1 = np.zeros_like(a1)\n",
        "array_info(zl1, retrieve_name(zl1))"
      ],
      "execution_count": 22,
      "outputs": [
        {
          "output_type": "stream",
          "name": "stdout",
          "text": [
            "************************************************************\n",
            "<<<array_info func:['a1']>>>\n",
            "************************************************************\n",
            "array= [1 2 3 4 5]\n",
            "type= <class 'numpy.ndarray'>\n",
            "ndim: 1\n",
            "shape: (5,)\n",
            "dtype: int64\n",
            "size: 5\n",
            "itemsize: 8\n",
            "nbytes: 40\n",
            "strides: (8,)\n",
            "************************************************************\n",
            "************************************************************\n",
            "<<<array_info func:['zl1']>>>\n",
            "************************************************************\n",
            "array= [0 0 0 0 0]\n",
            "type= <class 'numpy.ndarray'>\n",
            "ndim: 1\n",
            "shape: (5,)\n",
            "dtype: int64\n",
            "size: 5\n",
            "itemsize: 8\n",
            "nbytes: 40\n",
            "strides: (8,)\n",
            "************************************************************\n"
          ]
        }
      ]
    },
    {
      "cell_type": "code",
      "metadata": {
        "id": "KChUHsG003Nf",
        "colab": {
          "base_uri": "https://localhost:8080/"
        },
        "outputId": "d8419d38-9c9e-4e1a-9fb9-6553b6cd2f14"
      },
      "source": [
        "print(a2_3)\n",
        "np.ones_like(a2_3)"
      ],
      "execution_count": 23,
      "outputs": [
        {
          "output_type": "stream",
          "name": "stdout",
          "text": [
            "[[1 2 3]\n",
            " [4 5 6]]\n"
          ]
        },
        {
          "output_type": "execute_result",
          "data": {
            "text/plain": [
              "array([[1, 1, 1],\n",
              "       [1, 1, 1]])"
            ]
          },
          "metadata": {},
          "execution_count": 23
        }
      ]
    },
    {
      "cell_type": "code",
      "metadata": {
        "id": "PUnDz6b305Gg",
        "colab": {
          "base_uri": "https://localhost:8080/"
        },
        "outputId": "2192ac7b-9fc3-4351-dbc1-76ae323ec61d"
      },
      "source": [
        "print(a3_3_4)\n",
        "np.full_like(a3_3_4, 10)"
      ],
      "execution_count": 24,
      "outputs": [
        {
          "output_type": "stream",
          "name": "stdout",
          "text": [
            "[[[ 1  2  3  4]\n",
            "  [ 5  6  7  8]\n",
            "  [ 9 10 11 12]]\n",
            "\n",
            " [[13 14 15 16]\n",
            "  [17 18 19 20]\n",
            "  [21 22 23 24]]\n",
            "\n",
            " [[25 26 27 28]\n",
            "  [29 30 31 32]\n",
            "  [33 34 35 36]]]\n"
          ]
        },
        {
          "output_type": "execute_result",
          "data": {
            "text/plain": [
              "array([[[10, 10, 10, 10],\n",
              "        [10, 10, 10, 10],\n",
              "        [10, 10, 10, 10]],\n",
              "\n",
              "       [[10, 10, 10, 10],\n",
              "        [10, 10, 10, 10],\n",
              "        [10, 10, 10, 10]],\n",
              "\n",
              "       [[10, 10, 10, 10],\n",
              "        [10, 10, 10, 10],\n",
              "        [10, 10, 10, 10]]])"
            ]
          },
          "metadata": {},
          "execution_count": 24
        }
      ]
    },
    {
      "cell_type": "markdown",
      "metadata": {
        "id": "apoksGJNrn1z"
      },
      "source": [
        "### 생성한 값으로 배열 생성"
      ]
    },
    {
      "cell_type": "markdown",
      "metadata": {
        "id": "H3nmLct8cnV8"
      },
      "source": [
        "* `arange()`: 정수 범위로 배열 생성. \n",
        "주어진 간격 내에서 균일한 간격의 값을 반환합니다."
      ]
    },
    {
      "cell_type": "code",
      "metadata": {
        "id": "mANy4WY4cDKa",
        "colab": {
          "base_uri": "https://localhost:8080/"
        },
        "outputId": "b4986a4b-6b2a-47f5-eaaf-a1ad39ab38f4"
      },
      "source": [
        "li = np.arange(0, 30, 3)\n",
        "array_info(li, retrieve_name(li))"
      ],
      "execution_count": 25,
      "outputs": [
        {
          "output_type": "stream",
          "name": "stdout",
          "text": [
            "************************************************************\n",
            "<<<array_info func:['li']>>>\n",
            "************************************************************\n",
            "array= [ 0  3  6  9 12 15 18 21 24 27]\n",
            "type= <class 'numpy.ndarray'>\n",
            "ndim: 1\n",
            "shape: (10,)\n",
            "dtype: int64\n",
            "size: 10\n",
            "itemsize: 8\n",
            "nbytes: 80\n",
            "strides: (8,)\n",
            "************************************************************\n"
          ]
        }
      ]
    },
    {
      "cell_type": "markdown",
      "metadata": {
        "id": "s5kET1e6itlo"
      },
      "source": [
        "* `linspace()`: 범위 내에서 균등 간격의 배열 생성"
      ]
    },
    {
      "cell_type": "code",
      "metadata": {
        "id": "XE6C-7ijyjIt",
        "colab": {
          "base_uri": "https://localhost:8080/"
        },
        "outputId": "33ce3923-0457-43d7-af91-95aa1a411b2c"
      },
      "source": [
        "# print(np.linspace(0, 1, 4))\n",
        "# # print(\"*************************\")\n",
        "# print(np.linspace(0, 1, 5))\n",
        "# print(\"*************************\")\n",
        "print(np.linspace(0, 1, 10))"
      ],
      "execution_count": 26,
      "outputs": [
        {
          "output_type": "stream",
          "name": "stdout",
          "text": [
            "[0.         0.11111111 0.22222222 0.33333333 0.44444444 0.55555556\n",
            " 0.66666667 0.77777778 0.88888889 1.        ]\n"
          ]
        }
      ]
    },
    {
      "cell_type": "code",
      "source": [
        "N = 8\n",
        "\n",
        "y = np.zeros(N)\n",
        "print(\"y=\", y)\n",
        "\n",
        "x1 = np.linspace(0, 10, N, endpoint=True) # If True, stop is the last sample. Otherwise, it is not included. Default is True.\n",
        "print(\"x1=\", x1)\n",
        "x2 = np.linspace(0, 10, N, endpoint=False)\n",
        "print(\"x2=\", x2)\n",
        "plt.plot(x1, y, 'ro')\n",
        "plt.plot(x2, y + 0.5, 'go')\n",
        "plt.ylim((-0.5, 1)) #plt.ylim([-0.5, 1])"
      ],
      "metadata": {
        "id": "gW1mRbVWYMJS",
        "colab": {
          "base_uri": "https://localhost:8080/",
          "height": 362
        },
        "outputId": "5248cfc2-5112-4f4d-f180-1b0af630c86e"
      },
      "execution_count": 27,
      "outputs": [
        {
          "output_type": "stream",
          "name": "stdout",
          "text": [
            "y= [0. 0. 0. 0. 0. 0. 0. 0.]\n",
            "x1= [ 0.          1.42857143  2.85714286  4.28571429  5.71428571  7.14285714\n",
            "  8.57142857 10.        ]\n",
            "x2= [0.   1.25 2.5  3.75 5.   6.25 7.5  8.75]\n"
          ]
        },
        {
          "output_type": "execute_result",
          "data": {
            "text/plain": [
              "(-0.5, 1.0)"
            ]
          },
          "metadata": {},
          "execution_count": 27
        },
        {
          "output_type": "display_data",
          "data": {
            "text/plain": [
              "<Figure size 432x288 with 1 Axes>"
            ],
            "image/png": "[encoded data removed]"
          },
          "metadata": {
            "needs_background": "light"
          }
        }
      ]
    },
    {
      "cell_type": "markdown",
      "metadata": {
        "id": "Eq26d7T3nnAH"
      },
      "source": [
        "* `logspace()`: 범위 내에서 균등간격으로 로그 스케일로 배열 생성</br>\n",
        "\n"
      ]
    },
    {
      "cell_type": "code",
      "source": [
        "# y = np.linspace(start, stop, num=num, endpoint=endpoint)\n",
        "# power(base, y).astype(dtype)\n",
        "# y = np.linspace(10000, 100000, num=4)\n",
        "# print(\"y=\", y)\n",
        "\n",
        "# ls1 = np.logspace(4.0, 5.0, num=4) # log10 100 = 2 [10^2]\n",
        "#                                    # log10 215.443469 = 2.3333333334537105 [10^2.3333333334537105]\n",
        "#                                    # log10 464.15888336 = 2.666666667149989 [10^2.666666667149989]\n",
        "#                                    # log10 1000 = 3 [10^3]\n",
        "# array_info(ls1, retrieve_name(ls1))\n",
        "\n",
        "# ls2 = np.logspace(2.0, 3.0, num=4, endpoint=False)\n",
        "# array_info(ls2, retrieve_name(ls2))\n",
        "\n",
        "ls3 = np.logspace(2.0, 3.0, num=4, base=2.0) # log2 4 = 2 [2^2]\n",
        "                                             # log2 5.03968424 = 2.3333333334537105 [2^2.3333333334537105]\n",
        "                                             # log2 6.34960421 = 2.666666667149989 [2^2.666666667149989]\n",
        "                                             # log2 8 = 3 [2^3]\n",
        "array_info(ls3, retrieve_name(ls3))\n",
        "\n"
      ],
      "metadata": {
        "colab": {
          "base_uri": "https://localhost:8080/"
        },
        "id": "chb-kthvRFNS",
        "outputId": "669c7267-2d7a-4737-c8ad-67cb8d244045"
      },
      "execution_count": 28,
      "outputs": [
        {
          "output_type": "stream",
          "name": "stdout",
          "text": [
            "************************************************************\n",
            "<<<array_info func:['ls3']>>>\n",
            "************************************************************\n",
            "array= [4.         5.0396842  6.34960421 8.        ]\n",
            "type= <class 'numpy.ndarray'>\n",
            "ndim: 1\n",
            "shape: (4,)\n",
            "dtype: float64\n",
            "size: 4\n",
            "itemsize: 8\n",
            "nbytes: 32\n",
            "strides: (8,)\n",
            "************************************************************\n"
          ]
        }
      ]
    },
    {
      "cell_type": "code",
      "source": [
        "#import matplotlib.pyplot as plt\n",
        "N = 10\n",
        "x1 = np.logspace(0.1, 1, N, endpoint=True)  # log10 1.25892541 = about 0.1 [10^0.1] \n",
        "                                            # log10 1.58489319 = 0.19999999932 [10^0.19999999932]\n",
        "                                            # log10 1.99526231 = 0.29999999891 [10^0.29999999891]\n",
        "                                            # log10 2.51188643 = 0.39999999973 [10^0.39999999973]\n",
        "                                            # log10 3.16227766 = 0.49999999997 [10^0.49999999997]\n",
        "                                            # log10 3.98107171 = 0.60000000048 [10^0.60000000048]\n",
        "                                            # log10 5.01187234 = 0.70000000032 [10^0.70000000032]\n",
        "                                            # log10 6.30957344 = 0.79999999966 [10^0.79999999966]\n",
        "                                            # log10 7.94328235 = 0.90000000015 [10^0.90000000015]\n",
        "                                            # log10 10 = 1 [10^1]\n",
        "                                            \n",
        "print(x1)\n",
        "x2 = np.logspace(0.1, 1, N, endpoint=False)\n",
        "print(x2)\n",
        "y = np.zeros(N)\n",
        "plt.plot(x1, y, 'o')\n",
        "plt.plot(x2, y + 0.5, 'o')\n",
        "plt.ylim([-0.5, 1])\n",
        "plt.show()"
      ],
      "metadata": {
        "colab": {
          "base_uri": "https://localhost:8080/",
          "height": 344
        },
        "id": "Zu4rw3r_RVdt",
        "outputId": "45f2e0e9-da08-41ed-eb6e-fd3d248c996d"
      },
      "execution_count": 29,
      "outputs": [
        {
          "output_type": "stream",
          "name": "stdout",
          "text": [
            "[ 1.25892541  1.58489319  1.99526231  2.51188643  3.16227766  3.98107171\n",
            "  5.01187234  6.30957344  7.94328235 10.        ]\n",
            "[1.25892541 1.54881662 1.90546072 2.34422882 2.8840315  3.54813389\n",
            " 4.36515832 5.37031796 6.60693448 8.12830516]\n"
          ]
        },
        {
          "output_type": "display_data",
          "data": {
            "text/plain": [
              "<Figure size 432x288 with 1 Axes>"
            ],
            "image/png": "[encoded data removed]"
          },
          "metadata": {
            "needs_background": "light"
          }
        }
      ]
    },
    {
      "cell_type": "code",
      "metadata": {
        "id": "-O29WBVEnyXX",
        "colab": {
          "base_uri": "https://localhost:8080/"
        },
        "outputId": "ec848788-9a29-4130-bc73-a70d5fc955ea"
      },
      "source": [
        "ls1 = np.logspace(0.1, 1, 10)\n",
        "print(ls1.ndim)\n",
        "print(ls1.shape)\n",
        "print(ls1)\n",
        "\n",
        "ls2 = np.logspace(0.1, 1, 20)\n",
        "print(ls2.ndim)\n",
        "print(ls2.shape)\n",
        "print(ls2)"
      ],
      "execution_count": 30,
      "outputs": [
        {
          "output_type": "stream",
          "name": "stdout",
          "text": [
            "1\n",
            "(10,)\n",
            "[ 1.25892541  1.58489319  1.99526231  2.51188643  3.16227766  3.98107171\n",
            "  5.01187234  6.30957344  7.94328235 10.        ]\n",
            "1\n",
            "(20,)\n",
            "[ 1.25892541  1.40400425  1.565802    1.74624535  1.94748304  2.1719114\n",
            "  2.42220294  2.70133812  3.0126409   3.35981829  3.74700446  4.17881006\n",
            "  4.66037703  5.19743987  5.79639395  6.46437163  7.2093272   8.04013161\n",
            "  8.9666781  10.        ]\n"
          ]
        }
      ]
    },
    {
      "cell_type": "markdown",
      "metadata": {
        "id": "6_88s4_Jr7fO"
      },
      "source": [
        "### 랜덤값으로 배열 생성\n",
        "\n",
        "|함수|설명|\n",
        "-----|-----\n",
        "|`seed`|난수 발생을 위한 시드 지정|\n",
        "|`permutation`|순서를 임의로 바꾸거나 임의의 순열 반환|\n",
        "|`shuffle`|리스트나 배열의 순서를 뒤섞음|\n",
        "|`random`|랜덤한 수의 배열 생성|\n",
        "|`rand`|균등분포에서 표본 추출|\n",
        "|`randint`|주어진 최소/최대 범위의 난수 추출|\n",
        "|`randn`|표준편차가 1, 평균값 0인 정규분포의 표본 추출|\n",
        "|`binomial`|이항분포에서 표본추출|\n",
        "|`normal`|정규분포에서 표본 추출|\n",
        "|`beta`|베타분포에서 표본 추출|\n",
        "|`chisquare`|카이제곱분포에서 표본 추출|\n",
        "|`gamma`|감마분포에서 표본 추출|\n",
        "|`uniform`|균등(0,1)분포에서 표본 추출|\n",
        "\n"
      ]
    },
    {
      "cell_type": "markdown",
      "metadata": {
        "id": "CoK1cVUkjNMg"
      },
      "source": [
        "* `random.random()`: 랜덤한 수의 배열 생성\n",
        "\n",
        "Return random floats in the half-open interval [0.0, 1.0).\n",
        "\n",
        "<font color=\"yellow\">\n",
        "*half-open interval:</br>\n",
        "endpoint 중 하나는 포함하지만 다른 endpoint는 포함하지 않는 real line[실수선]의 간격: 즉, 상위 또는 하위 중 하나는 포함하지만 둘 모두는 포함하지 않습니다.\n",
        "</font>"
      ]
    },
    {
      "cell_type": "code",
      "metadata": {
        "id": "qJwccKEnjMze",
        "colab": {
          "base_uri": "https://localhost:8080/"
        },
        "outputId": "2e6b288b-d352-4fad-dc0f-a53ec8296b25"
      },
      "source": [
        "np.random.random((3,3))"
      ],
      "execution_count": null,
      "outputs": [
        {
          "output_type": "execute_result",
          "data": {
            "text/plain": [
              "array([[0.74106584, 0.94270275, 0.4383043 ],\n",
              "       [0.71835215, 0.2036786 , 0.73457812],\n",
              "       [0.53162477, 0.53455094, 0.79709881]])"
            ]
          },
          "metadata": {},
          "execution_count": 93
        }
      ]
    },
    {
      "cell_type": "markdown",
      "metadata": {
        "id": "BYsAVwA1kvDI"
      },
      "source": [
        "* `random.randint()`: 일정 구간의 랜덤 정수의 배열 생성"
      ]
    },
    {
      "cell_type": "code",
      "metadata": {
        "id": "oR-UszZ_jqfQ",
        "colab": {
          "base_uri": "https://localhost:8080/"
        },
        "outputId": "74656693-e006-40b5-e36c-2adb000c69ec"
      },
      "source": [
        "np.random.randint(0, 10, (3, 3))"
      ],
      "execution_count": null,
      "outputs": [
        {
          "output_type": "execute_result",
          "data": {
            "text/plain": [
              "array([[5, 4, 8],\n",
              "       [7, 1, 3],\n",
              "       [9, 7, 0]])"
            ]
          },
          "metadata": {},
          "execution_count": 94
        }
      ]
    },
    {
      "cell_type": "markdown",
      "metadata": {
        "id": "2r557WHsjrL3"
      },
      "source": [
        "* `random.normal()`: 정규분포(normal distribution)를 고려한 랜덤한 수의 배열 생성\n",
        "* 평균=0, 표준편차=1, 3 x 3 배열"
      ]
    },
    {
      "cell_type": "code",
      "metadata": {
        "id": "Oan3bSpHi2Wq",
        "colab": {
          "base_uri": "https://localhost:8080/"
        },
        "outputId": "2070466f-a6ff-443c-93e8-b2b394dbd8dd"
      },
      "source": [
        "np.random.normal(0, 1, size=(3, 3)) # np.random.normal(0, 1, (3, 3))"
      ],
      "execution_count": null,
      "outputs": [
        {
          "output_type": "execute_result",
          "data": {
            "text/plain": [
              "array([[ 0.69368744, -0.22284433,  1.11072894],\n",
              "       [ 0.98185038, -1.50394342,  0.13210971],\n",
              "       [-1.38289193, -0.48626609,  0.52650815]])"
            ]
          },
          "metadata": {},
          "execution_count": 95
        }
      ]
    },
    {
      "cell_type": "markdown",
      "metadata": {
        "id": "fPO-D1rHsrFw"
      },
      "source": [
        "* `random.rand()`: 균등분포(uniform distribution)를 고려한 랜덤한 수의 배열 생성"
      ]
    },
    {
      "cell_type": "code",
      "metadata": {
        "id": "DxiyEjnXnDUT",
        "colab": {
          "base_uri": "https://localhost:8080/"
        },
        "outputId": "9526407e-ba14-494f-8443-1dab84e5ceaa"
      },
      "source": [
        "np.random.rand(3, 3)"
      ],
      "execution_count": null,
      "outputs": [
        {
          "output_type": "execute_result",
          "data": {
            "text/plain": [
              "array([[0.26330919, 0.58435649, 0.10472055],\n",
              "       [0.17782229, 0.72456631, 0.78002434],\n",
              "       [0.79314566, 0.57902772, 0.81663614]])"
            ]
          },
          "metadata": {},
          "execution_count": 96
        }
      ]
    },
    {
      "cell_type": "markdown",
      "metadata": {
        "id": "IegH2dsPLQgd"
      },
      "source": [
        "* `random.randn()`: 표준 정규 분포(standard normal distribution)를 고려한 랜덤한 수의 배열 생성"
      ]
    },
    {
      "cell_type": "code",
      "metadata": {
        "id": "V61VHa-JLIma",
        "colab": {
          "base_uri": "https://localhost:8080/"
        },
        "outputId": "eaafc28f-8ade-4482-da4b-d2f3ffd23d46"
      },
      "source": [
        "np.random.randn(3, 3)"
      ],
      "execution_count": null,
      "outputs": [
        {
          "output_type": "execute_result",
          "data": {
            "text/plain": [
              "array([[-0.75297217, -1.9883867 , -0.87986504],\n",
              "       [-1.0288964 ,  0.44996364, -1.590076  ],\n",
              "       [-2.74439051, -1.91672441, -0.53852267]])"
            ]
          },
          "metadata": {},
          "execution_count": 97
        }
      ]
    },
    {
      "cell_type": "markdown",
      "metadata": {
        "id": "5ts0cYLQL_pT"
      },
      "source": [
        "### 표준 데이터 타입\n",
        "\n",
        "|데이터 타입|설명|\n",
        "-----------|-------------\n",
        "|`bool_`|바이트로 저장된 boolean으로 True 또는 False 값을 가짐|\n",
        "|`int_`|기본 정수 타입|\n",
        "|`intc`|C언어에서 사용되는 `int`와 동일(일반적으로 `int32` 또는 `int64`)|\n",
        "|`intp`|C언어에서 `ssize_t`와 동일, 일반적으로 `int32` 또는 `int64`|\n",
        "|`int8`|8 비트 정수타입(-128~127)|\n",
        "|`int16`|16 비트 정수 타입(-32768~32767)|\n",
        "|`int32`|32 비트 정수  타입(-2147483648~2147483647)|\n",
        "|`int64`|64 비트 정수 타입(-9223372036854775808~9223372036854775807)|\n",
        "|`uint8`|8 비트 부호 없는 정수(0~255)|\n",
        "|`uint16`|16 비트 부호 없는 정수(0~65535)|\n",
        "|`uint32`|32 비트 부호 없는 정수(0~4294967295)|\n",
        "|`uint64`|64 비트 부호 없는 정수(0~1844674407379551615)|\n",
        "|`float16`|반정밀 부동 소수점|\n",
        "|`float32`|단정밀 부동 소수점|\n",
        "|`float64`|배정밀 부동 소수점|\n",
        "|`float_`|`float64`를 줄여서 표현|\n",
        "|`complex64`|복소수, 두 개의 32 비트 부동 소수점으로 표현|\n",
        "|`complex128`|복소수, 두 개의 64비트 부동 소수점으로 표현|\n",
        "|`complex_`|`complex128'를 줄여서 표현|"
      ]
    },
    {
      "cell_type": "code",
      "metadata": {
        "id": "rxqTqAFKL73y",
        "colab": {
          "base_uri": "https://localhost:8080/"
        },
        "outputId": "94ab4734-a0ef-4898-85a4-4fa5c71c366c"
      },
      "source": [
        "np.zeros(20, dtype=int)"
      ],
      "execution_count": null,
      "outputs": [
        {
          "output_type": "execute_result",
          "data": {
            "text/plain": [
              "array([0, 0, 0, 0, 0, 0, 0, 0, 0, 0, 0, 0, 0, 0, 0, 0, 0, 0, 0, 0])"
            ]
          },
          "metadata": {},
          "execution_count": 98
        }
      ]
    },
    {
      "cell_type": "code",
      "metadata": {
        "id": "o9TuSl6HIsXr",
        "colab": {
          "base_uri": "https://localhost:8080/"
        },
        "outputId": "cee84183-097f-4c5b-868d-568c47100885"
      },
      "source": [
        "np.ones((3, 3), dtype=bool)"
      ],
      "execution_count": null,
      "outputs": [
        {
          "output_type": "execute_result",
          "data": {
            "text/plain": [
              "array([[ True,  True,  True],\n",
              "       [ True,  True,  True],\n",
              "       [ True,  True,  True]])"
            ]
          },
          "metadata": {},
          "execution_count": 99
        }
      ]
    },
    {
      "cell_type": "code",
      "metadata": {
        "id": "w-TciNfzEhY0",
        "colab": {
          "base_uri": "https://localhost:8080/"
        },
        "outputId": "18b3b87c-cf79-4087-ecc5-e8acb541c9ca"
      },
      "source": [
        "np.full((3, 3), 1.0, dtype=float)"
      ],
      "execution_count": null,
      "outputs": [
        {
          "output_type": "execute_result",
          "data": {
            "text/plain": [
              "array([[1., 1., 1.],\n",
              "       [1., 1., 1.],\n",
              "       [1., 1., 1.]])"
            ]
          },
          "metadata": {},
          "execution_count": 100
        }
      ]
    },
    {
      "cell_type": "markdown",
      "metadata": {
        "id": "1qFumu-p-0mQ"
      },
      "source": [
        "### 날짜/시간 배열 생성\n",
        "\n",
        "|코드|의미|상대적 시간 범위|절대적 시간 범위|\n",
        "---|---|----|-----\n",
        "|`Y`|연|± 9.2e18 년|[9.2e18 BC, 9.2e18 AD]|\n",
        "|`M`|월|± 7.6e17 년|[, ]|\n",
        "|`W`|주|± 1.7e17 년|[, ]|\n",
        "|`D`|일|± 2.5e16 년|[, ]|\n",
        "|`h`|시|± 1.0e15 년|[, ]|\n",
        "|`m`|분|± 1.7e13 년|[, ]|\n",
        "|`s`|초|± 2.9e12 년|[, ]|\n",
        "|`ms`|밀리초|± 2.9e9 년|[, ]|\n",
        "|`us`|마이크로초|± 2.9e6 년|[, ]|\n",
        "|`ns`|나노추|± 292 년|[, ]|\n",
        "|`ps`|피코초|± 106 일|[, ]|\n",
        "|`fs`|펨토초|± 2.6 시간|[, ]|\n",
        "|`as`|아토초|± 9.2 초|[, ]|\n"
      ]
    },
    {
      "cell_type": "code",
      "metadata": {
        "id": "D8ozvTUf-6Rr",
        "colab": {
          "base_uri": "https://localhost:8080/"
        },
        "outputId": "e42c3263-4d0c-4abe-da25-1567a61f6307"
      },
      "source": [
        "date = np.array('2021-11-05', dtype=np.datetime64)\n",
        "array_info(date, retrieve_name(date))"
      ],
      "execution_count": null,
      "outputs": [
        {
          "output_type": "stream",
          "name": "stdout",
          "text": [
            "************************************************************\n",
            "<<<array_info func:['date']>>>\n",
            "------------------------------------------------------------\n",
            "array= 2021-11-05\n",
            "type= <class 'numpy.ndarray'>\n",
            "ndim: 0\n",
            "shape: ()\n",
            "dtype: datetime64[D]\n",
            "size: 1\n",
            "itemsize: 8\n",
            "nbytes: 8\n",
            "strides: ()\n",
            "************************************************************\n"
          ]
        }
      ]
    },
    {
      "cell_type": "code",
      "metadata": {
        "id": "XIjLUkn6_K3J",
        "colab": {
          "base_uri": "https://localhost:8080/"
        },
        "outputId": "91b00d03-9074-4de1-cb5b-5c96e51fce48"
      },
      "source": [
        "date + np.arange(12)"
      ],
      "execution_count": null,
      "outputs": [
        {
          "output_type": "execute_result",
          "data": {
            "text/plain": [
              "array(['2021-11-05', '2021-11-06', '2021-11-07', '2021-11-08',\n",
              "       '2021-11-09', '2021-11-10', '2021-11-11', '2021-11-12',\n",
              "       '2021-11-13', '2021-11-14', '2021-11-15', '2021-11-16'],\n",
              "      dtype='datetime64[D]')"
            ]
          },
          "metadata": {},
          "execution_count": 102
        }
      ]
    },
    {
      "cell_type": "code",
      "metadata": {
        "id": "EO7yE5VR_Wlh",
        "colab": {
          "base_uri": "https://localhost:8080/"
        },
        "outputId": "0adb69a6-da1b-417c-c964-143071086278"
      },
      "source": [
        "datetime = np.datetime64('2021-11-05 12:00')\n",
        "datetime"
      ],
      "execution_count": null,
      "outputs": [
        {
          "output_type": "execute_result",
          "data": {
            "text/plain": [
              "numpy.datetime64('2021-11-05T12:00')"
            ]
          },
          "metadata": {},
          "execution_count": 103
        }
      ]
    },
    {
      "cell_type": "code",
      "metadata": {
        "id": "3dnOlf9i_kzX",
        "colab": {
          "base_uri": "https://localhost:8080/"
        },
        "outputId": "bb5321b8-0f9d-4c5c-ddc1-fd872d3b5d56"
      },
      "source": [
        "datetime = np.datetime64('2021-11-05 12:00:12.34', 'ns')\n",
        "datetime"
      ],
      "execution_count": null,
      "outputs": [
        {
          "output_type": "execute_result",
          "data": {
            "text/plain": [
              "numpy.datetime64('2021-11-05T12:00:12.340000000')"
            ]
          },
          "metadata": {},
          "execution_count": 104
        }
      ]
    },
    {
      "cell_type": "markdown",
      "metadata": {
        "id": "5AREIamhGxAr"
      },
      "source": [
        "\n",
        "\n",
        "---\n",
        "\n"
      ]
    },
    {
      "cell_type": "markdown",
      "metadata": {
        "id": "d88tkTqbBE5V"
      },
      "source": [
        "## 배열 조회"
      ]
    },
    {
      "cell_type": "markdown",
      "metadata": {
        "id": "vRqwfbjtFnPn"
      },
      "source": [
        "### 배열 속성 정보"
      ]
    },
    {
      "cell_type": "code",
      "metadata": {
        "id": "jktqh1lsLf4V",
        "colab": {
          "base_uri": "https://localhost:8080/"
        },
        "outputId": "61198b2b-2578-4561-983c-a1f885acd58f"
      },
      "source": [
        "array_info(a2_2_3, retrieve_name(a2_2_3))  "
      ],
      "execution_count": 31,
      "outputs": [
        {
          "output_type": "stream",
          "name": "stdout",
          "text": [
            "************************************************************\n",
            "<<<array_info func:['a2_2_3']>>>\n",
            "************************************************************\n",
            "array= [[[ 1  2  3]\n",
            "  [ 4  5  6]]\n",
            "\n",
            " [[ 7  8  9]\n",
            "  [10 11 12]]]\n",
            "type= <class 'numpy.ndarray'>\n",
            "ndim: 3\n",
            "shape: (2, 2, 3)\n",
            "dtype: int64\n",
            "size: 12\n",
            "itemsize: 8\n",
            "nbytes: 96\n",
            "strides: (48, 24, 8)\n",
            "************************************************************\n"
          ]
        }
      ]
    },
    {
      "cell_type": "markdown",
      "metadata": {
        "id": "LV1WfdBWFqDu"
      },
      "source": [
        "### 인덱싱(Indexing)"
      ]
    },
    {
      "cell_type": "code",
      "metadata": {
        "id": "Nyb7eDmGFr5m",
        "colab": {
          "base_uri": "https://localhost:8080/"
        },
        "outputId": "2598f9ab-9038-42e9-fd72-5e84739ce72b"
      },
      "source": [
        "# 1d array indexing\n",
        "array_info(a1, retrieve_name(a1))\n",
        "print(\"a1[0]=\", a1[0])\n",
        "print(\"a1[2]=\", a1[2])\n",
        "print(\"a1[-1]=\", a1[-1])\n",
        "print(\"a1[-2]=\", a1[-2])"
      ],
      "execution_count": 32,
      "outputs": [
        {
          "output_type": "stream",
          "name": "stdout",
          "text": [
            "************************************************************\n",
            "<<<array_info func:['a1']>>>\n",
            "************************************************************\n",
            "array= [1 2 3 4 5]\n",
            "type= <class 'numpy.ndarray'>\n",
            "ndim: 1\n",
            "shape: (5,)\n",
            "dtype: int64\n",
            "size: 5\n",
            "itemsize: 8\n",
            "nbytes: 40\n",
            "strides: (8,)\n",
            "************************************************************\n",
            "a1[0]= 1\n",
            "a1[2]= 3\n",
            "a1[-1]= 5\n",
            "a1[-2]= 4\n"
          ]
        }
      ]
    },
    {
      "cell_type": "code",
      "source": [
        "array_info(a2_3, retrieve_name(a2_3))\n",
        "\n",
        "# 2d array indexing\n",
        "print(\"a2_3[0, 0]=\", a2_3[0][0])  # \n",
        "print(\"a2_3[0, 2]=\", a2_3[0][2])  # \n",
        "print(\"a2_3[1, 1]=\", a2_3[1][1])  # \n",
        "print(\"a2_3[1, -1]=\", a2_3[1][-1]) #"
      ],
      "metadata": {
        "colab": {
          "base_uri": "https://localhost:8080/"
        },
        "id": "0GKVl7EHektn",
        "outputId": "7f4de07e-cde0-4827-de1e-898e5b63b83c"
      },
      "execution_count": 33,
      "outputs": [
        {
          "output_type": "stream",
          "name": "stdout",
          "text": [
            "************************************************************\n",
            "<<<array_info func:['a2_3']>>>\n",
            "************************************************************\n",
            "array= [[1 2 3]\n",
            " [4 5 6]]\n",
            "type= <class 'numpy.ndarray'>\n",
            "ndim: 2\n",
            "shape: (2, 3)\n",
            "dtype: int64\n",
            "size: 6\n",
            "itemsize: 8\n",
            "nbytes: 48\n",
            "strides: (24, 8)\n",
            "************************************************************\n",
            "a2_3[0, 0]= 1\n",
            "a2_3[0, 2]= 3\n",
            "a2_3[1, 1]= 5\n",
            "a2_3[1, -1]= 6\n"
          ]
        }
      ]
    },
    {
      "cell_type": "markdown",
      "source": [
        "<font color=\"yellow\">**다차원 배열에서는 콤마로 구분된 인덱스 튜플을 이용해 배열 항목에 접급할 수 있다**</font>"
      ],
      "metadata": {
        "id": "zFw8mWZhLdbd"
      }
    },
    {
      "cell_type": "code",
      "metadata": {
        "id": "uHMNcQW3Kn-h",
        "colab": {
          "base_uri": "https://localhost:8080/"
        },
        "outputId": "0b8baf44-bd9c-434b-e1e1-205ff282b49d"
      },
      "source": [
        "# 2d array indexing\n",
        "array_info(a2_3, retrieve_name(a2_3))\n",
        "tid = (0, 0)\n",
        "print(\"tid type=\", type(tid))\n",
        "print(\"a2_3[0, 0]=\", a2_3[tid])\n",
        "print(\"a2_3[0, 0]=\", a2_3[0, 0])  # \n",
        "print(\"a2_3[0, 2]=\", a2_3[0, 2])  # \n",
        "print(\"a2_3[1, 1]=\", a2_3[1, 1])  # \n",
        "print(\"a2_3[1, -1]=\", a2_3[1, -1]) #"
      ],
      "execution_count": 34,
      "outputs": [
        {
          "output_type": "stream",
          "name": "stdout",
          "text": [
            "************************************************************\n",
            "<<<array_info func:['a2_3']>>>\n",
            "************************************************************\n",
            "array= [[1 2 3]\n",
            " [4 5 6]]\n",
            "type= <class 'numpy.ndarray'>\n",
            "ndim: 2\n",
            "shape: (2, 3)\n",
            "dtype: int64\n",
            "size: 6\n",
            "itemsize: 8\n",
            "nbytes: 48\n",
            "strides: (24, 8)\n",
            "************************************************************\n",
            "tid type= <class 'tuple'>\n",
            "a2_3[0, 0]= 1\n",
            "a2_3[0, 0]= 1\n",
            "a2_3[0, 2]= 3\n",
            "a2_3[1, 1]= 5\n",
            "a2_3[1, -1]= 6\n"
          ]
        }
      ]
    },
    {
      "cell_type": "code",
      "metadata": {
        "id": "IX5yDMGiMxYZ",
        "colab": {
          "base_uri": "https://localhost:8080/"
        },
        "outputId": "392a3259-4d7e-489e-e018-f4844611bd9e"
      },
      "source": [
        "# 3d array indexing\n",
        "array_info(a3_3_4, retrieve_name(a3_3_4))\n",
        "print(\"a3_3_4[0][0][0]=\", a3_3_4[0][0][0])  \n",
        "print(\"a3_3_4[1][1][1]=\", a3_3_4[1][1][1])  \n",
        "print(\"a3_3_4[2][2][2]=\", a3_3_4[2][2][2])  \n",
        "print(\"a3_3_4[2][-1][-1]=\", a3_3_4[2][-1][-1]) \n",
        "print60()\n",
        "print(\"a3_3_4[0, 0, 0]=\", a3_3_4[0, 0, 0])\n",
        "print(\"a3_3_4[1, 1, 1]=\", a3_3_4[1, 1, 1])\n",
        "print(\"a3_3_4[2, 2, 2]=\", a3_3_4[2, 2, 2])  \n",
        "print(\"a3_3_4[2, -1, -1]=\", a3_3_4[2, -1, -1])"
      ],
      "execution_count": 35,
      "outputs": [
        {
          "output_type": "stream",
          "name": "stdout",
          "text": [
            "************************************************************\n",
            "<<<array_info func:['a3_3_4']>>>\n",
            "************************************************************\n",
            "array= [[[ 1  2  3  4]\n",
            "  [ 5  6  7  8]\n",
            "  [ 9 10 11 12]]\n",
            "\n",
            " [[13 14 15 16]\n",
            "  [17 18 19 20]\n",
            "  [21 22 23 24]]\n",
            "\n",
            " [[25 26 27 28]\n",
            "  [29 30 31 32]\n",
            "  [33 34 35 36]]]\n",
            "type= <class 'numpy.ndarray'>\n",
            "ndim: 3\n",
            "shape: (3, 3, 4)\n",
            "dtype: int64\n",
            "size: 36\n",
            "itemsize: 8\n",
            "nbytes: 288\n",
            "strides: (96, 32, 8)\n",
            "************************************************************\n",
            "a3_3_4[0][0][0]= 1\n",
            "a3_3_4[1][1][1]= 18\n",
            "a3_3_4[2][2][2]= 35\n",
            "a3_3_4[2][-1][-1]= 36\n",
            "************************************************************\n",
            "a3_3_4[0, 0, 0]= 1\n",
            "a3_3_4[1, 1, 1]= 18\n",
            "a3_3_4[2, 2, 2]= 35\n",
            "a3_3_4[2, -1, -1]= 36\n"
          ]
        }
      ]
    },
    {
      "cell_type": "markdown",
      "metadata": {
        "id": "uSeXu2y_O4cu"
      },
      "source": [
        "### 슬라이싱(Slicing)"
      ]
    },
    {
      "cell_type": "markdown",
      "metadata": {
        "id": "1hikO_6ZPp5m"
      },
      "source": [
        "* 슬라이싱 구문: `a[start:stop:step]`"
      ]
    },
    {
      "cell_type": "code",
      "source": [
        "# 1d array slicing\n",
        "\n",
        "array_info(a1, retrieve_name(a1))\n",
        "print(\"a1.size=\", a1.size)\n",
        "\n",
        "print(\"a1[:]=\", a1[:])\n",
        "print(\"a1[::]=\", a1[::])\n",
        "print(\"a1[0:]=\", a1[0:])\n",
        "print(\"a1[0:a1.size]=\", a1[0:a1.size])\n",
        "print(\"a1[:1]=\", a1[:1])\n",
        "print(\"a1[::1]=\", a1[::1])\n",
        "print(\"a1[::2]=\", a1[::2])\n",
        "print60()\n",
        "print(\"a1[::-1]=\", a1[::-1]) # reverse!!! : step=-1, 0+(-1)=-1, -1+(-1)=-2, -2+(-1)=-3, -3+(-1)=-4, -4+(-1)=-5...\n",
        "print(\"a1[::-2]=\", a1[::-2]) \n",
        "print(\"a1[:-1:]=\", a1[:-1:]) \n",
        "print(\"a1[:-2:]=\", a1[:-2:]) \n",
        "print(\"a1[-1::]=\", a1[-1::]) \n",
        "print60()"
      ],
      "metadata": {
        "id": "6MZgLHV2z8oe",
        "colab": {
          "base_uri": "https://localhost:8080/"
        },
        "outputId": "c19fba8d-7544-43d2-9143-e6be9cf36d8c"
      },
      "execution_count": 36,
      "outputs": [
        {
          "output_type": "stream",
          "name": "stdout",
          "text": [
            "************************************************************\n",
            "<<<array_info func:['a1']>>>\n",
            "************************************************************\n",
            "array= [1 2 3 4 5]\n",
            "type= <class 'numpy.ndarray'>\n",
            "ndim: 1\n",
            "shape: (5,)\n",
            "dtype: int64\n",
            "size: 5\n",
            "itemsize: 8\n",
            "nbytes: 40\n",
            "strides: (8,)\n",
            "************************************************************\n",
            "a1.size= 5\n",
            "a1[:]= [1 2 3 4 5]\n",
            "a1[::]= [1 2 3 4 5]\n",
            "a1[0:]= [1 2 3 4 5]\n",
            "a1[0:a1.size]= [1 2 3 4 5]\n",
            "a1[:1]= [1]\n",
            "a1[::1]= [1 2 3 4 5]\n",
            "a1[::2]= [1 3 5]\n",
            "************************************************************\n",
            "a1[::-1]= [5 4 3 2 1]\n",
            "a1[::-2]= [5 3 1]\n",
            "a1[:-1:]= [1 2 3 4]\n",
            "a1[:-2:]= [1 2 3]\n",
            "a1[-1::]= [5]\n",
            "************************************************************\n"
          ]
        }
      ]
    },
    {
      "cell_type": "code",
      "source": [
        "# 2d array slicing\n",
        "array_info(a3_3, retrieve_name(a3_3))\n",
        "\n",
        "print(\"a3_3[0][0]=\", a3_3[0][0]) # 특정 item을 액세스하기 위한 인덱싱!!!\n",
        "print(\"a3_3[0]=\", a3_3[0])\n",
        "print(\"a3_3[0:1]=\", a3_3[0:1])\n",
        "print(\"a3_3[0:1].shape=\", a3_3[0:1].shape)\n",
        "print(\"a3_3[1]=\", a3_3[1])\n",
        "# x1 = a3_3[2]\n",
        "# array_info(x1, retrieve_name(x1))\n",
        "print(\"a3_3[2]=\", a3_3[2])\n",
        "# xm1 = a3_3[:1]\n",
        "# array_info(xm1, retrieve_name(xm1))\n",
        "print60()\n",
        "\n",
        "print(\"a3_3[:]=\", a3_3[:])\n",
        "print(\"a3_3[::]=\", a3_3[::])  # a3_3[:]와 a3_3[::] 등가:step 설정은 생략 가능함.\n",
        "print(\"a3_3[0:]=\", a3_3[0:])\n",
        "print(\"a3_3[0:a3_3.size]=\", a3_3[0:a3_3.size])\n",
        "print(\"a3_3[:1]=\", a3_3[:1])\n",
        "print(\"a3_3[:2]=\", a3_3[:2])\n",
        "\n",
        "print(\"a3_3[::1]=\", a3_3[::1])\n",
        "print(\"a3_3[::2]=\", a3_3[::2])\n",
        "print60()\n",
        "\n",
        "print(\"a3_3[0,]=\", a3_3[0,])\n",
        "print(\"a3_3[0,:]=\", a3_3[0,:])\n",
        "print(\"a3_3[0][:]=\", a3_3[0][:])\n",
        "print(\"a3_3[0,::2]=\", a3_3[0,::2])\n",
        "print(\"a3_3[1,]=\", a3_3[1,])\n",
        "print(\"a3_3[1,:]=\", a3_3[1,:])\n",
        "print(\"a3_3[1][:]=\", a3_3[1][:])\n",
        "print(\"a3_3[:2,:]=\", a3_3[:2,:])\n",
        "#print(\"a3_3[,1:3]=\", a3_3[, 1:3]) #SyntaxError\n",
        "print(\"a3_3[0:2, ]=\", a3_3[0:2, ])\n",
        "print(\"a3_3[0:2, :2]=\", a3_3[0:2, :2])\n",
        "print60()\n",
        "\n",
        "\n",
        "print(\"a3_3[1:, :-1]=\", a3_3[1:, :-1]) #column 슬라이싱일 때 step 값 생략되어 있으므로 -1값은 stop값이다\n",
        "print(\"a3_3[1:, ::2]=\", a3_3[1:, ::2])\n",
        "print(\"a3_3[1:, ::-1]=\", a3_3[1:, ::-1]) #step 값이 -1이면 reverse 됨\n",
        "print(\"a3_3[::-1]=\", a3_3[::-1]) # row를 리버스함\n",
        "print(\"a3_3[::-1, ::]=\", a3_3[::-1, ::]) # row를 리버스함\n",
        "print(\"a3_3[::, ::-1]=\", a3_3[::, ::-1]) #column이 리버스됨\n",
        "print(\"a3_3[::-1, ::-1]=\", a3_3[::-1, ::-1]) #row가 먼저 리버스됨. 그리고 column이 리버스됨\n"
      ],
      "metadata": {
        "id": "R3NIHsmg0CHY",
        "colab": {
          "base_uri": "https://localhost:8080/"
        },
        "outputId": "08b049e6-0f8d-431e-a497-117a0bf60a9c"
      },
      "execution_count": 37,
      "outputs": [
        {
          "output_type": "stream",
          "name": "stdout",
          "text": [
            "************************************************************\n",
            "<<<array_info func:['a3_3']>>>\n",
            "************************************************************\n",
            "array= [[1 2 3]\n",
            " [4 5 6]\n",
            " [7 8 9]]\n",
            "type= <class 'numpy.ndarray'>\n",
            "ndim: 2\n",
            "shape: (3, 3)\n",
            "dtype: int64\n",
            "size: 9\n",
            "itemsize: 8\n",
            "nbytes: 72\n",
            "strides: (24, 8)\n",
            "************************************************************\n",
            "a3_3[0][0]= 1\n",
            "a3_3[0]= [1 2 3]\n",
            "a3_3[0:1]= [[1 2 3]]\n",
            "a3_3[0:1].shape= (1, 3)\n",
            "a3_3[1]= [4 5 6]\n",
            "a3_3[2]= [7 8 9]\n",
            "************************************************************\n",
            "a3_3[:]= [[1 2 3]\n",
            " [4 5 6]\n",
            " [7 8 9]]\n",
            "a3_3[::]= [[1 2 3]\n",
            " [4 5 6]\n",
            " [7 8 9]]\n",
            "a3_3[0:]= [[1 2 3]\n",
            " [4 5 6]\n",
            " [7 8 9]]\n",
            "a3_3[0:a3_3.size]= [[1 2 3]\n",
            " [4 5 6]\n",
            " [7 8 9]]\n",
            "a3_3[:1]= [[1 2 3]]\n",
            "a3_3[:2]= [[1 2 3]\n",
            " [4 5 6]]\n",
            "a3_3[::1]= [[1 2 3]\n",
            " [4 5 6]\n",
            " [7 8 9]]\n",
            "a3_3[::2]= [[1 2 3]\n",
            " [7 8 9]]\n",
            "************************************************************\n",
            "a3_3[0,]= [1 2 3]\n",
            "a3_3[0,:]= [1 2 3]\n",
            "a3_3[0][:]= [1 2 3]\n",
            "a3_3[0,::2]= [1 3]\n",
            "a3_3[1,]= [4 5 6]\n",
            "a3_3[1,:]= [4 5 6]\n",
            "a3_3[1][:]= [4 5 6]\n",
            "a3_3[:2,:]= [[1 2 3]\n",
            " [4 5 6]]\n",
            "a3_3[0:2, ]= [[1 2 3]\n",
            " [4 5 6]]\n",
            "a3_3[0:2, :2]= [[1 2]\n",
            " [4 5]]\n",
            "************************************************************\n",
            "a3_3[1:, :-1]= [[4 5]\n",
            " [7 8]]\n",
            "a3_3[1:, ::2]= [[4 6]\n",
            " [7 9]]\n",
            "a3_3[1:, ::-1]= [[6 5 4]\n",
            " [9 8 7]]\n",
            "a3_3[::-1]= [[7 8 9]\n",
            " [4 5 6]\n",
            " [1 2 3]]\n",
            "a3_3[::-1, ::]= [[7 8 9]\n",
            " [4 5 6]\n",
            " [1 2 3]]\n",
            "a3_3[::, ::-1]= [[3 2 1]\n",
            " [6 5 4]\n",
            " [9 8 7]]\n",
            "a3_3[::-1, ::-1]= [[9 8 7]\n",
            " [6 5 4]\n",
            " [3 2 1]]\n"
          ]
        }
      ]
    },
    {
      "cell_type": "code",
      "source": [
        "print(\"a3_3[,1:3]=\", a3_3[, 1:3]) #SyntaxError"
      ],
      "metadata": {
        "colab": {
          "base_uri": "https://localhost:8080/",
          "height": 138
        },
        "id": "SBEVqaHYipgf",
        "outputId": "7afbbdc3-d7dd-470a-af62-467a7a4131ed"
      },
      "execution_count": 38,
      "outputs": [
        {
          "output_type": "error",
          "ename": "SyntaxError",
          "evalue": "ignored",
          "traceback": [
            "\u001b[0;36m  File \u001b[0;32m\"<ipython-input-38-481826f2db92>\"\u001b[0;36m, line \u001b[0;32m1\u001b[0m\n\u001b[0;31m    print(\"a3_3[,1:3]=\", a3_3[, 1:3]) #SyntaxError\u001b[0m\n\u001b[0m                              ^\u001b[0m\n\u001b[0;31mSyntaxError\u001b[0m\u001b[0;31m:\u001b[0m invalid syntax\n"
          ]
        }
      ]
    },
    {
      "cell_type": "code",
      "source": [
        "# 3d array slicing\n",
        "array_info(a3_3_4)\n",
        "\n",
        "# print(\"a3_3_4[0][0][0]=\", a3_3_4[0][0][0]) \n",
        "# print(\"a3_3_4[0]=\", a3_3_4[0])\n",
        "# print(\"a3_3_4[1]=\", a3_3_4[1])\n",
        "# print(\"a3_3_4[2]=\", a3_3_4[2])\n",
        "# print(\"a3_3_4[:]=\",a3_3_4[:])\n",
        "# print60()\n",
        "# print(\"a3_3_4[0][0]=\", a3_3_4[0][0])\n",
        "\n",
        "# print(\"a3_3_4[1:]=\", a3_3_4[1:])\n",
        "# print(\"a3_3_4[1,:]=\",a3_3_4[1,:]) \n",
        "# print(\"a3_3_4[:2,:]=\",a3_3_4[:2,:])\n",
        "\n",
        "# print60()\n",
        "print(\"a3_3_4[1,:2]=\",a3_3_4[1,:2]) \n",
        "print(\"a3_3_4[:,0:2, :2]=\",a3_3_4[:, 0:2, :2])\n",
        "print(\"a3_3_4[1,0:2, :2]=\",a3_3_4[1,0:2, :2])\n",
        "# print60()\n",
        "# print(\"a3_3_4[::-1]=\",a3_3_4[::-1]) # depth가 리버스됨\n",
        "# print(\"a3_3_4[-1::]=\",a3_3_4[-1::]) # 리버스와 혼동하지 않기\n",
        "# print(\"a3_3_4[1:, :, ::-1]=\",a3_3_4[1:, :, ::-1])\n",
        "# print(\"a3_3_4[::-1, ::-1, ]=\",a3_3_4[::-1, ::-1, ])\n",
        "# print(\"a3_3_4[::-1, ::-1, ::-1]=\",a3_3_4[::-1, ::-1, ::-1])"
      ],
      "metadata": {
        "id": "8TVuQTESRZJ-",
        "colab": {
          "base_uri": "https://localhost:8080/"
        },
        "outputId": "502704b8-fb4b-412a-ef85-1fc662fceaff"
      },
      "execution_count": 39,
      "outputs": [
        {
          "output_type": "stream",
          "name": "stdout",
          "text": [
            "************************************************************\n",
            "<<<array_info func:Noname>>>\n",
            "************************************************************\n",
            "array= [[[ 1  2  3  4]\n",
            "  [ 5  6  7  8]\n",
            "  [ 9 10 11 12]]\n",
            "\n",
            " [[13 14 15 16]\n",
            "  [17 18 19 20]\n",
            "  [21 22 23 24]]\n",
            "\n",
            " [[25 26 27 28]\n",
            "  [29 30 31 32]\n",
            "  [33 34 35 36]]]\n",
            "type= <class 'numpy.ndarray'>\n",
            "ndim: 3\n",
            "shape: (3, 3, 4)\n",
            "dtype: int64\n",
            "size: 36\n",
            "itemsize: 8\n",
            "nbytes: 288\n",
            "strides: (96, 32, 8)\n",
            "************************************************************\n",
            "a3_3_4[1,:2]= [[13 14 15 16]\n",
            " [17 18 19 20]]\n",
            "a3_3_4[:,0:2, :2]= [[[ 1  2]\n",
            "  [ 5  6]]\n",
            "\n",
            " [[13 14]\n",
            "  [17 18]]\n",
            "\n",
            " [[25 26]\n",
            "  [29 30]]]\n",
            "a3_3_4[1,0:2, :2]= [[13 14]\n",
            " [17 18]]\n"
          ]
        }
      ]
    },
    {
      "cell_type": "markdown",
      "metadata": {
        "id": "LD52bXAsBgbH"
      },
      "source": [
        "### 불리언 인덱싱(Boolean Indexing)\n",
        "\n",
        "* 배열 각 요소의 선택 여부를 불리언(True or False)로 지정\n",
        "* True 값인 인덱스의 값만 조회"
      ]
    },
    {
      "cell_type": "code",
      "metadata": {
        "id": "pOvNsH2oBgz-",
        "colab": {
          "base_uri": "https://localhost:8080/"
        },
        "outputId": "d15c7292-ed0d-40b0-e091-1b25fed29dd4"
      },
      "source": [
        "array_info(a1)\n",
        "bi = [False, True, True, True, True]\n",
        "#bi = (False, True, True, True, True) # 안됨\n",
        "print(type(bi))\n",
        "print(a1[bi])"
      ],
      "execution_count": 40,
      "outputs": [
        {
          "output_type": "stream",
          "name": "stdout",
          "text": [
            "************************************************************\n",
            "<<<array_info func:Noname>>>\n",
            "************************************************************\n",
            "array= [1 2 3 4 5]\n",
            "type= <class 'numpy.ndarray'>\n",
            "ndim: 1\n",
            "shape: (5,)\n",
            "dtype: int64\n",
            "size: 5\n",
            "itemsize: 8\n",
            "nbytes: 40\n",
            "strides: (8,)\n",
            "************************************************************\n",
            "<class 'list'>\n",
            "[2 3 4 5]\n"
          ]
        }
      ]
    },
    {
      "cell_type": "code",
      "metadata": {
        "id": "EFfquM2kWHAU",
        "colab": {
          "base_uri": "https://localhost:8080/"
        },
        "outputId": "dbffda1f-bad0-4031-b112-2f9f36ff92b5"
      },
      "source": [
        "array_info(a3_3, retrieve_name(a3_3))\n",
        "target_shape = a3_3.shape\n",
        "print(\"target_shape type=\", type(target_shape))\n",
        "#random.randint 함수의 3rd para 타입은 다음과 같다\n",
        "#sizeint or tuple of ints, optional\n",
        "bi = np.random.randint(0, 2, (3, 3))\n",
        "print(\"bi not bool data type=\", bi)\n",
        "bi = np.random.randint(0, 2, (3, 3), dtype=bool) # bool 타입이기 때문에 1st/2nd para가 0~2, \n",
        "                                                 # 즉 0,1 두 수개의 숫자를 가지고 랜덤하게 0 또는 1을 생성 \n",
        "\n",
        "array_info(bi, retrieve_name(bi))\n",
        "ret = a3_3[bi]\n",
        "array_info(ret, retrieve_name(ret))"
      ],
      "execution_count": 41,
      "outputs": [
        {
          "output_type": "stream",
          "name": "stdout",
          "text": [
            "************************************************************\n",
            "<<<array_info func:['a3_3']>>>\n",
            "************************************************************\n",
            "array= [[1 2 3]\n",
            " [4 5 6]\n",
            " [7 8 9]]\n",
            "type= <class 'numpy.ndarray'>\n",
            "ndim: 2\n",
            "shape: (3, 3)\n",
            "dtype: int64\n",
            "size: 9\n",
            "itemsize: 8\n",
            "nbytes: 72\n",
            "strides: (24, 8)\n",
            "************************************************************\n",
            "target_shape type= <class 'tuple'>\n",
            "bi not bool data type= [[0 0 0]\n",
            " [0 1 0]\n",
            " [0 0 0]]\n",
            "************************************************************\n",
            "<<<array_info func:['bi']>>>\n",
            "************************************************************\n",
            "array= [[False False  True]\n",
            " [ True  True False]\n",
            " [False False  True]]\n",
            "type= <class 'numpy.ndarray'>\n",
            "ndim: 2\n",
            "shape: (3, 3)\n",
            "dtype: bool\n",
            "size: 9\n",
            "itemsize: 1\n",
            "nbytes: 9\n",
            "strides: (3, 1)\n",
            "************************************************************\n",
            "************************************************************\n",
            "<<<array_info func:['ret']>>>\n",
            "************************************************************\n",
            "array= [3 4 5 9]\n",
            "type= <class 'numpy.ndarray'>\n",
            "ndim: 1\n",
            "shape: (4,)\n",
            "dtype: int64\n",
            "size: 4\n",
            "itemsize: 8\n",
            "nbytes: 32\n",
            "strides: (8,)\n",
            "************************************************************\n"
          ]
        }
      ]
    },
    {
      "cell_type": "markdown",
      "metadata": {
        "id": "R5hes-hdBujH"
      },
      "source": [
        "### 팬시 인덱싱(Fancy Indedxing)\n",
        "\n",
        "팬시 인덱싱은 단순 인덱싱과 비슷하지만, 단일 `스칼라 대신 인덱스 배열`을 전달한다.</br> 이로써 복잡한 배열 값의 하위 집합에 매우 빠르게 접근해 그것을 수정할 수 있다. 한 번에 여러 배열 요소에 접근하기 위해 인덱스의 배열을 전달한다.</br> 팬시 인덱싱을 이용하면 결과의 형상이 인덱싱 대상 배열의 형상이 아니라, 인덱스 배열의 형상을 반영한다. \n",
        "\n",
        "\n",
        "팬시 인덱싱은 정수나 Boolean 값을 가지는 다른 Numpy 배열로 </br>\n",
        "배열을 인덱싱할 수 있는 기능을 의미함."
      ]
    },
    {
      "cell_type": "code",
      "source": [
        "randgen = np.random.RandomState(42) # 특정 seed 값으로 설정된 random generator를 생성하여 난수를 생성함 \n",
        "rx = randgen.randint(100, size=12)\n",
        "array_info(rx, retrieve_name(rx))"
      ],
      "metadata": {
        "id": "9pTNa5HSETiu",
        "colab": {
          "base_uri": "https://localhost:8080/"
        },
        "outputId": "7489602b-59e1-4aa1-f98c-a99fa3c6160c"
      },
      "execution_count": 42,
      "outputs": [
        {
          "output_type": "stream",
          "name": "stdout",
          "text": [
            "************************************************************\n",
            "<<<array_info func:['rx']>>>\n",
            "************************************************************\n",
            "array= [51 92 14 71 60 20 82 86 74 74 87 99]\n",
            "type= <class 'numpy.ndarray'>\n",
            "ndim: 1\n",
            "shape: (12,)\n",
            "dtype: int64\n",
            "size: 12\n",
            "itemsize: 8\n",
            "nbytes: 96\n",
            "strides: (8,)\n",
            "************************************************************\n"
          ]
        }
      ]
    },
    {
      "cell_type": "markdown",
      "source": [
        "#### 1차원 팬시 인덱싱"
      ],
      "metadata": {
        "id": "bpsFsNDKXtcd"
      }
    },
    {
      "cell_type": "code",
      "source": [
        "print(\"rx=\", rx)\n",
        "np.array([rx[3], rx[7], rx[2]])"
      ],
      "metadata": {
        "id": "Un6ePb1hExrG",
        "colab": {
          "base_uri": "https://localhost:8080/"
        },
        "outputId": "5f55afdd-076c-4e6c-b262-1e74008b78c2"
      },
      "execution_count": 43,
      "outputs": [
        {
          "output_type": "stream",
          "name": "stdout",
          "text": [
            "rx= [51 92 14 71 60 20 82 86 74 74 87 99]\n"
          ]
        },
        {
          "output_type": "execute_result",
          "data": {
            "text/plain": [
              "array([71, 86, 14])"
            ]
          },
          "metadata": {},
          "execution_count": 43
        }
      ]
    },
    {
      "cell_type": "code",
      "source": [
        "print(\"rx=\", rx)\n",
        "ind = [3,7,2]\n",
        "print(type(ind))  # array-like : list, tuple, ndarray\n",
        "rx[ind]"
      ],
      "metadata": {
        "id": "jHYmBZbbE2I9",
        "colab": {
          "base_uri": "https://localhost:8080/"
        },
        "outputId": "a91f529f-06d5-424b-e8ae-f24a75ae3f42"
      },
      "execution_count": 44,
      "outputs": [
        {
          "output_type": "stream",
          "name": "stdout",
          "text": [
            "rx= [51 92 14 71 60 20 82 86 74 74 87 99]\n",
            "<class 'list'>\n"
          ]
        },
        {
          "output_type": "execute_result",
          "data": {
            "text/plain": [
              "array([71, 86, 14])"
            ]
          },
          "metadata": {},
          "execution_count": 44
        }
      ]
    },
    {
      "cell_type": "code",
      "source": [
        "print(\"rx=\", rx)\n",
        "ind = np.array([3,7,2]) # array-like : list, tuple, ndarray\n",
        "print(type(ind))\n",
        "rx[ind]"
      ],
      "metadata": {
        "colab": {
          "base_uri": "https://localhost:8080/"
        },
        "id": "HOcF6K_PmI-d",
        "outputId": "e236f6be-d36a-4c1d-f2d2-aadfb0e69901"
      },
      "execution_count": 45,
      "outputs": [
        {
          "output_type": "stream",
          "name": "stdout",
          "text": [
            "rx= [51 92 14 71 60 20 82 86 74 74 87 99]\n",
            "<class 'numpy.ndarray'>\n"
          ]
        },
        {
          "output_type": "execute_result",
          "data": {
            "text/plain": [
              "array([71, 86, 14])"
            ]
          },
          "metadata": {},
          "execution_count": 45
        }
      ]
    },
    {
      "cell_type": "markdown",
      "source": [
        "#### 2차원 팬시 인덱스"
      ],
      "metadata": {
        "id": "2um-qWVxXwcF"
      }
    },
    {
      "cell_type": "markdown",
      "source": [
        "<font color='yellow'>`팬시 인덱스가  2차원이라면 팬시 인덱스 연산 결과는 2차원이 된다.`</br>\n"
      ],
      "metadata": {
        "id": "ANf4CsOUkwH4"
      }
    },
    {
      "cell_type": "code",
      "source": [
        "print(\"rx=\", rx)\n",
        "ind = np.array([[3,7],    # first row = (rx[3], rx[7])\n",
        "               [4,5]])    # second row = (rx[4], rx[5])\n",
        "print(\"ind =\", ind)\n",
        "array_info(rx[ind])"
      ],
      "metadata": {
        "id": "HDXUBgYqk8T5",
        "colab": {
          "base_uri": "https://localhost:8080/"
        },
        "outputId": "46de17b3-a589-416f-dda0-7581d201af14"
      },
      "execution_count": 46,
      "outputs": [
        {
          "output_type": "stream",
          "name": "stdout",
          "text": [
            "rx= [51 92 14 71 60 20 82 86 74 74 87 99]\n",
            "ind = [[3 7]\n",
            " [4 5]]\n",
            "************************************************************\n",
            "<<<array_info func:Noname>>>\n",
            "************************************************************\n",
            "array= [[71 86]\n",
            " [60 20]]\n",
            "type= <class 'numpy.ndarray'>\n",
            "ndim: 2\n",
            "shape: (2, 2)\n",
            "dtype: int64\n",
            "size: 4\n",
            "itemsize: 8\n",
            "nbytes: 32\n",
            "strides: (16, 8)\n",
            "************************************************************\n"
          ]
        }
      ]
    },
    {
      "cell_type": "code",
      "source": [
        "print(\"rx=\", rx)\n",
        "ind = np.array([[3,7],    # first row = (rx[3], rx[7])\n",
        "                [4,5],    # second row = (rx[4], rx[5])\n",
        "                [0,8]])   # third row = (rx[0], rx[8])\n",
        "print(\"ind =\", ind)\n",
        "print(\"ind.ndim =\", ind.ndim)\n",
        "print(\"ind.shape =\", ind.shape)\n",
        "array_info(rx[ind])"
      ],
      "metadata": {
        "colab": {
          "base_uri": "https://localhost:8080/"
        },
        "id": "EfTxQbzXre3F",
        "outputId": "b345e98f-faf9-4304-ffa1-f1d81277095b"
      },
      "execution_count": 47,
      "outputs": [
        {
          "output_type": "stream",
          "name": "stdout",
          "text": [
            "rx= [51 92 14 71 60 20 82 86 74 74 87 99]\n",
            "ind = [[3 7]\n",
            " [4 5]\n",
            " [0 8]]\n",
            "ind.ndim = 2\n",
            "ind.shape = (3, 2)\n",
            "************************************************************\n",
            "<<<array_info func:Noname>>>\n",
            "************************************************************\n",
            "array= [[71 86]\n",
            " [60 20]\n",
            " [51 74]]\n",
            "type= <class 'numpy.ndarray'>\n",
            "ndim: 2\n",
            "shape: (3, 2)\n",
            "dtype: int64\n",
            "size: 6\n",
            "itemsize: 8\n",
            "nbytes: 48\n",
            "strides: (16, 8)\n",
            "************************************************************\n"
          ]
        }
      ]
    },
    {
      "cell_type": "code",
      "source": [
        "rowv = 3\n",
        "coloumnv = 4\n",
        "arrangep = rowv * coloumnv\n",
        "# prvX = np.arange(arrangep) # (10,)\n",
        "# prvX.reshape((rowv, coloumnv)) # SyntaxError: unexpected EOF[End of File] while parsing\n",
        "X = np.arange(arrangep).reshape((rowv,coloumnv)) #np.array(array-like:list,tuple,ndarray)\n",
        "array_info(X, retrieve_name(X))"
      ],
      "metadata": {
        "id": "bREle2mIFoRF",
        "colab": {
          "base_uri": "https://localhost:8080/"
        },
        "outputId": "5221b6ed-b223-4816-f8b8-7fdf0dfb22ef"
      },
      "execution_count": 48,
      "outputs": [
        {
          "output_type": "stream",
          "name": "stdout",
          "text": [
            "************************************************************\n",
            "<<<array_info func:['X']>>>\n",
            "************************************************************\n",
            "array= [[ 0  1  2  3]\n",
            " [ 4  5  6  7]\n",
            " [ 8  9 10 11]]\n",
            "type= <class 'numpy.ndarray'>\n",
            "ndim: 2\n",
            "shape: (3, 4)\n",
            "dtype: int64\n",
            "size: 12\n",
            "itemsize: 8\n",
            "nbytes: 96\n",
            "strides: (32, 8)\n",
            "************************************************************\n"
          ]
        }
      ]
    },
    {
      "cell_type": "markdown",
      "source": [
        "#### 3차원 팬시 인덱스"
      ],
      "metadata": {
        "id": "7N7aXnhztaZ1"
      }
    },
    {
      "cell_type": "code",
      "source": [
        "# want shape (3, 2, 2)\n",
        "depthv = 3\n",
        "rowv = 2\n",
        "coloumnv = 2\n",
        "arrangep = depthv * rowv * coloumnv\n",
        "\n",
        "X3 = np.arange(arrangep).reshape((depthv,rowv,coloumnv))\n",
        "array_info(X3, retrieve_name(X3))"
      ],
      "metadata": {
        "colab": {
          "base_uri": "https://localhost:8080/"
        },
        "id": "uhNa6nzNm-Vt",
        "outputId": "7822ec25-ec46-428a-c6a8-f9da8567c130"
      },
      "execution_count": 49,
      "outputs": [
        {
          "output_type": "stream",
          "name": "stdout",
          "text": [
            "************************************************************\n",
            "<<<array_info func:['X3']>>>\n",
            "************************************************************\n",
            "array= [[[ 0  1]\n",
            "  [ 2  3]]\n",
            "\n",
            " [[ 4  5]\n",
            "  [ 6  7]]\n",
            "\n",
            " [[ 8  9]\n",
            "  [10 11]]]\n",
            "type= <class 'numpy.ndarray'>\n",
            "ndim: 3\n",
            "shape: (3, 2, 2)\n",
            "dtype: int64\n",
            "size: 12\n",
            "itemsize: 8\n",
            "nbytes: 96\n",
            "strides: (32, 16, 8)\n",
            "************************************************************\n"
          ]
        }
      ]
    },
    {
      "cell_type": "code",
      "source": [
        "print(\"rx=\", rx)\n",
        "print(\"X3=\", X3)\n",
        "array_info(rx[X3])"
      ],
      "metadata": {
        "colab": {
          "base_uri": "https://localhost:8080/"
        },
        "id": "5dp527R6sWX9",
        "outputId": "74ca32b0-0521-4250-8433-f3e36914fc80"
      },
      "execution_count": 50,
      "outputs": [
        {
          "output_type": "stream",
          "name": "stdout",
          "text": [
            "rx= [51 92 14 71 60 20 82 86 74 74 87 99]\n",
            "X3= [[[ 0  1]\n",
            "  [ 2  3]]\n",
            "\n",
            " [[ 4  5]\n",
            "  [ 6  7]]\n",
            "\n",
            " [[ 8  9]\n",
            "  [10 11]]]\n",
            "************************************************************\n",
            "<<<array_info func:Noname>>>\n",
            "************************************************************\n",
            "array= [[[51 92]\n",
            "  [14 71]]\n",
            "\n",
            " [[60 20]\n",
            "  [82 86]]\n",
            "\n",
            " [[74 74]\n",
            "  [87 99]]]\n",
            "type= <class 'numpy.ndarray'>\n",
            "ndim: 3\n",
            "shape: (3, 2, 2)\n",
            "dtype: int64\n",
            "size: 12\n",
            "itemsize: 8\n",
            "nbytes: 96\n",
            "strides: (32, 16, 8)\n",
            "************************************************************\n"
          ]
        }
      ]
    },
    {
      "cell_type": "code",
      "source": [
        "row = np.array([0,1,2])\n",
        "col = np.array([2,1,3])\n",
        "print(\"row=\", row)\n",
        "print(\"col=\", col)"
      ],
      "metadata": {
        "id": "bp-xP7gGFzdN",
        "colab": {
          "base_uri": "https://localhost:8080/"
        },
        "outputId": "50139e1e-5b0d-4d69-c642-c29c50f7fee0"
      },
      "execution_count": 51,
      "outputs": [
        {
          "output_type": "stream",
          "name": "stdout",
          "text": [
            "row= [0 1 2]\n",
            "col= [2 1 3]\n"
          ]
        }
      ]
    },
    {
      "cell_type": "code",
      "source": [
        "print(\"X = \", X)\n",
        "print60()\n",
        "print(\"row = \", row)\n",
        "print(\"col = \", col)\n",
        "print(\"X[row, col] = \", X[row, col]) # X[0,2]->2, X[1,1]->5, X[2,3]->11\n",
        "print60()\n",
        "print(\"X[row, col].ndim = \", X[row, col].ndim)\n",
        "print60()\n",
        "print(\"X[row, col].shape = \", X[row, col].shape) # X[[0,1,2], [2,1,3]]"
      ],
      "metadata": {
        "id": "7itCff8ORI1B",
        "colab": {
          "base_uri": "https://localhost:8080/"
        },
        "outputId": "770784b5-cb7d-4d0c-f90d-955441709e84"
      },
      "execution_count": 52,
      "outputs": [
        {
          "output_type": "stream",
          "name": "stdout",
          "text": [
            "X =  [[ 0  1  2  3]\n",
            " [ 4  5  6  7]\n",
            " [ 8  9 10 11]]\n",
            "************************************************************\n",
            "row =  [0 1 2]\n",
            "col =  [2 1 3]\n",
            "X[row, col] =  [ 2  5 11]\n",
            "************************************************************\n",
            "X[row, col].ndim =  1\n",
            "************************************************************\n",
            "X[row, col].shape =  (3,)\n"
          ]
        }
      ]
    },
    {
      "cell_type": "code",
      "source": [
        "print(X)\n",
        "print(X[[row], [col]])   # X[[[0,1,2]], [[2,1,3]]]\n",
        "print(X[[row], [col]].ndim)\n",
        "print(X[[row], [col]].shape)"
      ],
      "metadata": {
        "id": "jKlRCMNkTBBW",
        "colab": {
          "base_uri": "https://localhost:8080/"
        },
        "outputId": "dfc32341-ecd4-4de1-9017-64cd9df8c985"
      },
      "execution_count": 53,
      "outputs": [
        {
          "output_type": "stream",
          "name": "stdout",
          "text": [
            "[[ 0  1  2  3]\n",
            " [ 4  5  6  7]\n",
            " [ 8  9 10 11]]\n",
            "[[ 2  5 11]]\n",
            "2\n",
            "(1, 3)\n"
          ]
        }
      ]
    },
    {
      "cell_type": "markdown",
      "source": [
        "#### numpy.newaxis 메소드\n",
        "[벡터 행렬](https://ko.wikipedia.org/wiki/%EB%B2%A1%ED%84%B0_%ED%96%89%EB%A0%AC)\n",
        "</br>`numpy.newaxis` 메소드는 Python에서 배열 인덱싱에 사용되는 `None`의 별칭입니다. `numpy.newaxis`의 가장 간단한 사용법은 Python의 NumPy 배열에 새로운 차원을 추가하는 것입니다. 예를 들어 1D 배열을 2D 배열로 변환하고 2D 배열을 3D 배열로 변환하는 등의 작업이 있습니다. Python에서 `numpy.newaxis`를 사용하여 1D 배열을 `행 벡터` 또는 `열 벡터`로 변환 할 수도 있습니다. 다음 코드 예제는 Python에서 `numpy.newaxis`를 사용하여 1D 배열을 `행 벡터`로 변환하는 방법을 보여줍니다."
      ],
      "metadata": {
        "id": "RtlNgZwzWFq6"
      }
    },
    {
      "cell_type": "code",
      "source": [
        "array = np.array([1,2,3,4])\n",
        "array_info(array, retrieve_name(array))\n",
        "\n",
        "array = array[np.newaxis, :]  # create row vector, equal array[np.newaxis]\n",
        "array_info(array, retrieve_name(array))"
      ],
      "metadata": {
        "id": "joNBqlxlWRcA",
        "colab": {
          "base_uri": "https://localhost:8080/"
        },
        "outputId": "317d45f3-de56-49a8-d684-bd3d02a97a41"
      },
      "execution_count": 55,
      "outputs": [
        {
          "output_type": "stream",
          "name": "stdout",
          "text": [
            "************************************************************\n",
            "<<<array_info func:['array']>>>\n",
            "************************************************************\n",
            "array= [1 2 3 4]\n",
            "type= <class 'numpy.ndarray'>\n",
            "ndim: 1\n",
            "shape: (4,)\n",
            "dtype: int64\n",
            "size: 4\n",
            "itemsize: 8\n",
            "nbytes: 32\n",
            "strides: (8,)\n",
            "************************************************************\n",
            "************************************************************\n",
            "<<<array_info func:['array']>>>\n",
            "************************************************************\n",
            "array= [[1 2 3 4]]\n",
            "type= <class 'numpy.ndarray'>\n",
            "ndim: 2\n",
            "shape: (1, 4)\n",
            "dtype: int64\n",
            "size: 4\n",
            "itemsize: 8\n",
            "nbytes: 32\n",
            "strides: (0, 8)\n",
            "************************************************************\n"
          ]
        }
      ]
    },
    {
      "cell_type": "markdown",
      "source": [
        "위 코드에서 `np.newaxis`를 사용하여 `1D array`를 `행 벡터`로 변환했습니다. 먼저 `np.array()`함수를 사용하여 `1D array`를 생성했습니다. 그런 다음`[np.newaxis]`를 `array`의 인덱스로 사용하여 `행 벡터`을 반환했습니다.</br> 다음 코드 예제는 `numpy.newaxis`를 사용하여 `1D array`을 `열 벡터`로 변환하는 방법을 보여줍니다."
      ],
      "metadata": {
        "id": "v7bmy5-1WVdy"
      }
    },
    {
      "cell_type": "code",
      "source": [
        "array = np.array([1,2,3,4])\n",
        "array_info(array, retrieve_name(array))\n",
        "\n",
        "array = array[:, np.newaxis]   # 분명 array는 1d array인데, \n",
        "                               # 2d array 이상일때 사용하는 인덱스 방법을 사용하는 것처럼 보인다...!!!!\n",
        "array_info(array, retrieve_name(array))"
      ],
      "metadata": {
        "id": "-koIGzHRXlFy",
        "colab": {
          "base_uri": "https://localhost:8080/"
        },
        "outputId": "ee1e5047-d0d4-435a-ca8b-e52c7af2b879"
      },
      "execution_count": null,
      "outputs": [
        {
          "output_type": "stream",
          "name": "stdout",
          "text": [
            "************************************************************\n",
            "<<<array_info func:['array']>>>\n",
            "************************************************************\n",
            "array= [1 2 3 4]\n",
            "type= <class 'numpy.ndarray'>\n",
            "ndim: 1\n",
            "shape: (4,)\n",
            "dtype: int64\n",
            "size: 4\n",
            "itemsize: 8\n",
            "nbytes: 32\n",
            "strides: (8,)\n",
            "************************************************************\n",
            "************************************************************\n",
            "<<<array_info func:['array']>>>\n",
            "************************************************************\n",
            "array= [[1]\n",
            " [2]\n",
            " [3]\n",
            " [4]]\n",
            "type= <class 'numpy.ndarray'>\n",
            "ndim: 2\n",
            "shape: (4, 1)\n",
            "dtype: int64\n",
            "size: 4\n",
            "itemsize: 8\n",
            "nbytes: 32\n",
            "strides: (8, 0)\n",
            "************************************************************\n"
          ]
        }
      ]
    },
    {
      "cell_type": "markdown",
      "source": [
        "위 코드에서 1D array를 np.newaxis를 사용하여 `열 벡터`로 변환했습니다. 먼저 `np.array()`함수를 사용하여 `1D array`를 생성했습니다. 그런 다음`[:, np.newaxis]`를 `array`의 인덱스로 사용하여 `열 벡터`을 반환했습니다.</br>\n",
        "앞서 언급했듯이 `numpy.newaxis`는 `None`의 별칭`[alias]`입니다. 따라서 `numpy.newaxis` 대신 `None`을 사용하여 위에서 설명한 두 작업을 모두 수행 할 수도 있습니다. 다음 코드 예제는 Python에서 `None`을 사용하여 1D 배열을 `행 벡터`로 변환하는 방법을 보여줍니다.\n"
      ],
      "metadata": {
        "id": "gRYUNzoXXwGX"
      }
    },
    {
      "cell_type": "code",
      "source": [
        "array = np.array([1,2,3,4])\n",
        "array_info(array, retrieve_name(array))\n",
        "\n",
        "array = array[None]\n",
        "array_info(array, retrieve_name(array))"
      ],
      "metadata": {
        "id": "VK1EB8frYMHf",
        "colab": {
          "base_uri": "https://localhost:8080/"
        },
        "outputId": "c954278e-61af-4aab-9bed-163c5c6064b3"
      },
      "execution_count": 56,
      "outputs": [
        {
          "output_type": "stream",
          "name": "stdout",
          "text": [
            "************************************************************\n",
            "<<<array_info func:['array']>>>\n",
            "************************************************************\n",
            "array= [1 2 3 4]\n",
            "type= <class 'numpy.ndarray'>\n",
            "ndim: 1\n",
            "shape: (4,)\n",
            "dtype: int64\n",
            "size: 4\n",
            "itemsize: 8\n",
            "nbytes: 32\n",
            "strides: (8,)\n",
            "************************************************************\n",
            "************************************************************\n",
            "<<<array_info func:['array']>>>\n",
            "************************************************************\n",
            "array= [[1 2 3 4]]\n",
            "type= <class 'numpy.ndarray'>\n",
            "ndim: 2\n",
            "shape: (1, 4)\n",
            "dtype: int64\n",
            "size: 4\n",
            "itemsize: 8\n",
            "nbytes: 32\n",
            "strides: (0, 8)\n",
            "************************************************************\n"
          ]
        }
      ]
    },
    {
      "cell_type": "code",
      "source": [
        "np.newaxis is None"
      ],
      "metadata": {
        "id": "es95p-IWLhCf",
        "colab": {
          "base_uri": "https://localhost:8080/"
        },
        "outputId": "d98155d2-2f10-438c-e3e0-1c53ffab9523"
      },
      "execution_count": 57,
      "outputs": [
        {
          "output_type": "execute_result",
          "data": {
            "text/plain": [
              "True"
            ]
          },
          "metadata": {},
          "execution_count": 57
        }
      ]
    },
    {
      "cell_type": "markdown",
      "source": [
        "위 코드에서 `1D array`를 Python의 `None`을 사용하여 `행 벡터`로 변환했습니다. 먼저 `np.array()`함수를 사용하여 `1D array`를 생성했습니다. 그런 다음 `[None]`을 `array`의 인덱스로 사용하여 `행 벡터`을 반환했습니다."
      ],
      "metadata": {
        "id": "_KoutywLYSv_"
      }
    },
    {
      "cell_type": "markdown",
      "source": [
        "다음 코드 예제는 Python에서None을 사용하여 1D 배열을 `열 벡터`로 변환하는 방법을 보여줍니다."
      ],
      "metadata": {
        "id": "WMRxmD2sYioT"
      }
    },
    {
      "cell_type": "code",
      "source": [
        "array = np.array([1,2,3,4])\n",
        "array_info(array, retrieve_name(array))\n",
        "\n",
        "array = array[:, None] # np.newaxis is aliace of None\n",
        "array_info(array, retrieve_name(array))"
      ],
      "metadata": {
        "id": "SsOHdR14Yl2y",
        "colab": {
          "base_uri": "https://localhost:8080/"
        },
        "outputId": "2a091a50-6947-4a04-f936-48fe6eae5e4d"
      },
      "execution_count": 58,
      "outputs": [
        {
          "output_type": "stream",
          "name": "stdout",
          "text": [
            "************************************************************\n",
            "<<<array_info func:['array']>>>\n",
            "************************************************************\n",
            "array= [1 2 3 4]\n",
            "type= <class 'numpy.ndarray'>\n",
            "ndim: 1\n",
            "shape: (4,)\n",
            "dtype: int64\n",
            "size: 4\n",
            "itemsize: 8\n",
            "nbytes: 32\n",
            "strides: (8,)\n",
            "************************************************************\n",
            "************************************************************\n",
            "<<<array_info func:['array']>>>\n",
            "************************************************************\n",
            "array= [[1]\n",
            " [2]\n",
            " [3]\n",
            " [4]]\n",
            "type= <class 'numpy.ndarray'>\n",
            "ndim: 2\n",
            "shape: (4, 1)\n",
            "dtype: int64\n",
            "size: 4\n",
            "itemsize: 8\n",
            "nbytes: 32\n",
            "strides: (8, 0)\n",
            "************************************************************\n"
          ]
        }
      ]
    },
    {
      "cell_type": "markdown",
      "source": [
        "위 코드에서 `1D array`를 Python의 `None`을 사용하여 `열 벡터`로 변환했습니다. 먼저 `np.array()`함수를 사용하여 `1D array`를 생성했습니다. 그런 다음 `[:, None]`을 `array`의 인덱스로 사용하여 `열 벡터`을 반환했습니다."
      ],
      "metadata": {
        "id": "2E7yYLfqYsFz"
      }
    },
    {
      "cell_type": "markdown",
      "source": [
        "이번에는 shape(3, 4) 인 2차원의 배열에 길이가 1인 새로운 축을 추가해서 3차원 배열을 만들어보겠습니다.</br>  ` : `를 사용해서 기존 배열의 값을 indexing 하고, np.newaxis attribute로 새로운 축을 추가하게 됩니다."
      ],
      "metadata": {
        "id": "OoKFQ0MFwtyW"
      }
    },
    {
      "cell_type": "code",
      "source": [
        "b = np.arange(12).reshape(3, 4)\n",
        "array_info(b, retrieve_name(b))"
      ],
      "metadata": {
        "id": "4KKJ_mvFwZ8P",
        "colab": {
          "base_uri": "https://localhost:8080/"
        },
        "outputId": "7075acba-1867-4186-b677-62dd0e48708d"
      },
      "execution_count": 60,
      "outputs": [
        {
          "output_type": "stream",
          "name": "stdout",
          "text": [
            "************************************************************\n",
            "<<<array_info func:['b']>>>\n",
            "************************************************************\n",
            "array= [[ 0  1  2  3]\n",
            " [ 4  5  6  7]\n",
            " [ 8  9 10 11]]\n",
            "type= <class 'numpy.ndarray'>\n",
            "ndim: 2\n",
            "shape: (3, 4)\n",
            "dtype: int64\n",
            "size: 12\n",
            "itemsize: 8\n",
            "nbytes: 96\n",
            "strides: (32, 8)\n",
            "************************************************************\n"
          ]
        }
      ]
    },
    {
      "cell_type": "code",
      "source": [
        "print(b)\n",
        "b_3_4_1 = b[:, :, np.newaxis]\n",
        "array_info(b_3_4_1, retrieve_name(b_3_4_1))"
      ],
      "metadata": {
        "id": "5t7hKSBRw_ei",
        "colab": {
          "base_uri": "https://localhost:8080/"
        },
        "outputId": "0769c164-b64f-4346-83b2-eb8b02dc56ca"
      },
      "execution_count": null,
      "outputs": [
        {
          "output_type": "stream",
          "name": "stdout",
          "text": [
            "[[ 0  1  2  3]\n",
            " [ 4  5  6  7]\n",
            " [ 8  9 10 11]]\n",
            "************************************************************\n",
            "<<<array_info func:['b_3_4_1']>>>\n",
            "************************************************************\n",
            "array= [[[ 0]\n",
            "  [ 1]\n",
            "  [ 2]\n",
            "  [ 3]]\n",
            "\n",
            " [[ 4]\n",
            "  [ 5]\n",
            "  [ 6]\n",
            "  [ 7]]\n",
            "\n",
            " [[ 8]\n",
            "  [ 9]\n",
            "  [10]\n",
            "  [11]]]\n",
            "type= <class 'numpy.ndarray'>\n",
            "ndim: 3\n",
            "shape: (3, 4, 1)\n",
            "dtype: int64\n",
            "size: 12\n",
            "itemsize: 8\n",
            "nbytes: 96\n",
            "strides: (32, 8, 0)\n",
            "************************************************************\n"
          ]
        }
      ]
    },
    {
      "cell_type": "code",
      "source": [
        "print(b)\n",
        "b_3_1_4 = b[ :, np.newaxis, : ]\n",
        "array_info(b_3_1_4, retrieve_name(b_3_1_4))"
      ],
      "metadata": {
        "id": "8m9wL4N8xOhX",
        "colab": {
          "base_uri": "https://localhost:8080/"
        },
        "outputId": "1814d233-c5c5-422e-cd8d-4d945f6096e7"
      },
      "execution_count": null,
      "outputs": [
        {
          "output_type": "stream",
          "name": "stdout",
          "text": [
            "[[ 0  1  2  3]\n",
            " [ 4  5  6  7]\n",
            " [ 8  9 10 11]]\n",
            "************************************************************\n",
            "<<<array_info func:['b_3_1_4']>>>\n",
            "************************************************************\n",
            "array= [[[ 0  1  2  3]]\n",
            "\n",
            " [[ 4  5  6  7]]\n",
            "\n",
            " [[ 8  9 10 11]]]\n",
            "type= <class 'numpy.ndarray'>\n",
            "ndim: 3\n",
            "shape: (3, 1, 4)\n",
            "dtype: int64\n",
            "size: 12\n",
            "itemsize: 8\n",
            "nbytes: 96\n",
            "strides: (32, 0, 8)\n",
            "************************************************************\n"
          ]
        }
      ]
    },
    {
      "cell_type": "code",
      "source": [
        "print(b)\n",
        "b_1_3_4 = b[np.newaxis, :, : ]\n",
        "array_info(b_1_3_4, retrieve_name(b_1_3_4))"
      ],
      "metadata": {
        "id": "G-Xw3cEU9UDt",
        "colab": {
          "base_uri": "https://localhost:8080/"
        },
        "outputId": "53c542f9-8963-42d9-82c2-a6376ca4227d"
      },
      "execution_count": null,
      "outputs": [
        {
          "output_type": "stream",
          "name": "stdout",
          "text": [
            "[[ 0  1  2  3]\n",
            " [ 4  5  6  7]\n",
            " [ 8  9 10 11]]\n",
            "************************************************************\n",
            "<<<array_info func:['b_1_3_4']>>>\n",
            "************************************************************\n",
            "array= [[[ 0  1  2  3]\n",
            "  [ 4  5  6  7]\n",
            "  [ 8  9 10 11]]]\n",
            "type= <class 'numpy.ndarray'>\n",
            "ndim: 3\n",
            "shape: (1, 3, 4)\n",
            "dtype: int64\n",
            "size: 12\n",
            "itemsize: 8\n",
            "nbytes: 96\n",
            "strides: (0, 32, 8)\n",
            "************************************************************\n"
          ]
        }
      ]
    },
    {
      "cell_type": "markdown",
      "source": [
        "결론적으로 `numpy.newaxis` 및 `None`은 동일하며 배열 인덱싱 및 슬라이싱에 사용할 수 있습니다.\n",
        "\n",
        "\n",
        "---\n",
        "\n",
        "\n"
      ],
      "metadata": {
        "id": "XipyWneFY4Mh"
      }
    },
    {
      "cell_type": "code",
      "source": [
        "n1 = np.arange(1, 10)\n",
        "print(\"n1=\",n1)\n",
        "print(\"n1.shape=\", n1.shape)\n",
        "print60()\n",
        "newrowaxis = n1[np.newaxis, :5]\n",
        "print(\"newrowaxis.shape=\", newrowaxis.shape)\n",
        "print(\"newrowaxis=\", newrowaxis)\n",
        "print60()\n",
        "newcolaxis = n1[:5, np.newaxis]\n",
        "print(\"newcolaxis.shape=\", newcolaxis.shape)\n",
        "print(\"newcolaxis=\", newcolaxis)"
      ],
      "metadata": {
        "id": "fE4wDHumNU1O",
        "colab": {
          "base_uri": "https://localhost:8080/"
        },
        "outputId": "7ba18784-abbe-470c-c8e0-0b2098773b1a"
      },
      "execution_count": 62,
      "outputs": [
        {
          "output_type": "stream",
          "name": "stdout",
          "text": [
            "n1= [1 2 3 4 5 6 7 8 9]\n",
            "n1.shape= (9,)\n",
            "************************************************************\n",
            "newrowaxis.shape= (1, 5)\n",
            "newrowaxis= [[1 2 3 4 5]]\n",
            "************************************************************\n",
            "newcolaxis.shape= (5, 1)\n",
            "newcolaxis= [[1]\n",
            " [2]\n",
            " [3]\n",
            " [4]\n",
            " [5]]\n"
          ]
        }
      ]
    },
    {
      "cell_type": "markdown",
      "metadata": {
        "id": "F71_PQF1GvTs"
      },
      "source": [
        "\n",
        "\n",
        "---\n",
        "\n"
      ]
    },
    {
      "cell_type": "markdown",
      "source": [
        "<font color=\"yellow\">팬시 인덱싱에서 인덱스 쌍을 만드는 것도 브로드캐스팅 규칙을 따른다. "
      ],
      "metadata": {
        "id": "0zAVu-ZAELg5"
      }
    },
    {
      "cell_type": "code",
      "source": [
        "print(\"X = \", X)\n",
        "print60()\n",
        "print(\"row type=\",type(row))\n",
        "print(\"col type=\", type(col))\n",
        "\n",
        "print(\"row shape=\",row.shape)\n",
        "print(\"col shape=\", col.shape)\n",
        "\n",
        "print(\"row=\",row)\n",
        "print(\"col=\", col)\n",
        "\n",
        "\n",
        "print60()\n",
        "print(\"row[:, np.newaxis] = \", row[:, np.newaxis])\n",
        "print60()\n",
        "print(\"X[row[:, np.newaxis], col] = \", X[row[:, np.newaxis], col])\n",
        "print(\"X[row[:, np.newaxis], col].shape = \", X[row[:, np.newaxis], col].shape)"
      ],
      "metadata": {
        "id": "mJ2Py7FvF8rl",
        "colab": {
          "base_uri": "https://localhost:8080/"
        },
        "outputId": "0a06c027-796e-432f-cde4-8e5c8fda938f"
      },
      "execution_count": 66,
      "outputs": [
        {
          "output_type": "stream",
          "name": "stdout",
          "text": [
            "X =  [[ 0  1  2  3]\n",
            " [ 4  5  6  7]\n",
            " [ 8  9 10 11]]\n",
            "************************************************************\n",
            "row type= <class 'numpy.ndarray'>\n",
            "col type= <class 'numpy.ndarray'>\n",
            "row shape= (3,)\n",
            "col shape= (3,)\n",
            "row= [0 1 2]\n",
            "col= [2 1 3]\n",
            "************************************************************\n",
            "row[:, np.newaxis] =  [[0]\n",
            " [1]\n",
            " [2]]\n",
            "************************************************************\n",
            "X[row[:, np.newaxis], col] =  [[ 2  1  3]\n",
            " [ 6  5  7]\n",
            " [10  9 11]]\n",
            "X[row[:, np.newaxis], col].shape =  (3, 3)\n"
          ]
        }
      ]
    },
    {
      "cell_type": "code",
      "metadata": {
        "id": "p_Dd0oiJahgj",
        "colab": {
          "base_uri": "https://localhost:8080/"
        },
        "outputId": "ba80a34d-c1cc-4c9f-af19-393728e9fc5a"
      },
      "source": [
        "a3_3 = np.arange(9).reshape((3,3))\n",
        "array_info(a3_3, retrieve_name(a3_3))\n",
        "row = np.array([0, 2])\n",
        "col = np.array([1, 2])\n",
        "\n",
        "print(\"row=\", row)\n",
        "print(\"col=\", col)\n",
        "# 위 row/col 팬시 인덱스 조합은\n",
        "# (0,1) 그리고 (2,2) 두개가 된다\n",
        "#print(row)\n",
        "#print(col)\n",
        "print(\"*\" * 50)\n",
        "#print(a3_3[row, col])\n",
        "#print(\"******************\")\n",
        "#print(a3_3[row, :]) #col이 없기 때문에, row0과 row2만 출력된다\n",
        "#print(a3_3[:, col]) #row가 없기 때문에, col1과 col2만 출력된다\n",
        "\n",
        "print(\"a3_3[row, 1:]=\", a3_3[row, 1:])\n",
        "print(\"a3_3[2, col]\", a3_3[2, col])\n",
        "print(\"*\" * 50)\n",
        "print(a3_3[row, 1:])\n",
        "print(a3_3[1:, col])"
      ],
      "execution_count": 67,
      "outputs": [
        {
          "output_type": "stream",
          "name": "stdout",
          "text": [
            "************************************************************\n",
            "<<<array_info func:['a3_3']>>>\n",
            "************************************************************\n",
            "array= [[0 1 2]\n",
            " [3 4 5]\n",
            " [6 7 8]]\n",
            "type= <class 'numpy.ndarray'>\n",
            "ndim: 2\n",
            "shape: (3, 3)\n",
            "dtype: int64\n",
            "size: 9\n",
            "itemsize: 8\n",
            "nbytes: 72\n",
            "strides: (24, 8)\n",
            "************************************************************\n",
            "row= [0 2]\n",
            "col= [1 2]\n",
            "**************************************************\n",
            "a3_3[row, 1:]= [[1 2]\n",
            " [7 8]]\n",
            "a3_3[2, col] [7 8]\n",
            "**************************************************\n",
            "[[1 2]\n",
            " [7 8]]\n",
            "[[4 5]\n",
            " [7 8]]\n"
          ]
        }
      ]
    },
    {
      "cell_type": "markdown",
      "metadata": {
        "id": "mJ7LZVV8yJ3r"
      },
      "source": [
        "컴퓨터 프로그램에서 발생한 랜덤값은 무작위 수가 아니라 특정 시작 숫자값을 정해주면 정해진 알고리즘에 따라 마치 난수처럼 보이는 수열을 생성하는 것이다. 이때 설정해주는 특정 시작 숫자가 바로 시드(seed)이다.\n",
        "\n",
        " \n",
        "\n",
        "이 시드값은 보통 현재 시각 등을 이용해 자동으로 정하기도 하지만, 직접 사람이 수동으로 설정할 수도 있다. 특정 시드값이 사용될 경우 이후에 발생되는 난수를 알고리즘에 따라 직접 예측할수도 있다.\n"
      ]
    },
    {
      "cell_type": "code",
      "metadata": {
        "id": "WcTTFYOsvk-V",
        "colab": {
          "base_uri": "https://localhost:8080/"
        },
        "outputId": "5b5dc49e-ed19-4464-d6e6-60c249af05c0"
      },
      "source": [
        "rand = np.random.RandomState(42)\n",
        "print(type(rand))\n",
        "mean = [0,0]\n",
        "cov = [[1,2],\n",
        "       [2,5]]\n",
        "x =rand.multivariate_normal(mean, cov, 100)\n",
        "x.shape"
      ],
      "execution_count": 68,
      "outputs": [
        {
          "output_type": "stream",
          "name": "stdout",
          "text": [
            "<class 'numpy.random.mtrand.RandomState'>\n"
          ]
        },
        {
          "output_type": "execute_result",
          "data": {
            "text/plain": [
              "(100, 2)"
            ]
          },
          "metadata": {},
          "execution_count": 68
        }
      ]
    },
    {
      "cell_type": "markdown",
      "source": [
        "[seaborn](https://datascienceschool.net/01%20python/05.04%20%EC%8B%9C%EB%B3%B8%EC%9D%84%20%EC%82%AC%EC%9A%A9%ED%95%9C%20%EB%8D%B0%EC%9D%B4%ED%84%B0%20%EB%B6%84%ED%8F%AC%20%EC%8B%9C%EA%B0%81%ED%99%94.html)"
      ],
      "metadata": {
        "id": "YbB6a6AnLXfS"
      }
    },
    {
      "cell_type": "code",
      "metadata": {
        "id": "v_bAuf6BwboC",
        "colab": {
          "base_uri": "https://localhost:8080/",
          "height": 268
        },
        "outputId": "19968226-f28c-43f6-a20d-79a0379dafee"
      },
      "source": [
        "%matplotlib inline\n",
        "import matplotlib.pyplot as plt\n",
        "import seaborn\n",
        "\n",
        "seaborn.set()\n",
        "plt.scatter(x[:, 0], x[:, 1]);"
      ],
      "execution_count": null,
      "outputs": [
        {
          "output_type": "display_data",
          "data": {
            "text/plain": [
              "<Figure size 432x288 with 1 Axes>"
            ],
            "image/png": "[encoded data removed]"
          },
          "metadata": {}
        }
      ]
    },
    {
      "cell_type": "markdown",
      "metadata": {
        "id": "zDI5yQ58O-IX"
      },
      "source": [
        "## 배열 값 삽입/수정/삭제/복사"
      ]
    },
    {
      "cell_type": "markdown",
      "metadata": {
        "id": "zajd1qpVOQYy"
      },
      "source": [
        "### 배열 값 삽입\n",
        "\n",
        "* `insert()`: 배열의 특정 위치에 값 삽입\n",
        "* <b><font color='red'>axis를 지정하지 않으면 1차원 배열로 변환</b></font>\n",
        "* 추가할 방향을 axis로 지정\n",
        "* 원본 배열 변경없이 새로운 배열 반환"
      ]
    },
    {
      "cell_type": "code",
      "source": [
        "a = np.array([[1, 1], [2, 2], [3, 3]])\n",
        "array_info(a, retrieve_name(a))\n",
        "print(np.insert(a, 1, 5))   # np.insert는 1d array를 리턴한다\n",
        "array_info(a, retrieve_name(a))"
      ],
      "metadata": {
        "id": "lPvl3__RfSps",
        "colab": {
          "base_uri": "https://localhost:8080/"
        },
        "outputId": "8944d18b-478a-41a5-9451-1a2ca7f6ab1a"
      },
      "execution_count": 69,
      "outputs": [
        {
          "output_type": "stream",
          "name": "stdout",
          "text": [
            "************************************************************\n",
            "<<<array_info func:['a']>>>\n",
            "************************************************************\n",
            "array= [[1 1]\n",
            " [2 2]\n",
            " [3 3]]\n",
            "type= <class 'numpy.ndarray'>\n",
            "ndim: 2\n",
            "shape: (3, 2)\n",
            "dtype: int64\n",
            "size: 6\n",
            "itemsize: 8\n",
            "nbytes: 48\n",
            "strides: (16, 8)\n",
            "************************************************************\n",
            "[1 5 1 2 2 3 3]\n",
            "************************************************************\n",
            "<<<array_info func:['a']>>>\n",
            "************************************************************\n",
            "array= [[1 1]\n",
            " [2 2]\n",
            " [3 3]]\n",
            "type= <class 'numpy.ndarray'>\n",
            "ndim: 2\n",
            "shape: (3, 2)\n",
            "dtype: int64\n",
            "size: 6\n",
            "itemsize: 8\n",
            "nbytes: 48\n",
            "strides: (16, 8)\n",
            "************************************************************\n"
          ]
        }
      ]
    },
    {
      "cell_type": "code",
      "source": [
        "array_info(a, retrieve_name(a))\n",
        "array_info(np.insert(a, 1, 5, axis=0))"
      ],
      "metadata": {
        "id": "EfVycAWifwuc",
        "colab": {
          "base_uri": "https://localhost:8080/"
        },
        "outputId": "1ee559e0-62d9-46a2-94a1-46221b76265a"
      },
      "execution_count": 128,
      "outputs": [
        {
          "output_type": "stream",
          "name": "stdout",
          "text": [
            "************************************************************\n",
            "<<<array_info func:['a']>>>\n",
            "************************************************************\n",
            "array= [[1 1]\n",
            " [2 2]\n",
            " [3 3]]\n",
            "type= <class 'numpy.ndarray'>\n",
            "ndim: 2\n",
            "shape: (3, 2)\n",
            "dtype: int64\n",
            "size: 6\n",
            "itemsize: 8\n",
            "nbytes: 48\n",
            "strides: (16, 8)\n",
            "************************************************************\n",
            "************************************************************\n",
            "<<<array_info func:Noname>>>\n",
            "************************************************************\n",
            "array= [[1 1]\n",
            " [5 5]\n",
            " [2 2]\n",
            " [3 3]]\n",
            "type= <class 'numpy.ndarray'>\n",
            "ndim: 2\n",
            "shape: (4, 2)\n",
            "dtype: int64\n",
            "size: 8\n",
            "itemsize: 8\n",
            "nbytes: 64\n",
            "strides: (16, 8)\n",
            "************************************************************\n"
          ]
        }
      ]
    },
    {
      "cell_type": "code",
      "source": [
        "array_info(a, retrieve_name(a))\n",
        "array_info(np.insert(a, [1], 5, axis=0))"
      ],
      "metadata": {
        "id": "u7wKl_l_goLr",
        "colab": {
          "base_uri": "https://localhost:8080/"
        },
        "outputId": "a2b1ed16-34e7-43d3-c215-f463f9bd2401"
      },
      "execution_count": null,
      "outputs": [
        {
          "output_type": "stream",
          "name": "stdout",
          "text": [
            "************************************************************\n",
            "<<<array_info func:['a']>>>\n",
            "************************************************************\n",
            "array= [[1 1]\n",
            " [2 2]\n",
            " [3 3]]\n",
            "type= <class 'numpy.ndarray'>\n",
            "ndim: 2\n",
            "shape: (3, 2)\n",
            "dtype: int64\n",
            "size: 6\n",
            "itemsize: 8\n",
            "nbytes: 48\n",
            "strides: (16, 8)\n",
            "************************************************************\n",
            "************************************************************\n",
            "<<<array_info func:Noname>>>\n",
            "************************************************************\n",
            "array= [[1 1]\n",
            " [5 5]\n",
            " [2 2]\n",
            " [3 3]]\n",
            "type= <class 'numpy.ndarray'>\n",
            "ndim: 2\n",
            "shape: (4, 2)\n",
            "dtype: int64\n",
            "size: 8\n",
            "itemsize: 8\n",
            "nbytes: 64\n",
            "strides: (16, 8)\n",
            "************************************************************\n"
          ]
        }
      ]
    },
    {
      "cell_type": "code",
      "source": [
        "array_info(a, retrieve_name(a))\n",
        "np.insert(a, 1, 5, axis=1)"
      ],
      "metadata": {
        "id": "ZVwOhAt7fmB0",
        "colab": {
          "base_uri": "https://localhost:8080/"
        },
        "outputId": "0c6b8ec1-2987-446a-caf0-e34718d4b0bd"
      },
      "execution_count": null,
      "outputs": [
        {
          "output_type": "stream",
          "name": "stdout",
          "text": [
            "************************************************************\n",
            "<<<array_info func:['a']>>>\n",
            "************************************************************\n",
            "array= [[1 1]\n",
            " [2 2]\n",
            " [3 3]]\n",
            "type= <class 'numpy.ndarray'>\n",
            "ndim: 2\n",
            "shape: (3, 2)\n",
            "dtype: int64\n",
            "size: 6\n",
            "itemsize: 8\n",
            "nbytes: 48\n",
            "strides: (16, 8)\n",
            "************************************************************\n"
          ]
        },
        {
          "output_type": "execute_result",
          "data": {
            "text/plain": [
              "array([[1, 5, 1],\n",
              "       [2, 5, 2],\n",
              "       [3, 5, 3]])"
            ]
          },
          "metadata": {},
          "execution_count": 9
        }
      ]
    },
    {
      "cell_type": "code",
      "source": [
        "ar1 = np.arange(6).reshape(3,2)\n",
        "array_info(ar1, retrieve_name(ar1))\n",
        "np.insert(ar1, 1, [[6],[7],[8]], axis=0)"
      ],
      "metadata": {
        "id": "uMKM3xjugwp7",
        "colab": {
          "base_uri": "https://localhost:8080/"
        },
        "outputId": "5d5cb325-f1e3-42a9-828d-7dc093b35b72"
      },
      "execution_count": null,
      "outputs": [
        {
          "output_type": "stream",
          "name": "stdout",
          "text": [
            "************************************************************\n",
            "<<<array_info func:['ar1']>>>\n",
            "************************************************************\n",
            "array= [[0 1]\n",
            " [2 3]\n",
            " [4 5]]\n",
            "type= <class 'numpy.ndarray'>\n",
            "ndim: 2\n",
            "shape: (3, 2)\n",
            "dtype: int64\n",
            "size: 6\n",
            "itemsize: 8\n",
            "nbytes: 48\n",
            "strides: (16, 8)\n",
            "************************************************************\n"
          ]
        },
        {
          "output_type": "execute_result",
          "data": {
            "text/plain": [
              "array([[0, 1],\n",
              "       [6, 6],\n",
              "       [7, 7],\n",
              "       [8, 8],\n",
              "       [2, 3],\n",
              "       [4, 5]])"
            ]
          },
          "metadata": {},
          "execution_count": 12
        }
      ]
    },
    {
      "cell_type": "code",
      "source": [
        "ar1 = np.arange(6).reshape(3,2)\n",
        "array_info(ar1, retrieve_name(ar1))\n",
        "np.insert(ar1, [1], [[6],[7],[8]], axis=0)"
      ],
      "metadata": {
        "id": "tgMLYbg8gDYM",
        "colab": {
          "base_uri": "https://localhost:8080/"
        },
        "outputId": "cbc338f8-0972-44df-b18b-aa8863d7b381"
      },
      "execution_count": null,
      "outputs": [
        {
          "output_type": "stream",
          "name": "stdout",
          "text": [
            "************************************************************\n",
            "<<<array_info func:['ar1']>>>\n",
            "************************************************************\n",
            "array= [[0 1]\n",
            " [2 3]\n",
            " [4 5]]\n",
            "type= <class 'numpy.ndarray'>\n",
            "ndim: 2\n",
            "shape: (3, 2)\n",
            "dtype: int64\n",
            "size: 6\n",
            "itemsize: 8\n",
            "nbytes: 48\n",
            "strides: (16, 8)\n",
            "************************************************************\n"
          ]
        },
        {
          "output_type": "execute_result",
          "data": {
            "text/plain": [
              "array([[0, 1],\n",
              "       [6, 6],\n",
              "       [7, 7],\n",
              "       [8, 8],\n",
              "       [2, 3],\n",
              "       [4, 5]])"
            ]
          },
          "metadata": {},
          "execution_count": 13
        }
      ]
    },
    {
      "cell_type": "code",
      "source": [
        "ar1 = np.arange(6).reshape(3,2)\n",
        "array_info(ar1, retrieve_name(ar1))\n",
        "np.insert(ar1, 1, [[6],[7],[8]], axis=1)"
      ],
      "metadata": {
        "id": "F8gDeZknf6CO",
        "colab": {
          "base_uri": "https://localhost:8080/"
        },
        "outputId": "1858c21a-08cb-47b2-b5de-acc7069dd69f"
      },
      "execution_count": null,
      "outputs": [
        {
          "output_type": "stream",
          "name": "stdout",
          "text": [
            "************************************************************\n",
            "<<<array_info func:['ar1']>>>\n",
            "************************************************************\n",
            "array= [[0 1]\n",
            " [2 3]\n",
            " [4 5]]\n",
            "type= <class 'numpy.ndarray'>\n",
            "ndim: 2\n",
            "shape: (3, 2)\n",
            "dtype: int64\n",
            "size: 6\n",
            "itemsize: 8\n",
            "nbytes: 48\n",
            "strides: (16, 8)\n",
            "************************************************************\n"
          ]
        },
        {
          "output_type": "execute_result",
          "data": {
            "text/plain": [
              "array([[0, 6, 7, 8, 1],\n",
              "       [2, 6, 7, 8, 3],\n",
              "       [4, 6, 7, 8, 5]])"
            ]
          },
          "metadata": {},
          "execution_count": 14
        }
      ]
    },
    {
      "cell_type": "code",
      "source": [
        "ar1 = np.arange(6).reshape(3,2)\n",
        "array_info(ar1, retrieve_name(ar1))\n",
        "print(np.insert(ar1, 1, [[6],[7],[8]], axis=1))\n",
        "print(np.insert(ar1, 1, [6,7,8], axis=1))"
      ],
      "metadata": {
        "colab": {
          "base_uri": "https://localhost:8080/"
        },
        "id": "ejDEOHikoktE",
        "outputId": "0af8233e-e40a-42ed-92da-569e7a69f328"
      },
      "execution_count": null,
      "outputs": [
        {
          "output_type": "stream",
          "name": "stdout",
          "text": [
            "************************************************************\n",
            "<<<array_info func:['ar1']>>>\n",
            "************************************************************\n",
            "array= [[0 1]\n",
            " [2 3]\n",
            " [4 5]]\n",
            "type= <class 'numpy.ndarray'>\n",
            "ndim: 2\n",
            "shape: (3, 2)\n",
            "dtype: int64\n",
            "size: 6\n",
            "itemsize: 8\n",
            "nbytes: 48\n",
            "strides: (16, 8)\n",
            "************************************************************\n",
            "[[0 6 7 8 1]\n",
            " [2 6 7 8 3]\n",
            " [4 6 7 8 5]]\n",
            "[[0 6 1]\n",
            " [2 7 3]\n",
            " [4 8 5]]\n"
          ]
        }
      ]
    },
    {
      "cell_type": "markdown",
      "source": [
        "Note that for higher dimensional inserts $obj = 0$\n",
        "behaves very different from $obj = [0]$\n",
        "just like $arr[:,0] = values$ is different from $arr[:,[0]] = values$."
      ],
      "metadata": {
        "id": "DrgYTCrTGMLk"
      }
    },
    {
      "cell_type": "code",
      "source": [
        "arr2 = np.arange(9).reshape(3,3)\n",
        "arr2"
      ],
      "metadata": {
        "colab": {
          "base_uri": "https://localhost:8080/"
        },
        "id": "sN46n55lFrcT",
        "outputId": "58033b40-6231-40cc-acad-0b4cd383b2d2"
      },
      "execution_count": null,
      "outputs": [
        {
          "output_type": "execute_result",
          "data": {
            "text/plain": [
              "array([[0, 1, 2],\n",
              "       [3, 4, 5],\n",
              "       [6, 7, 8]])"
            ]
          },
          "metadata": {},
          "execution_count": 118
        }
      ]
    },
    {
      "cell_type": "code",
      "source": [
        "print(arr2[:,0])\n",
        "print(arr2[:,0].shape)"
      ],
      "metadata": {
        "colab": {
          "base_uri": "https://localhost:8080/"
        },
        "id": "2Nfjwj--F0Yr",
        "outputId": "40a07552-2a4f-426d-f3de-447e83b7ef47"
      },
      "execution_count": null,
      "outputs": [
        {
          "output_type": "stream",
          "name": "stdout",
          "text": [
            "[0 3 6]\n",
            "(3,)\n"
          ]
        }
      ]
    },
    {
      "cell_type": "code",
      "source": [
        "print(arr2[:,[0]])\n",
        "print(arr2[:,[0]].shape)"
      ],
      "metadata": {
        "colab": {
          "base_uri": "https://localhost:8080/"
        },
        "id": "f-JEdsfZF61G",
        "outputId": "8c624110-c609-4b9d-df5e-9e6829d1126e"
      },
      "execution_count": null,
      "outputs": [
        {
          "output_type": "stream",
          "name": "stdout",
          "text": [
            "[[0]\n",
            " [3]\n",
            " [6]]\n",
            "(3, 1)\n"
          ]
        }
      ]
    },
    {
      "cell_type": "markdown",
      "source": [
        "Note that for higher dimensional inserts $obj = 0$</br> behaves very different from $obj = [0]$ </br>just like $arr[:,0,:] = values$ is different from $arr[:,[0],:] = values$."
      ],
      "metadata": {
        "id": "QS-u_B6BtfDb"
      }
    },
    {
      "cell_type": "code",
      "source": [
        "arr3 = np.arange(27).reshape(3,3,3)\n",
        "arr3"
      ],
      "metadata": {
        "colab": {
          "base_uri": "https://localhost:8080/"
        },
        "id": "-j-mCwpftftE",
        "outputId": "4c72388c-8cc3-4f7b-f527-9d0abae7ad6d"
      },
      "execution_count": null,
      "outputs": [
        {
          "output_type": "execute_result",
          "data": {
            "text/plain": [
              "array([[[ 0,  1,  2],\n",
              "        [ 3,  4,  5],\n",
              "        [ 6,  7,  8]],\n",
              "\n",
              "       [[ 9, 10, 11],\n",
              "        [12, 13, 14],\n",
              "        [15, 16, 17]],\n",
              "\n",
              "       [[18, 19, 20],\n",
              "        [21, 22, 23],\n",
              "        [24, 25, 26]]])"
            ]
          },
          "metadata": {},
          "execution_count": 121
        }
      ]
    },
    {
      "cell_type": "code",
      "source": [
        "print(arr3[:,0,:])\n",
        "print(arr3[:,0,:].shape)"
      ],
      "metadata": {
        "colab": {
          "base_uri": "https://localhost:8080/"
        },
        "id": "kzx1UNF7tnBM",
        "outputId": "3636dfe3-6f19-4e70-d02b-f019e20c7b24"
      },
      "execution_count": null,
      "outputs": [
        {
          "output_type": "stream",
          "name": "stdout",
          "text": [
            "[[ 0  1  2]\n",
            " [ 9 10 11]\n",
            " [18 19 20]]\n",
            "(3, 3)\n"
          ]
        }
      ]
    },
    {
      "cell_type": "code",
      "source": [
        "print(arr3[:,[0],:])\n",
        "print(arr3[:,[0],:].shape)"
      ],
      "metadata": {
        "colab": {
          "base_uri": "https://localhost:8080/"
        },
        "id": "zU0xVbCTt3Ht",
        "outputId": "d3a24c84-9cc4-4640-e4ed-58b3de9ac269"
      },
      "execution_count": null,
      "outputs": [
        {
          "output_type": "stream",
          "name": "stdout",
          "text": [
            "[[[ 0  1  2]]\n",
            "\n",
            " [[ 9 10 11]]\n",
            "\n",
            " [[18 19 20]]]\n",
            "(3, 1, 3)\n"
          ]
        }
      ]
    },
    {
      "cell_type": "markdown",
      "source": [
        "Difference between sequence and scalars:"
      ],
      "metadata": {
        "id": "YsnLQHeEtH9T"
      }
    },
    {
      "cell_type": "code",
      "source": [
        "ar1 = np.arange(6).reshape(3,2)\n",
        "array_info(ar1, retrieve_name(ar1))\n",
        "\n",
        "print(\"np.insert(ar1, 1, [1, 2, 3], axis=1 = \", np.insert(ar1, 1, [1, 2, 3], axis=1))\n",
        "print(\"np.insert(ar1, 1, [[1],[2],[3]], axis=1) = \", np.insert(ar1, 1, [[1],[2],[3]], axis=1))\n",
        "np.array_equal(np.insert(ar1, 1, [1, 2, 3], axis=1),\n",
        "               np.insert(ar1, 1, [[1],[2],[3]], axis=1))\n",
        "\n",
        "# print(\"np.insert(ar1, 1, [1, 2, 3], axis=1 = \", np.insert(ar1, 1, [1, 2, 3], axis=1))\n",
        "# print(\"np.insert(ar1, [1], [[1],[2],[3]], axis=1) = \", np.insert(ar1, [1], [[1],[2],[3]], axis=1))\n",
        "\n",
        "# np.array_equal(np.insert(ar1, 1, [1, 2, 3], axis=1),\n",
        "#                np.insert(ar1, [1], [[1],[2],[3]], axis=1))"
      ],
      "metadata": {
        "id": "x5ee_XpNhjdr",
        "colab": {
          "base_uri": "https://localhost:8080/"
        },
        "outputId": "7faa171b-b898-4f1e-9276-c63404e8af0b"
      },
      "execution_count": null,
      "outputs": [
        {
          "output_type": "stream",
          "name": "stdout",
          "text": [
            "************************************************************\n",
            "<<<array_info func:['ar1']>>>\n",
            "************************************************************\n",
            "array= [[0 1]\n",
            " [2 3]\n",
            " [4 5]]\n",
            "type= <class 'numpy.ndarray'>\n",
            "ndim: 2\n",
            "shape: (3, 2)\n",
            "dtype: int64\n",
            "size: 6\n",
            "itemsize: 8\n",
            "nbytes: 48\n",
            "strides: (16, 8)\n",
            "************************************************************\n",
            "np.insert(ar1, 1, [1, 2, 3], axis=1 =  [[0 1 1]\n",
            " [2 2 3]\n",
            " [4 3 5]]\n",
            "np.insert(ar1, 1, [[1],[2],[3]], axis=1) =  [[0 1 2 3 1]\n",
            " [2 1 2 3 3]\n",
            " [4 1 2 3 5]]\n"
          ]
        },
        {
          "output_type": "execute_result",
          "data": {
            "text/plain": [
              "False"
            ]
          },
          "metadata": {},
          "execution_count": 33
        }
      ]
    },
    {
      "cell_type": "code",
      "source": [
        "array_info(ar1, retrieve_name(ar1))\n",
        "b = ar1.flatten()\n",
        "array_info(b, retrieve_name(b))\n",
        "print(\"np.insert(b, [2, 2], [5, 6]) = \", np.insert(b, [2, 2], [5, 6]))\n",
        "print(\"np.insert(b, slice(2, 4), [5, 6]) = \", np.insert(b, slice(2, 4), [5, 6]))\n",
        "print(\"np.insert(b, [2, 2], [7.13, False]) = \", np.insert(b, [2, 2], [7.13, False])) # type casting"
      ],
      "metadata": {
        "id": "RKJFe3NShzbT"
      },
      "execution_count": null,
      "outputs": []
    },
    {
      "cell_type": "code",
      "source": [
        "x = np.arange(8)\n",
        "print(x)\n",
        "x = x.reshape(2, 4)\n",
        "print(x)\n",
        "print(\"*\" * 50)\n",
        "idx = (1, 3)\n",
        "print(np.insert(x, idx, 999, axis=1))"
      ],
      "metadata": {
        "id": "9Eq7Wr1JjDg6",
        "colab": {
          "base_uri": "https://localhost:8080/"
        },
        "outputId": "d5e68347-449e-464f-b60f-e37f9d7ca40f"
      },
      "execution_count": null,
      "outputs": [
        {
          "output_type": "stream",
          "name": "stdout",
          "text": [
            "[0 1 2 3 4 5 6 7]\n",
            "[[0 1 2 3]\n",
            " [4 5 6 7]]\n",
            "**************************************************\n",
            "[[  0 999   1   2 999   3]\n",
            " [  4 999   5   6 999   7]]\n"
          ]
        }
      ]
    },
    {
      "cell_type": "markdown",
      "metadata": {
        "id": "RlymjTMu4snI"
      },
      "source": [
        "3d array insert"
      ]
    },
    {
      "cell_type": "code",
      "metadata": {
        "id": "7R8eUNno4xcG",
        "colab": {
          "base_uri": "https://localhost:8080/"
        },
        "outputId": "ad5f7e5e-09db-4ca3-8074-cf11c8ff18e7"
      },
      "source": [
        "array_info(a3_3_4, retrieve_name(a3_3_4))\n",
        "\n",
        "array_info(np.insert(a3_3_4, 0, 10))  # axis를 지정하지 않으면 1차원 배열이 된다\n",
        "# array_info(np.insert(a3_3_4, (1,1,1), 10, axis=0))\n",
        "# array_info(np.insert(a3_3_4, 1, 10, axis=0))\n",
        "# array_info(np.insert(a3_3_4, 2, 10, axis=0))\n",
        "# array_info(np.insert(a3_3_4, (2,1), 10, axis=0))\n",
        "# array_info(np.insert(a3_3_4, 0, 10, axis=1))\n",
        "# array_info(np.insert(a3_3_4, 0, 10, axis=2))\n",
        "print(\"a3_3_4.shape = \", a3_3_4.shape)\n"
      ],
      "execution_count": null,
      "outputs": [
        {
          "output_type": "stream",
          "name": "stdout",
          "text": [
            "************************************************************\n",
            "<<<array_info func:['a3_3_4']>>>\n",
            "************************************************************\n",
            "array= [[[ 1  2  3  4]\n",
            "  [ 5  6  7  8]\n",
            "  [ 9 10 11 12]]\n",
            "\n",
            " [[13 14 15 16]\n",
            "  [17 18 19 20]\n",
            "  [21 22 23 24]]\n",
            "\n",
            " [[25 26 27 28]\n",
            "  [29 30 31 32]\n",
            "  [33 34 35 36]]]\n",
            "type= <class 'numpy.ndarray'>\n",
            "ndim: 3\n",
            "shape: (3, 3, 4)\n",
            "dtype: int64\n",
            "size: 36\n",
            "itemsize: 8\n",
            "nbytes: 288\n",
            "strides: (96, 32, 8)\n",
            "************************************************************\n",
            "************************************************************\n",
            "<<<array_info func:Noname>>>\n",
            "************************************************************\n",
            "array= [10  1  2  3  4  5  6  7  8  9 10 11 12 13 14 15 16 17 18 19 20 21 22 23\n",
            " 24 25 26 27 28 29 30 31 32 33 34 35 36]\n",
            "type= <class 'numpy.ndarray'>\n",
            "ndim: 1\n",
            "shape: (37,)\n",
            "dtype: int64\n",
            "size: 37\n",
            "itemsize: 8\n",
            "nbytes: 296\n",
            "strides: (8,)\n",
            "************************************************************\n",
            "a3_3_4.shape =  (3, 3, 4)\n"
          ]
        }
      ]
    },
    {
      "cell_type": "markdown",
      "metadata": {
        "id": "OlEzG4ffNjyL"
      },
      "source": [
        "### 배열 값 수정\n",
        "\n",
        "* 배열의 인덱싱으로 접근하여 값 수정"
      ]
    },
    {
      "cell_type": "code",
      "metadata": {
        "id": "ec43i1KWNjeN",
        "colab": {
          "base_uri": "https://localhost:8080/"
        },
        "outputId": "e34d2141-c039-4254-cf17-1d8c36559e88"
      },
      "source": [
        "print(a1)\n",
        "a1[0] = 1\n",
        "a1[1] = 2\n",
        "a1[2] = 3\n",
        "a1[3] = 4\n",
        "a1[4] = 5\n",
        "#a1[5] = 6 #index 5 is out of bounds for axis 0 with size 5\n",
        "print(a1)\n",
        "print60()\n",
        "a1[:2] = 9 #0~2까지 인데스의 item들을 9로 변경한다\n",
        "print(a1)\n",
        "print60()\n",
        "#팬시 인덱스 방식으로 1/3/4의 item값을 0으로 변경하는 방법\n",
        "i = np.array([1, 3, 4])\n",
        "a1[i] = 0\n",
        "print(a1)\n",
        "\n",
        "#인덱스 1/3/4의 item값에 4를 더하는 방법\n",
        "a1[i] += 4\n",
        "print(a1)"
      ],
      "execution_count": null,
      "outputs": [
        {
          "output_type": "stream",
          "name": "stdout",
          "text": [
            "[1 2 3 4 5]\n",
            "[1 2 3 4 5]\n",
            "************************************************************\n",
            "[9 9 3 4 5]\n",
            "************************************************************\n",
            "[9 0 3 0 0]\n",
            "[9 4 3 4 4]\n"
          ]
        }
      ]
    },
    {
      "cell_type": "code",
      "metadata": {
        "id": "IApNNx3NOMQh"
      },
      "source": [
        "a3_4 = np.arange(12).reshape(3,4)\n",
        "array_info(a3_4, retrieve_name(a3_4))\n",
        "#a3_4[0,0] = 0\n",
        "a3_4[1,1] = 0\n",
        "a3_4[2,2] = 0\n",
        "a3_4[0] = 0 #0번째 row의 값 모두 0으로 변경된다\n",
        "print(\"a3_4[1,1] = 0\")\n",
        "print(\"a3_4[2,2] = 0\")\n",
        "print(\"a3_4[0] = 0\")\n",
        "array_info(a3_4, retrieve_name(a3_4))\n",
        "\n",
        "a3_4[1:, 2] = 9\n",
        "print(\"a3_4[1:, 2] = 9\")\n",
        "array_info(a3_4, retrieve_name(a3_4))\n",
        "\n",
        "row = np.array([0, 1])\n",
        "col = np.array([1, 2])\n",
        "a3_4[row, col] = (2,4)#[1,2]\n",
        "print(\"row =\", row)\n",
        "print(\"col = \", col)\n",
        "print(\"a3_4[row, col] = (2,4)\")\n",
        "array_info(a3_4, retrieve_name(a3_4))"
      ],
      "execution_count": null,
      "outputs": []
    },
    {
      "cell_type": "code",
      "metadata": {
        "id": "wz2wW7x3n_IT",
        "colab": {
          "base_uri": "https://localhost:8080/"
        },
        "outputId": "b9130699-c8f8-4833-a861-b47480ceb906"
      },
      "source": [
        "a3_4_3 = np.ones((3,4,3))\n",
        "array_info(a3_4_3, retrieve_name(a3_4_3))\n",
        "\n",
        "# a3_4_3[0,0,0] = 0 \n",
        "# array_info(a3_4_3, retrieve_name(a3_4_3))\n",
        "\n",
        "# a3_4_3[1,0,0] = 0\n",
        "# array_info(a3_4_3, retrieve_name(a3_4_3))\n",
        "\n",
        "# a3_4_3[1,1] = 0 # column를 지정하지 않았다\n",
        "# array_info(a3_4_3, retrieve_name(a3_4_3))\n",
        "\n",
        "a3_4_3[2,2] = 0\n",
        "array_info(a3_4_3, retrieve_name(a3_4_3))\n",
        "\n"
      ],
      "execution_count": null,
      "outputs": [
        {
          "output_type": "stream",
          "name": "stdout",
          "text": [
            "************************************************************\n",
            "<<<array_info func:['a3_4_3']>>>\n",
            "************************************************************\n",
            "array= [[[1. 1. 1.]\n",
            "  [1. 1. 1.]\n",
            "  [1. 1. 1.]\n",
            "  [1. 1. 1.]]\n",
            "\n",
            " [[1. 1. 1.]\n",
            "  [1. 1. 1.]\n",
            "  [1. 1. 1.]\n",
            "  [1. 1. 1.]]\n",
            "\n",
            " [[1. 1. 1.]\n",
            "  [1. 1. 1.]\n",
            "  [1. 1. 1.]\n",
            "  [1. 1. 1.]]]\n",
            "type= <class 'numpy.ndarray'>\n",
            "ndim: 3\n",
            "shape: (3, 4, 3)\n",
            "dtype: float64\n",
            "size: 36\n",
            "itemsize: 8\n",
            "nbytes: 288\n",
            "strides: (96, 24, 8)\n",
            "************************************************************\n",
            "************************************************************\n",
            "<<<array_info func:['a3_4_3']>>>\n",
            "************************************************************\n",
            "array= [[[1. 1. 1.]\n",
            "  [1. 1. 1.]\n",
            "  [1. 1. 1.]\n",
            "  [1. 1. 1.]]\n",
            "\n",
            " [[1. 1. 1.]\n",
            "  [1. 1. 1.]\n",
            "  [1. 1. 1.]\n",
            "  [1. 1. 1.]]\n",
            "\n",
            " [[1. 1. 1.]\n",
            "  [1. 1. 1.]\n",
            "  [0. 0. 0.]\n",
            "  [1. 1. 1.]]]\n",
            "type= <class 'numpy.ndarray'>\n",
            "ndim: 3\n",
            "shape: (3, 4, 3)\n",
            "dtype: float64\n",
            "size: 36\n",
            "itemsize: 8\n",
            "nbytes: 288\n",
            "strides: (96, 24, 8)\n",
            "************************************************************\n"
          ]
        }
      ]
    },
    {
      "cell_type": "markdown",
      "metadata": {
        "id": "emV7DgrITPcn"
      },
      "source": [
        "### 배열 값 삭제\n",
        "\n",
        "* `delete()`: 배열의 특정 위치에 값 삭제\n",
        "* axis를 지정하지 않으면 1차원 배열로 변환\n",
        "* 삭제할 방향을 axis로 지정\n",
        "* 원본 배열 변경없이 새로운 배열 반환"
      ]
    },
    {
      "cell_type": "code",
      "metadata": {
        "id": "I3k_Yx8lTRJ2",
        "colab": {
          "base_uri": "https://localhost:8080/"
        },
        "outputId": "28280051-dacd-410b-faa4-5d44d20e3494"
      },
      "source": [
        "array_info(a1, retrieve_name(a1))\n",
        "b1 = np.delete(a1, 1)\n",
        "array_info(b1, retrieve_name(b1))"
      ],
      "execution_count": null,
      "outputs": [
        {
          "output_type": "stream",
          "name": "stdout",
          "text": [
            "************************************************************\n",
            "<<<array_info func:['a1']>>>\n",
            "************************************************************\n",
            "array= [1 2 3 4 5]\n",
            "type= <class 'numpy.ndarray'>\n",
            "ndim: 1\n",
            "shape: (5,)\n",
            "dtype: int64\n",
            "size: 5\n",
            "itemsize: 8\n",
            "nbytes: 40\n",
            "strides: (8,)\n",
            "************************************************************\n",
            "************************************************************\n",
            "<<<array_info func:['b1']>>>\n",
            "************************************************************\n",
            "array= [1 3 4 5]\n",
            "type= <class 'numpy.ndarray'>\n",
            "ndim: 1\n",
            "shape: (4,)\n",
            "dtype: int64\n",
            "size: 4\n",
            "itemsize: 8\n",
            "nbytes: 32\n",
            "strides: (8,)\n",
            "************************************************************\n"
          ]
        }
      ]
    },
    {
      "cell_type": "code",
      "source": [
        "array_info(a1, retrieve_name(a1)) #원본 배열은 유지"
      ],
      "metadata": {
        "colab": {
          "base_uri": "https://localhost:8080/"
        },
        "id": "8ETY2IAiRkuN",
        "outputId": "def9056f-4bc6-4a86-f97a-edfabb0eddae"
      },
      "execution_count": null,
      "outputs": [
        {
          "output_type": "stream",
          "name": "stdout",
          "text": [
            "************************************************************\n",
            "<<<array_info func:['a1']>>>\n",
            "************************************************************\n",
            "array= [1 2 3 4 5]\n",
            "type= <class 'numpy.ndarray'>\n",
            "ndim: 1\n",
            "shape: (5,)\n",
            "dtype: int64\n",
            "size: 5\n",
            "itemsize: 8\n",
            "nbytes: 40\n",
            "strides: (8,)\n",
            "************************************************************\n"
          ]
        }
      ]
    },
    {
      "cell_type": "code",
      "metadata": {
        "id": "tRTwMIfJTq_y",
        "colab": {
          "base_uri": "https://localhost:8080/"
        },
        "outputId": "7567ee03-1195-4fd4-967c-edbd6aa90ab5"
      },
      "source": [
        "a4_3 = np.arange(12).reshape(4, 3)\n",
        "array_info(a4_3, retrieve_name(a4_3))\n",
        "# b2 = np.delete(a4_3, 1, axis=0) #axis가 0으로 설정되었기 때문에 1번째 행이 삭제된다\n",
        "# np.s_:A nicer way to build up index tuples for arrays.\n",
        "# print(\"np.s_[::1] = \", np.s_[::1])\n",
        "# b2 = np.delete(a4_3, np.s_[::1], axis=0)\n",
        "# print(\"np.s_[::2] = \", np.s_[::2])\n",
        "# b2 = np.delete(a4_3, np.s_[::2], axis=0)\n",
        "# array_info(b2, retrieve_name(b2))\n",
        "\n",
        "# c2 = np.delete(a4_3, 1, axis=1)\n",
        "# array_info(c2, retrieve_name(c2))\n",
        "\n",
        "# c2 = np.delete(a4_3, np.s_[0:2], axis=1)\n",
        "# array_info(c2, retrieve_name(c2))\n",
        "\n",
        "c2 = np.delete(a4_3, np.s_[::2], axis=1)\n",
        "array_info(c2, retrieve_name(c2))\n"
      ],
      "execution_count": null,
      "outputs": [
        {
          "output_type": "stream",
          "name": "stdout",
          "text": [
            "************************************************************\n",
            "<<<array_info func:['a4_3']>>>\n",
            "************************************************************\n",
            "array= [[ 0  1  2]\n",
            " [ 3  4  5]\n",
            " [ 6  7  8]\n",
            " [ 9 10 11]]\n",
            "type= <class 'numpy.ndarray'>\n",
            "ndim: 2\n",
            "shape: (4, 3)\n",
            "dtype: int64\n",
            "size: 12\n",
            "itemsize: 8\n",
            "nbytes: 96\n",
            "strides: (24, 8)\n",
            "************************************************************\n",
            "************************************************************\n",
            "<<<array_info func:['c2']>>>\n",
            "************************************************************\n",
            "array= [[ 1]\n",
            " [ 4]\n",
            " [ 7]\n",
            " [10]]\n",
            "type= <class 'numpy.ndarray'>\n",
            "ndim: 2\n",
            "shape: (4, 1)\n",
            "dtype: int64\n",
            "size: 4\n",
            "itemsize: 8\n",
            "nbytes: 32\n",
            "strides: (8, 8)\n",
            "************************************************************\n"
          ]
        }
      ]
    },
    {
      "cell_type": "markdown",
      "metadata": {
        "id": "UydkYxV8Z6Fx"
      },
      "source": [
        "### 배열 복사\n",
        "\n",
        "* 리스트 자료형과 달리 배열의 슬라이스는 복사본이 아님"
      ]
    },
    {
      "cell_type": "code",
      "metadata": {
        "id": "n2_0L8KWZ7wH",
        "colab": {
          "base_uri": "https://localhost:8080/"
        },
        "outputId": "22db2d64-5445-40f0-f953-16bb9c9476ad"
      },
      "source": [
        "a3_3 = np.array([[1, 2, 3],\n",
        "               [4, 5, 6],\n",
        "               [7, 8, 9]])\n",
        "\n",
        "print(a3_3)\n",
        "print(\"**************************\")\n",
        "a3_3[:2, :2] = 7\n",
        "#print(a3_3)\n",
        "#print(\"**************************\")\n",
        "#print(a3_3[:2, :2])\n",
        "#print(\"**************************\")\n",
        "#print(a3_3[:, 1])\n",
        "print(\"**************************\")\n",
        "print(a3_3)"
      ],
      "execution_count": null,
      "outputs": [
        {
          "output_type": "stream",
          "name": "stdout",
          "text": [
            "[[1 2 3]\n",
            " [4 5 6]\n",
            " [7 8 9]]\n",
            "**************************\n",
            "**************************\n",
            "[[7 7 3]\n",
            " [7 7 6]\n",
            " [7 8 9]]\n"
          ]
        }
      ]
    },
    {
      "cell_type": "markdown",
      "metadata": {
        "id": "UrQqOC1Eat5l"
      },
      "source": [
        "\n",
        "* `copy()`: 배열이나 하위 배열 내의 값을 명시적으로 복사"
      ]
    },
    {
      "cell_type": "code",
      "metadata": {
        "id": "hLBZ7Qn6bAKO",
        "colab": {
          "base_uri": "https://localhost:8080/"
        },
        "outputId": "0b745257-cb76-4576-a84c-2d91e30be3e4"
      },
      "source": [
        "a3_3 = np.array([[1, 2, 3],\n",
        "               [4, 5, 6],\n",
        "               [7, 8, 9]])\n",
        "\n",
        "print(a3_3)\n",
        "print(\"****************************\")\n",
        "#a3_3[:] = 0\n",
        "#print(a3_3)\n",
        "#print(a3_3[:2, :2])\n",
        "#print(\"****************************\")\n",
        "a3_3_sub_copy = a3_3[:2, :2].copy()\n",
        "print(a3_3_sub_copy)\n",
        "print(\"****************************\")\n",
        "a3_3_sub_copy[:, 1] = 3\n",
        "print(a3_3_sub_copy)\n",
        "print(\"****************************\")\n",
        "print(a3_3)"
      ],
      "execution_count": null,
      "outputs": [
        {
          "output_type": "stream",
          "name": "stdout",
          "text": [
            "[[1 2 3]\n",
            " [4 5 6]\n",
            " [7 8 9]]\n",
            "****************************\n",
            "[[1 2]\n",
            " [4 5]]\n",
            "****************************\n",
            "[[1 3]\n",
            " [4 3]]\n",
            "****************************\n",
            "[[1 2 3]\n",
            " [4 5 6]\n",
            " [7 8 9]]\n"
          ]
        }
      ]
    },
    {
      "cell_type": "markdown",
      "metadata": {
        "id": "4HTc9FXOGtA7"
      },
      "source": [
        "\n",
        "\n",
        "---\n",
        "\n"
      ]
    },
    {
      "cell_type": "markdown",
      "metadata": {
        "id": "XVZY082__yV6"
      },
      "source": [
        "## 배열 변환"
      ]
    },
    {
      "cell_type": "markdown",
      "metadata": {
        "id": "Ec09aPeBO58M"
      },
      "source": [
        "### 배열 전치 및 축 변경\n",
        "\n",
        "어떤 행렬의 전치 행렬은 그 행렬을 주대각선을 기준으로 하여 뒤집어 얻을 수 있다. 똑같은 방법으로 한 번 더 뒤집으면 원래 행렬로 돌아온다.\n",
        "\n",
        "![전치행렬](https://upload.wikimedia.org/wikipedia/commons/e/e4/Matrix_transpose.gif)"
      ]
    },
    {
      "cell_type": "markdown",
      "source": [
        "2d array는 row index와 column index를 swap한다"
      ],
      "metadata": {
        "id": "jso4D38M2QTP"
      }
    },
    {
      "cell_type": "code",
      "source": [
        "a1 = np.array([[1,2,3,4]])\n",
        "print(a1.T)"
      ],
      "metadata": {
        "id": "XHO4k945x-cP",
        "colab": {
          "base_uri": "https://localhost:8080/"
        },
        "outputId": "6b2490db-44f5-4753-bc08-b72381308344"
      },
      "execution_count": 70,
      "outputs": [
        {
          "output_type": "stream",
          "name": "stdout",
          "text": [
            "[[1]\n",
            " [2]\n",
            " [3]\n",
            " [4]]\n"
          ]
        }
      ]
    },
    {
      "cell_type": "code",
      "metadata": {
        "id": "anYByBpoWZmj",
        "colab": {
          "base_uri": "https://localhost:8080/"
        },
        "outputId": "3ca4f571-ca8e-42b7-a140-f9eaf44da129"
      },
      "source": [
        "a3_3 = np.array([[1, 2, 3],\n",
        "                 [4, 5, 6],\n",
        "                 [7, 8, 9]])\n",
        "\n",
        "# print(a3_3)\n",
        "# a3_3[:] = 1\n",
        "# print(a3_3)\n",
        "# a3_3[:] = 0\n",
        "# a3_3[:, 0:1] = 1\n",
        "print(a3_3)\n",
        "print(\"**********************\")\n",
        "print(a3_3.T)\n",
        "\n",
        "attest = np.array([[1, 1, 1],\n",
        "                   [0, 0, 0]])\n",
        "print(attest)\n",
        "print(attest.T)\n",
        "\n",
        "attestV = np.array([[1],\n",
        "                    [2],\n",
        "                    [3],\n",
        "                    [4],\n",
        "                    [5]])\n",
        "\n",
        "print(attestV)\n",
        "print(\"attestV shape=\", attestV.shape)\n",
        "print(\"***************************\")\n",
        "print(attestV.T)\n",
        "print(\"attestV.T shape=\", attestV.T.shape)\n",
        "\n",
        "\n",
        "print(\"***************************\")\n",
        "attestV2 = np.array([1,2,3,4,5])\n",
        "print(attestV2)\n",
        "print(\"attestV2.shape=\", attestV2.shape)\n",
        "print(\"***************************\")\n",
        "print(attestV2.T)\n",
        "print(\"attestV2.T shape=\", attestV2.T.shape)\n"
      ],
      "execution_count": 71,
      "outputs": [
        {
          "output_type": "stream",
          "name": "stdout",
          "text": [
            "[[1 2 3]\n",
            " [4 5 6]\n",
            " [7 8 9]]\n",
            "**********************\n",
            "[[1 4 7]\n",
            " [2 5 8]\n",
            " [3 6 9]]\n",
            "[[1 1 1]\n",
            " [0 0 0]]\n",
            "[[1 0]\n",
            " [1 0]\n",
            " [1 0]]\n",
            "[[1]\n",
            " [2]\n",
            " [3]\n",
            " [4]\n",
            " [5]]\n",
            "attestV shape= (5, 1)\n",
            "***************************\n",
            "[[1 2 3 4 5]]\n",
            "attestV.T shape= (1, 5)\n",
            "***************************\n",
            "[1 2 3 4 5]\n",
            "attestV2.shape= (5,)\n",
            "***************************\n",
            "[1 2 3 4 5]\n",
            "attestV2.T shape= (5,)\n"
          ]
        }
      ]
    },
    {
      "cell_type": "markdown",
      "metadata": {
        "id": "wsTnHJDOLPFH"
      },
      "source": [
        "[참고](https://arrayjson.com/numpy-transpose/)"
      ]
    },
    {
      "cell_type": "markdown",
      "source": [
        "3d array일 경우 depth index와 column index을 swap한다"
      ],
      "metadata": {
        "id": "IorYAjog10Z2"
      }
    },
    {
      "cell_type": "code",
      "metadata": {
        "id": "wg4XC6kiRnZo",
        "colab": {
          "base_uri": "https://localhost:8080/"
        },
        "outputId": "1c1e263d-f75c-4264-841b-491174d98240"
      },
      "source": [
        "# a2_2 = np.arange(9).reshape(3,3)\n",
        "# print(a2_2)\n",
        "# print(a2_2.T)\n",
        "\n",
        "a3_3_3 = np.arange(27).reshape(3,3,3)\n",
        "\n",
        "print(a3_3_3)\n",
        "print(a3_3_3.shape)\n",
        "print(\"******************\")\n",
        "print(a3_3_3.T)\n",
        "print(\"******************\")\n",
        "# print(a3_3_3)\n",
        "# print(\"******************\")\n",
        "# a4 = np.array([ \n",
        "#                  [[1, 2, 3], \n",
        "#                   [4, 5, 6], \n",
        "#                   [7, 8, 9]],\n",
        "                 \n",
        "#                  [[1, 2, 3], \n",
        "#                   [4, 5, 6], \n",
        "#                   [7, 8, 9]],\n",
        "                 \n",
        "#                  [[1, 2, 3], \n",
        "#                   [4, 5, 6], \n",
        "#                   [7, 8, 9]]\n",
        "# ])\n",
        "# print(a4)\n",
        "# print(\"******************\")\n",
        "# print(a4.T)"
      ],
      "execution_count": 72,
      "outputs": [
        {
          "output_type": "stream",
          "name": "stdout",
          "text": [
            "[[[ 0  1  2]\n",
            "  [ 3  4  5]\n",
            "  [ 6  7  8]]\n",
            "\n",
            " [[ 9 10 11]\n",
            "  [12 13 14]\n",
            "  [15 16 17]]\n",
            "\n",
            " [[18 19 20]\n",
            "  [21 22 23]\n",
            "  [24 25 26]]]\n",
            "(3, 3, 3)\n",
            "******************\n",
            "[[[ 0  9 18]\n",
            "  [ 3 12 21]\n",
            "  [ 6 15 24]]\n",
            "\n",
            " [[ 1 10 19]\n",
            "  [ 4 13 22]\n",
            "  [ 7 16 25]]\n",
            "\n",
            " [[ 2 11 20]\n",
            "  [ 5 14 23]\n",
            "  [ 8 17 26]]]\n",
            "******************\n"
          ]
        }
      ]
    },
    {
      "cell_type": "code",
      "source": [
        "arr = np.arange(18).reshape(2,3,3)\n",
        "array_info(arr)"
      ],
      "metadata": {
        "id": "3rrFYGGC0CIf",
        "colab": {
          "base_uri": "https://localhost:8080/"
        },
        "outputId": "1e9c9a81-eeae-4480-bff5-95cc44e5ea1d"
      },
      "execution_count": 76,
      "outputs": [
        {
          "output_type": "stream",
          "name": "stdout",
          "text": [
            "************************************************************\n",
            "<<<array_info func:Noname>>>\n",
            "************************************************************\n",
            "array= [[[ 0  1  2]\n",
            "  [ 3  4  5]\n",
            "  [ 6  7  8]]\n",
            "\n",
            " [[ 9 10 11]\n",
            "  [12 13 14]\n",
            "  [15 16 17]]]\n",
            "type= <class 'numpy.ndarray'>\n",
            "ndim: 3\n",
            "shape: (2, 3, 3)\n",
            "dtype: int64\n",
            "size: 18\n",
            "itemsize: 8\n",
            "nbytes: 144\n",
            "strides: (72, 24, 8)\n",
            "************************************************************\n"
          ]
        }
      ]
    },
    {
      "cell_type": "code",
      "source": [
        "array_info(arr.T)"
      ],
      "metadata": {
        "id": "2ALbWavm0ik_",
        "colab": {
          "base_uri": "https://localhost:8080/"
        },
        "outputId": "4a19139d-fb3a-4522-eaef-fd484e9cbadb"
      },
      "execution_count": 77,
      "outputs": [
        {
          "output_type": "stream",
          "name": "stdout",
          "text": [
            "************************************************************\n",
            "<<<array_info func:Noname>>>\n",
            "************************************************************\n",
            "array= [[[ 0  9]\n",
            "  [ 3 12]\n",
            "  [ 6 15]]\n",
            "\n",
            " [[ 1 10]\n",
            "  [ 4 13]\n",
            "  [ 7 16]]\n",
            "\n",
            " [[ 2 11]\n",
            "  [ 5 14]\n",
            "  [ 8 17]]]\n",
            "type= <class 'numpy.ndarray'>\n",
            "ndim: 3\n",
            "shape: (3, 3, 2)\n",
            "dtype: int64\n",
            "size: 18\n",
            "itemsize: 8\n",
            "nbytes: 144\n",
            "strides: (8, 24, 72)\n",
            "************************************************************\n"
          ]
        }
      ]
    },
    {
      "cell_type": "code",
      "source": [
        "arr4 = np.arange(24).reshape(1,2,3,4)\n",
        "array_info(arr4, retrieve_name(arr4))"
      ],
      "metadata": {
        "colab": {
          "base_uri": "https://localhost:8080/"
        },
        "id": "fTT8NoAr3TU6",
        "outputId": "00aa468c-0782-4d38-d7db-369fa55428a3"
      },
      "execution_count": 78,
      "outputs": [
        {
          "output_type": "stream",
          "name": "stdout",
          "text": [
            "************************************************************\n",
            "<<<array_info func:['arr4']>>>\n",
            "************************************************************\n",
            "array= [[[[ 0  1  2  3]\n",
            "   [ 4  5  6  7]\n",
            "   [ 8  9 10 11]]\n",
            "\n",
            "  [[12 13 14 15]\n",
            "   [16 17 18 19]\n",
            "   [20 21 22 23]]]]\n",
            "type= <class 'numpy.ndarray'>\n",
            "ndim: 4\n",
            "shape: (1, 2, 3, 4)\n",
            "dtype: int64\n",
            "size: 24\n",
            "itemsize: 8\n",
            "nbytes: 192\n",
            "strides: (192, 96, 32, 8)\n",
            "************************************************************\n"
          ]
        }
      ]
    },
    {
      "cell_type": "code",
      "source": [
        "array_info(arr4.T, retrieve_name(arr4.T))"
      ],
      "metadata": {
        "colab": {
          "base_uri": "https://localhost:8080/"
        },
        "id": "a6qep8uj3ycN",
        "outputId": "10a46ca8-9693-42aa-a045-99d0611c5a75"
      },
      "execution_count": 79,
      "outputs": [
        {
          "output_type": "stream",
          "name": "stdout",
          "text": [
            "************************************************************\n",
            "<<<array_info func:[]>>>\n",
            "************************************************************\n",
            "array= [[[[ 0]\n",
            "   [12]]\n",
            "\n",
            "  [[ 4]\n",
            "   [16]]\n",
            "\n",
            "  [[ 8]\n",
            "   [20]]]\n",
            "\n",
            "\n",
            " [[[ 1]\n",
            "   [13]]\n",
            "\n",
            "  [[ 5]\n",
            "   [17]]\n",
            "\n",
            "  [[ 9]\n",
            "   [21]]]\n",
            "\n",
            "\n",
            " [[[ 2]\n",
            "   [14]]\n",
            "\n",
            "  [[ 6]\n",
            "   [18]]\n",
            "\n",
            "  [[10]\n",
            "   [22]]]\n",
            "\n",
            "\n",
            " [[[ 3]\n",
            "   [15]]\n",
            "\n",
            "  [[ 7]\n",
            "   [19]]\n",
            "\n",
            "  [[11]\n",
            "   [23]]]]\n",
            "type= <class 'numpy.ndarray'>\n",
            "ndim: 4\n",
            "shape: (4, 3, 2, 1)\n",
            "dtype: int64\n",
            "size: 24\n",
            "itemsize: 8\n",
            "nbytes: 192\n",
            "strides: (8, 32, 96, 192)\n",
            "************************************************************\n"
          ]
        }
      ]
    },
    {
      "cell_type": "code",
      "metadata": {
        "id": "6lPwXL8rRTfI",
        "colab": {
          "base_uri": "https://localhost:8080/"
        },
        "outputId": "4ff9a49f-2c2b-4437-8692-18d639b2928f"
      },
      "source": [
        "attest2d = np.array([[1, 1, 1],\n",
        "                   [0, 0, 0]])\n",
        "array_info(attest2d, retrieve_name(attest2d))\n",
        "\n",
        "attest2d.swapaxes(0, 1)\n",
        "\n",
        "array_info(attest2d, retrieve_name(attest2d))\n",
        "# array_info(attest2d.swapaxes(0, 1)) #axis0[row]을 axis1[col]로 스왑\n",
        "\n",
        "# array_info(attest2d.swapaxes(1, 0)) #axis1[col]을 axis0[row]로 스왑\n",
        "\n",
        "\n",
        "# x = np.arange(24).reshape(2,3,4)\n",
        "# array_info(x, retrieve_name(x))\n",
        "# x2 = np.swapaxes(x, 0, 1)\n",
        "# x2 = np.swapaxes(x, 0, 2)\n",
        "# x2 = np.swapaxes(x, 1, 2)\n",
        "\n",
        "# array_info(x2, retrieve_name(x2))\n",
        "# x3 = x.swapaxes(0,2)\n",
        "# array_info(x3, retrieve_name(x3))"
      ],
      "execution_count": null,
      "outputs": [
        {
          "output_type": "stream",
          "name": "stdout",
          "text": [
            "************************************************************\n",
            "<<<array_info func:['attest2d']>>>\n",
            "************************************************************\n",
            "array= [[1 1 1]\n",
            " [0 0 0]]\n",
            "type= <class 'numpy.ndarray'>\n",
            "ndim: 2\n",
            "shape: (2, 3)\n",
            "dtype: int64\n",
            "size: 6\n",
            "itemsize: 8\n",
            "nbytes: 48\n",
            "strides: (24, 8)\n",
            "************************************************************\n",
            "************************************************************\n",
            "<<<array_info func:['attest2d']>>>\n",
            "************************************************************\n",
            "array= [[1 1 1]\n",
            " [0 0 0]]\n",
            "type= <class 'numpy.ndarray'>\n",
            "ndim: 2\n",
            "shape: (2, 3)\n",
            "dtype: int64\n",
            "size: 6\n",
            "itemsize: 8\n",
            "nbytes: 48\n",
            "strides: (24, 8)\n",
            "************************************************************\n"
          ]
        }
      ]
    },
    {
      "cell_type": "code",
      "metadata": {
        "id": "UuWAUINaMBfQ"
      },
      "source": [
        "A = np.arange(24).reshape(2,3,4)\n",
        "#print(A)\n",
        "#print(A.swapaxes(0,1).shape)\n",
        "#print(A.swapaxes(0,1))\n",
        "#print(A.shape)\n",
        "#print(A)\n",
        "\n",
        "#print(\"**************************\")\n",
        "#print(A.swapaxes(1,2).shape)\n",
        "#print(A.swapaxes(1,2))\n",
        "\n",
        "\n",
        "x = np.array([[1,2,3]])\n",
        "print(\"x=\", x)\n",
        "print(\"x.shape\", x.shape)\n",
        "print(\"****************************\")\n",
        "npx = np.swapaxes(x,0,1)\n",
        "print(npx)\n",
        "print(npx.shape)\n",
        "\n",
        "print(\"****************************\")\n",
        "x2 = np.array([[[0,1],[2,3]],[[4,5],[6,7]]])\n",
        "print(x2)\n",
        "print(x2.shape)\n",
        "print(\"****************************\")\n",
        "np.swapaxes(x2,0,1)\n",
        "#np.swapaxes(x2,0,2)"
      ],
      "execution_count": null,
      "outputs": []
    },
    {
      "cell_type": "code",
      "metadata": {
        "id": "oLbEHtijRewH"
      },
      "source": [
        "attest3d = np.array(\n",
        "    [\n",
        "     [[1, 2, 3],\n",
        "     [4, 5, 6],\n",
        "     [7, 8, 9]],\n",
        "\n",
        "     [[1, 2, 3],\n",
        "     [4, 5, 6],\n",
        "     [7, 8, 9]],\n",
        "\n",
        "     [[1, 2, 3],\n",
        "     [4, 5, 6],\n",
        "     [7, 8, 9]]\n",
        "    ]\n",
        "    )\n",
        "\n",
        "print(attest3d)\n",
        "print(\"***********************\")\n",
        "print(attest3d.swapaxes(0, 1))   # depth <-> row ???\n",
        "print(\"***********************\")\n",
        "# print(attest3d.swapaxes(1, 2))\n",
        "# print(\"***********************\")\n",
        "# print(attest3d)"
      ],
      "execution_count": null,
      "outputs": []
    },
    {
      "cell_type": "markdown",
      "metadata": {
        "id": "dwjVbQvyPSl7"
      },
      "source": [
        "swswapaxesap(0,1) -> depth와 row를 스왑\n",
        "\n",
        "$$(2, 3, 4) -> (3, 2, 4)$$\n",
        "\n",
        "\n",
        "\n",
        "[[[ 0  1  2  3]\n",
        "  [12 13 14 15]]\n",
        "\n",
        " [[ 4  5  6  7]\n",
        "  [16 17 18 19]]\n",
        "\n",
        " [[ 8  9 10 11]\n",
        "  [20 21 22 23]]]\n",
        "\n"
      ]
    },
    {
      "cell_type": "markdown",
      "source": [
        "numpy.transpose()"
      ],
      "metadata": {
        "id": "Idl0i_da5QYQ"
      }
    },
    {
      "cell_type": "markdown",
      "metadata": {
        "id": "M7xN8WdOdb_S"
      },
      "source": [
        "### 배열 재구조화\n"
      ]
    },
    {
      "cell_type": "markdown",
      "metadata": {
        "id": "JwZJMpXGfY0V"
      },
      "source": [
        "* `reshape()`: 배열의 형상을 변경"
      ]
    },
    {
      "cell_type": "code",
      "metadata": {
        "id": "SlGQ17VQdd8i",
        "colab": {
          "base_uri": "https://localhost:8080/"
        },
        "outputId": "b64c3380-beb8-4649-ea12-c7d559762936"
      },
      "source": [
        "n1 = np.arange(1, 10)\n",
        "print(type(n1))\n",
        "print(n1)\n",
        "print(n1.shape)\n",
        "n1_res = n1.reshape(3,3)\n",
        "print(n1_res)\n",
        "print(n1_res.shape)\n",
        "print(n1.shape)\n",
        "print(\"******************************\")\n"
      ],
      "execution_count": 80,
      "outputs": [
        {
          "output_type": "stream",
          "name": "stdout",
          "text": [
            "<class 'numpy.ndarray'>\n",
            "[1 2 3 4 5 6 7 8 9]\n",
            "(9,)\n",
            "[[1 2 3]\n",
            " [4 5 6]\n",
            " [7 8 9]]\n",
            "(3, 3)\n",
            "(9,)\n",
            "******************************\n"
          ]
        }
      ]
    },
    {
      "cell_type": "markdown",
      "metadata": {
        "id": "FR82RSDggbcJ"
      },
      "source": [
        "### 배열 크기 변경"
      ]
    },
    {
      "cell_type": "markdown",
      "metadata": {
        "id": "D1LuDMVFl4tc"
      },
      "source": [
        "* 배열 모양만 변경"
      ]
    },
    {
      "cell_type": "code",
      "metadata": {
        "id": "7B6pHlfxgdSJ",
        "colab": {
          "base_uri": "https://localhost:8080/"
        },
        "outputId": "0c65c3b0-e274-4e52-e53b-52f334bc90ee"
      },
      "source": [
        "n2 = np.random.randint(0,10,(2,5))\n",
        "print(\"n2 shpae:\", n2.shape)\n",
        "print(n2)\n",
        "print(n2.T)\n",
        "print(\"****************************\")\n",
        "n2 = np.random.randint(0,10,(2,5))\n",
        "print(n2)\n",
        "n2.resize((5,2))\n",
        "print(n2)"
      ],
      "execution_count": 81,
      "outputs": [
        {
          "output_type": "stream",
          "name": "stdout",
          "text": [
            "n2 shpae: (2, 5)\n",
            "[[3 6 8 5 4]\n",
            " [7 9 6 7 3]]\n",
            "[[3 7]\n",
            " [6 9]\n",
            " [8 6]\n",
            " [5 7]\n",
            " [4 3]]\n",
            "****************************\n",
            "[[2 5 6 5 3]\n",
            " [8 0 0 7 5]]\n",
            "[[2 5]\n",
            " [6 5]\n",
            " [3 8]\n",
            " [0 0]\n",
            " [7 5]]\n"
          ]
        }
      ]
    },
    {
      "cell_type": "markdown",
      "metadata": {
        "id": "s0adm-h9l6sv"
      },
      "source": [
        "* 배열 크기 증가\n",
        "* 남은 공간은 0으로 채워짐"
      ]
    },
    {
      "cell_type": "code",
      "metadata": {
        "id": "IrX0UcjrlWRV",
        "colab": {
          "base_uri": "https://localhost:8080/"
        },
        "outputId": "d4b59c4e-74bc-4031-b775-9dee8aea7fbc"
      },
      "source": [
        "n2 = np.random.randint(0,10,(2,5))\n",
        "print(n2)\n",
        "\n",
        "n2.resize((5,5))\n",
        "print(n2)"
      ],
      "execution_count": 83,
      "outputs": [
        {
          "output_type": "stream",
          "name": "stdout",
          "text": [
            "[[7 7 8 9 9]\n",
            " [1 0 2 7 9]]\n",
            "[[7 7 8 9 9]\n",
            " [1 0 2 7 9]\n",
            " [0 0 0 0 0]\n",
            " [0 0 0 0 0]\n",
            " [0 0 0 0 0]]\n"
          ]
        }
      ]
    },
    {
      "cell_type": "markdown",
      "metadata": {
        "id": "78hPDEzfl9JB"
      },
      "source": [
        "* 배열 크기 감소\n",
        "* 포함되지 않은 값은 삭제됨"
      ]
    },
    {
      "cell_type": "code",
      "metadata": {
        "id": "fJWrwhc6lmjW",
        "colab": {
          "base_uri": "https://localhost:8080/"
        },
        "outputId": "449998fe-7c7b-4d74-c1ba-2be57708e2cb"
      },
      "source": [
        "#print(n2.size)\n",
        "#print(n2.shape)\n",
        "\n",
        "n2 = np.random.randint(0,10,(5,5))\n",
        "print(n2)\n",
        "\n",
        "n2.resize((3,3))\n",
        "print(n2)\n",
        "print(n2.shape)"
      ],
      "execution_count": 84,
      "outputs": [
        {
          "output_type": "stream",
          "name": "stdout",
          "text": [
            "[[0 7 4 8 8]\n",
            " [4 4 4 3 1]\n",
            " [1 7 5 7 9]\n",
            " [7 7 8 5 2]\n",
            " [1 7 6 3 1]]\n",
            "[[0 7 4]\n",
            " [8 8 4]\n",
            " [4 4 3]]\n",
            "(3, 3)\n"
          ]
        }
      ]
    },
    {
      "cell_type": "markdown",
      "metadata": {
        "id": "r9z2gD_pHyx9"
      },
      "source": [
        "### 배열 추가\n",
        "\n",
        "* `append()`: 배열의 끝에 값 추가"
      ]
    },
    {
      "cell_type": "code",
      "metadata": {
        "id": "fH4lpQKNH5s1",
        "colab": {
          "base_uri": "https://localhost:8080/"
        },
        "outputId": "ffd57543-752c-456a-c7ab-44b572369a65"
      },
      "source": [
        "a2 = np.arange(1, 10).reshape(3,3)\n",
        "print(a2)\n",
        "b2 = np.arange(10,19).reshape(3,3)\n",
        "print(b2)"
      ],
      "execution_count": 85,
      "outputs": [
        {
          "output_type": "stream",
          "name": "stdout",
          "text": [
            "[[1 2 3]\n",
            " [4 5 6]\n",
            " [7 8 9]]\n",
            "[[10 11 12]\n",
            " [13 14 15]\n",
            " [16 17 18]]\n"
          ]
        }
      ]
    },
    {
      "cell_type": "markdown",
      "metadata": {
        "id": "n8SMl5VVIquk"
      },
      "source": [
        "* axis 지정이 없으면 1차원 배열 형태로 변형되어 결합"
      ]
    },
    {
      "cell_type": "code",
      "metadata": {
        "id": "LRltk3yFIVsV",
        "colab": {
          "base_uri": "https://localhost:8080/"
        },
        "outputId": "c83297c1-cbf3-4e70-f93b-a81717dfde54"
      },
      "source": [
        "c2 = np.append(a2, b2)\n",
        "print(c2)"
      ],
      "execution_count": 86,
      "outputs": [
        {
          "output_type": "stream",
          "name": "stdout",
          "text": [
            "[ 1  2  3  4  5  6  7  8  9 10 11 12 13 14 15 16 17 18]\n"
          ]
        }
      ]
    },
    {
      "cell_type": "markdown",
      "metadata": {
        "id": "sVW2UFVZJfpR"
      },
      "source": [
        "* axis를 0으로 지정\n",
        "* shape[0]을 제외한 나머지 shape은 같아야 함"
      ]
    },
    {
      "cell_type": "code",
      "metadata": {
        "id": "nwJ4xLOeIbMg",
        "colab": {
          "base_uri": "https://localhost:8080/"
        },
        "outputId": "953814e0-0d2d-4603-d993-e04a298092f0"
      },
      "source": [
        "c2 = np.append(a2, b2, axis=0) # c2 = np.append(a2, b2, axis=2)\n",
        "print(c2.shape)\n",
        "print(c2)"
      ],
      "execution_count": 87,
      "outputs": [
        {
          "output_type": "stream",
          "name": "stdout",
          "text": [
            "(6, 3)\n",
            "[[ 1  2  3]\n",
            " [ 4  5  6]\n",
            " [ 7  8  9]\n",
            " [10 11 12]\n",
            " [13 14 15]\n",
            " [16 17 18]]\n"
          ]
        }
      ]
    },
    {
      "cell_type": "markdown",
      "metadata": {
        "id": "4YXxzygaJmj-"
      },
      "source": [
        "* axis를 1로 지정\n",
        "* shape[1]을 제외한 나머지 shape은 같아야 함"
      ]
    },
    {
      "cell_type": "code",
      "metadata": {
        "id": "JYE4_5gAJmYe",
        "colab": {
          "base_uri": "https://localhost:8080/"
        },
        "outputId": "e064e062-bcc3-42eb-cb9c-d55096b31289"
      },
      "source": [
        "c2 = np.append(a2, b2, axis=1) # c2 = np.append(a2, b2, axis=0) # c2 = np.append(a2, b2, axis=2)\n",
        "print(c2.shape)\n",
        "print(c2)"
      ],
      "execution_count": 88,
      "outputs": [
        {
          "output_type": "stream",
          "name": "stdout",
          "text": [
            "(3, 6)\n",
            "[[ 1  2  3 10 11 12]\n",
            " [ 4  5  6 13 14 15]\n",
            " [ 7  8  9 16 17 18]]\n"
          ]
        }
      ]
    },
    {
      "cell_type": "markdown",
      "metadata": {
        "id": "9sTza3b2hoe4"
      },
      "source": [
        "### 배열 연결"
      ]
    },
    {
      "cell_type": "markdown",
      "metadata": {
        "id": "TRun2NPYj8Ct"
      },
      "source": [
        "#### `concatenate()` \n",
        "튜플이나 배열의 리스트를 인수로 사용해 배열 연결"
      ]
    },
    {
      "cell_type": "code",
      "metadata": {
        "id": "lmEqdPifhrB_",
        "colab": {
          "base_uri": "https://localhost:8080/"
        },
        "outputId": "4b09c160-3ef3-4645-f4bc-ada5079cf088"
      },
      "source": [
        "a1 = np.array([1,3,5])\n",
        "b1 = np.array([2,4,6])\n",
        "print(a1.shape)\n",
        "print(b1.shape)\n",
        "\n",
        "con1 = np.concatenate([a1,b1])\n",
        "print(type(con1))\n",
        "print(con1)\n",
        "print(con1.shape)"
      ],
      "execution_count": 89,
      "outputs": [
        {
          "output_type": "stream",
          "name": "stdout",
          "text": [
            "(3,)\n",
            "(3,)\n",
            "<class 'numpy.ndarray'>\n",
            "[1 3 5 2 4 6]\n",
            "(6,)\n"
          ]
        }
      ]
    },
    {
      "cell_type": "code",
      "metadata": {
        "id": "IkoTNIt2k0tp",
        "colab": {
          "base_uri": "https://localhost:8080/"
        },
        "outputId": "e5a25872-bf20-4e08-fbb8-ce299bcbbf53"
      },
      "source": [
        "c1 = np.array([7,8,9])\n",
        "np.concatenate([a1,b1,c1])"
      ],
      "execution_count": 90,
      "outputs": [
        {
          "output_type": "execute_result",
          "data": {
            "text/plain": [
              "array([1, 3, 5, 2, 4, 6, 7, 8, 9])"
            ]
          },
          "metadata": {},
          "execution_count": 90
        }
      ]
    },
    {
      "cell_type": "code",
      "metadata": {
        "id": "vX0SCYX3lEs2",
        "colab": {
          "base_uri": "https://localhost:8080/"
        },
        "outputId": "80ad9345-6ad3-4e82-b3b4-067a6e17f414"
      },
      "source": [
        "a2 = np.array([\n",
        "               [1,2,3],\n",
        "               [4,5,6]\n",
        "])\n",
        "\n",
        "np.concatenate([a2, a2])"
      ],
      "execution_count": 91,
      "outputs": [
        {
          "output_type": "execute_result",
          "data": {
            "text/plain": [
              "array([[1, 2, 3],\n",
              "       [4, 5, 6],\n",
              "       [1, 2, 3],\n",
              "       [4, 5, 6]])"
            ]
          },
          "metadata": {},
          "execution_count": 91
        }
      ]
    },
    {
      "cell_type": "code",
      "metadata": {
        "id": "Rv6xGva7lxHP",
        "colab": {
          "base_uri": "https://localhost:8080/"
        },
        "outputId": "9c250b4d-d687-4613-f303-45f110f5ada8"
      },
      "source": [
        "a2 = np.array([\n",
        "               [1,2,3],\n",
        "               [4,5,6]\n",
        "])\n",
        "\n",
        "np.concatenate([a2, a2], axis=1)"
      ],
      "execution_count": 92,
      "outputs": [
        {
          "output_type": "execute_result",
          "data": {
            "text/plain": [
              "array([[1, 2, 3, 1, 2, 3],\n",
              "       [4, 5, 6, 4, 5, 6]])"
            ]
          },
          "metadata": {},
          "execution_count": 92
        }
      ]
    },
    {
      "cell_type": "markdown",
      "metadata": {
        "id": "MbiBbx4nl2KD"
      },
      "source": [
        "#### `vstack()`\n",
        "수직 스택(vertical stack), 1차원으로 연결"
      ]
    },
    {
      "cell_type": "code",
      "metadata": {
        "id": "HkHJwdBMl_qi",
        "colab": {
          "base_uri": "https://localhost:8080/"
        },
        "outputId": "de0f4b82-5748-4327-9fef-9aaef252ac0d"
      },
      "source": [
        "x = np.vstack([a2,a2])\n",
        "print(x)\n",
        "print(x.shape)"
      ],
      "execution_count": 94,
      "outputs": [
        {
          "output_type": "stream",
          "name": "stdout",
          "text": [
            "[[1 2 3]\n",
            " [4 5 6]\n",
            " [1 2 3]\n",
            " [4 5 6]]\n",
            "(4, 3)\n"
          ]
        }
      ]
    },
    {
      "cell_type": "markdown",
      "metadata": {
        "id": "-hTlAnWxmHA_"
      },
      "source": [
        "#### `hstack()`\n",
        "수평 스택(horizontal stack), 2차원으로 연결"
      ]
    },
    {
      "cell_type": "code",
      "metadata": {
        "id": "-HsGlAytmNEz",
        "colab": {
          "base_uri": "https://localhost:8080/"
        },
        "outputId": "8e108ff3-f511-488a-b629-009d139505f1"
      },
      "source": [
        "x = np.hstack([a2,a2])\n",
        "print(x)\n",
        "print(x.shape)"
      ],
      "execution_count": 95,
      "outputs": [
        {
          "output_type": "stream",
          "name": "stdout",
          "text": [
            "[[1 2 3 1 2 3]\n",
            " [4 5 6 4 5 6]]\n",
            "(2, 6)\n"
          ]
        }
      ]
    },
    {
      "cell_type": "markdown",
      "metadata": {
        "id": "CshM6LURmUhV"
      },
      "source": [
        "#### `dstack()`\n",
        "깊이 스택(depth stack), 3차원으로 연결"
      ]
    },
    {
      "cell_type": "code",
      "metadata": {
        "id": "TFBdRddpmU4m",
        "colab": {
          "base_uri": "https://localhost:8080/"
        },
        "outputId": "c2ba461a-6650-4c82-886a-b0ac2e6dd21e"
      },
      "source": [
        "x = np.dstack([a2,a2])\n",
        "print(x)\n",
        "print(x.shape)"
      ],
      "execution_count": 96,
      "outputs": [
        {
          "output_type": "stream",
          "name": "stdout",
          "text": [
            "[[[1 1]\n",
            "  [2 2]\n",
            "  [3 3]]\n",
            "\n",
            " [[4 4]\n",
            "  [5 5]\n",
            "  [6 6]]]\n",
            "(2, 3, 2)\n"
          ]
        }
      ]
    },
    {
      "cell_type": "markdown",
      "metadata": {
        "id": "JUBtc4UnpaSz"
      },
      "source": [
        "#### `stack()`\n",
        "새로운 차원으로 연결"
      ]
    },
    {
      "cell_type": "code",
      "metadata": {
        "id": "JzoujQ9_pHS5",
        "colab": {
          "base_uri": "https://localhost:8080/"
        },
        "outputId": "7e73c730-c4ae-4089-e9d9-a496836f399b"
      },
      "source": [
        "array_info(a2)\n",
        "x = np.stack([a2,a2])\n",
        "array_info(x)"
      ],
      "execution_count": 97,
      "outputs": [
        {
          "output_type": "stream",
          "name": "stdout",
          "text": [
            "************************************************************\n",
            "<<<array_info func:Noname>>>\n",
            "************************************************************\n",
            "array= [[1 2 3]\n",
            " [4 5 6]]\n",
            "type= <class 'numpy.ndarray'>\n",
            "ndim: 2\n",
            "shape: (2, 3)\n",
            "dtype: int64\n",
            "size: 6\n",
            "itemsize: 8\n",
            "nbytes: 48\n",
            "strides: (24, 8)\n",
            "************************************************************\n",
            "************************************************************\n",
            "<<<array_info func:Noname>>>\n",
            "************************************************************\n",
            "array= [[[1 2 3]\n",
            "  [4 5 6]]\n",
            "\n",
            " [[1 2 3]\n",
            "  [4 5 6]]]\n",
            "type= <class 'numpy.ndarray'>\n",
            "ndim: 3\n",
            "shape: (2, 2, 3)\n",
            "dtype: int64\n",
            "size: 12\n",
            "itemsize: 8\n",
            "nbytes: 96\n",
            "strides: (48, 24, 8)\n",
            "************************************************************\n"
          ]
        }
      ]
    },
    {
      "cell_type": "markdown",
      "source": [
        "#### `column_stack`\n",
        "새로운 차원으로 연결"
      ],
      "metadata": {
        "id": "f5j9fzdFUB0v"
      }
    },
    {
      "cell_type": "code",
      "source": [
        "v1 = np.array([1,2,3])\n",
        "v2 = np.array([4,5,6])\n",
        "array_info(np.column_stack((v1,v2)))"
      ],
      "metadata": {
        "id": "OkfsursjUJPW"
      },
      "execution_count": null,
      "outputs": []
    },
    {
      "cell_type": "code",
      "source": [
        "m1 = np.array([[1,2],[3,4]])\n",
        "m2 = np.array([[5,6],[7,8]])\n",
        "array_info(np.column_stack((m1,m2)))\n"
      ],
      "metadata": {
        "id": "xX0pgI-6UX_O"
      },
      "execution_count": null,
      "outputs": []
    },
    {
      "cell_type": "code",
      "source": [
        "ar1=np.array([ [[1,2,3],\n",
        "                [4,5,6]], \n",
        "              \n",
        "              [[7,8,9],\n",
        "               [10,11,12]] ])\n",
        "ar2=np.array([ [[10,20,30],\n",
        "                [40,50,60]],\n",
        "              \n",
        "              [[70,80,90],\n",
        "               [100,110,120]] ])"
      ],
      "metadata": {
        "id": "G_-f4faKUmHe"
      },
      "execution_count": null,
      "outputs": []
    },
    {
      "cell_type": "code",
      "source": [
        "array_info(np.column_stack((ar1,ar2)))"
      ],
      "metadata": {
        "id": "MKpBlYX8Uqsn"
      },
      "execution_count": null,
      "outputs": []
    },
    {
      "cell_type": "markdown",
      "metadata": {
        "id": "eYz74NYKo8iH"
      },
      "source": [
        "### 배열 분할"
      ]
    },
    {
      "cell_type": "markdown",
      "metadata": {
        "id": "wjt2zku5pBmF"
      },
      "source": [
        "#### `split()`\n",
        "배열 분할"
      ]
    },
    {
      "cell_type": "code",
      "metadata": {
        "id": "H_2e71heo-Eq",
        "colab": {
          "base_uri": "https://localhost:8080/"
        },
        "outputId": "14042341-d383-4ce0-c001-ca8ef03715db"
      },
      "source": [
        "a1 = np.arange(0,10)\n",
        "print(a1)\n",
        "b1, c1 = np.split(a1, [5])\n",
        "print(b1, c1)\n",
        "\n",
        "b1, c1, d1, e1, f1 = np.split(a1, [2,4,6,8])\n",
        "print(b1,c1,d1,e1,f1)\n",
        "b1[0] = 10\n",
        "print(b1)\n",
        "print(a1)"
      ],
      "execution_count": 104,
      "outputs": [
        {
          "output_type": "stream",
          "name": "stdout",
          "text": [
            "[0 1 2 3 4 5 6 7 8 9]\n",
            "[0 1 2 3 4] [5 6 7 8 9]\n",
            "[0 1] [2 3] [4 5] [6 7] [8 9]\n",
            "[10  1]\n",
            "[10  1  2  3  4  5  6  7  8  9]\n"
          ]
        }
      ]
    },
    {
      "cell_type": "markdown",
      "metadata": {
        "id": "IvvdCQcKsCLn"
      },
      "source": [
        "#### `vsplit()`\n",
        "수직 분할, 1차원으로 분할"
      ]
    },
    {
      "cell_type": "code",
      "metadata": {
        "id": "GdMYlsiLsCoe",
        "colab": {
          "base_uri": "https://localhost:8080/"
        },
        "outputId": "274aecff-93a7-4dbd-cbf2-3d7f5d37428b"
      },
      "source": [
        "a2 = np.arange(1,10).reshape(3,3)\n",
        "print(a2)\n",
        "b2, c2 = np.vsplit(a2, [2])\n",
        "print(b2)\n",
        "print(c2)"
      ],
      "execution_count": 105,
      "outputs": [
        {
          "output_type": "stream",
          "name": "stdout",
          "text": [
            "[[1 2 3]\n",
            " [4 5 6]\n",
            " [7 8 9]]\n",
            "[[1 2 3]\n",
            " [4 5 6]]\n",
            "[[7 8 9]]\n"
          ]
        }
      ]
    },
    {
      "cell_type": "markdown",
      "metadata": {
        "id": "1aC0a034rSXi"
      },
      "source": [
        "#### `hsplit()`\n",
        "수평 분할, 2차원으로 분할"
      ]
    },
    {
      "cell_type": "code",
      "metadata": {
        "id": "ShMnE_bnrSBJ",
        "colab": {
          "base_uri": "https://localhost:8080/"
        },
        "outputId": "4263e848-8d22-4c25-d05e-9d24da64499d"
      },
      "source": [
        "a2 = np.arange(0,25).reshape(5,5)\n",
        "print(\"a2=\", a2)\n",
        "b2, c2 = np.hsplit(a2, [2])\n",
        "print(\"b2=\", b2)\n",
        "print(\"c2=\", c2)"
      ],
      "execution_count": 112,
      "outputs": [
        {
          "output_type": "stream",
          "name": "stdout",
          "text": [
            "a2= [[ 0  1  2  3  4]\n",
            " [ 5  6  7  8  9]\n",
            " [10 11 12 13 14]\n",
            " [15 16 17 18 19]\n",
            " [20 21 22 23 24]]\n",
            "b2= [[ 0  1]\n",
            " [ 5  6]\n",
            " [10 11]\n",
            " [15 16]\n",
            " [20 21]]\n",
            "c2= [[ 2  3  4]\n",
            " [ 7  8  9]\n",
            " [12 13 14]\n",
            " [17 18 19]\n",
            " [22 23 24]]\n"
          ]
        }
      ]
    },
    {
      "cell_type": "markdown",
      "metadata": {
        "id": "Pz3BDD8qsQER"
      },
      "source": [
        "#### `dsplit()`\n",
        "깊이 분할, 3차원으로 분할"
      ]
    },
    {
      "cell_type": "code",
      "metadata": {
        "id": "DqHFGd43sQYj",
        "colab": {
          "base_uri": "https://localhost:8080/"
        },
        "outputId": "4cbc1fc9-ba5c-4108-bb42-41b63a20edfd"
      },
      "source": [
        "x = np.arange(16.0).reshape(2, 2, 4)\n",
        "print(\"x=\", x)\n",
        "# print60()\n",
        "# y1, y2 = np.dsplit(x, 2) #split 함수의 파라미터 axis를 2로 설정하는 것과 동일함\n",
        "# print60()\n",
        "# print(\"y1=\", y1)\n",
        "# print(\"y2=\", y2)\n",
        "print60()\n",
        "# print(np.dsplit(x, np.array([2, 3])))\n",
        "y3, y4, y5 = np.dsplit(x, np.array([2, 3]))\n",
        "print(\"y3=\", y3)\n",
        "print(\"y4=\", y4)\n",
        "print(\"y5=\", y5)"
      ],
      "execution_count": 119,
      "outputs": [
        {
          "output_type": "stream",
          "name": "stdout",
          "text": [
            "x= [[[ 0.  1.  2.  3.]\n",
            "  [ 4.  5.  6.  7.]]\n",
            "\n",
            " [[ 8.  9. 10. 11.]\n",
            "  [12. 13. 14. 15.]]]\n",
            "************************************************************\n",
            "y3= [[[ 0.  1.]\n",
            "  [ 4.  5.]]\n",
            "\n",
            " [[ 8.  9.]\n",
            "  [12. 13.]]]\n",
            "y4= [[[ 2.]\n",
            "  [ 6.]]\n",
            "\n",
            " [[10.]\n",
            "  [14.]]]\n",
            "y5= [[[ 3.]\n",
            "  [ 7.]]\n",
            "\n",
            " [[11.]\n",
            "  [15.]]]\n"
          ]
        }
      ]
    },
    {
      "cell_type": "code",
      "source": [
        "x = np.arange(16.0).reshape(2, 2, 4)\n",
        "\n",
        "print60()\n",
        "y1, y2 = np.split(x, 2, axis=2) #split 함수의 파라미터 axis를 2로 설정하는 것과 동일함\n",
        "print60()\n",
        "print(\"y1=\", y1)\n",
        "print(\"y2=\", y2)\n"
      ],
      "metadata": {
        "colab": {
          "base_uri": "https://localhost:8080/"
        },
        "id": "2n5cM3IB8ZI9",
        "outputId": "db2ae68a-82ef-4fb6-d1ec-56074a6419d6"
      },
      "execution_count": 120,
      "outputs": [
        {
          "output_type": "stream",
          "name": "stdout",
          "text": [
            "************************************************************\n",
            "************************************************************\n",
            "y1= [[[ 0.  1.]\n",
            "  [ 4.  5.]]\n",
            "\n",
            " [[ 8.  9.]\n",
            "  [12. 13.]]]\n",
            "y2= [[[ 2.  3.]\n",
            "  [ 6.  7.]]\n",
            "\n",
            " [[10. 11.]\n",
            "  [14. 15.]]]\n"
          ]
        }
      ]
    },
    {
      "cell_type": "code",
      "source": [
        "x = np.arange(64).reshape(4, 2, 8)\n",
        "print(\"x.shape=\", x.shape)\n",
        "print(\"x=\", x)\n",
        "print60()\n",
        "# y1, y2 = np.dsplit(x, 2) #split 함수의 파라미터 axis를 2로 설정하는 것과 동일함\n",
        "# print60()\n",
        "# print(\"y1.shape=\", y1.shape)\n",
        "# print(\"y2.shape=\", y2.shape)\n",
        "# print(\"y1=\", y1)\n",
        "# print(\"y2=\", y2)\n",
        "# print60()\n",
        "# y3, y4, y5 = np.dsplit(x, np.array([2, 3]))\n",
        "y3, y4, y5 = np.dsplit(x, np.array([3,6]))\n",
        "print(\"y3.shape=\", y3.shape)\n",
        "print(\"y4.shape=\", y4.shape)\n",
        "print(\"y5.shape=\", y5.shape)\n",
        "print(\"y3=\", y3)\n",
        "print(\"y4=\", y4)\n",
        "print(\"y5=\", y5)"
      ],
      "metadata": {
        "colab": {
          "base_uri": "https://localhost:8080/"
        },
        "id": "h6VELYuG_Ttt",
        "outputId": "f1452046-42ac-4e2a-83d4-2dac05707e39"
      },
      "execution_count": 127,
      "outputs": [
        {
          "output_type": "stream",
          "name": "stdout",
          "text": [
            "x.shape= (4, 2, 8)\n",
            "x= [[[ 0  1  2  3  4  5  6  7]\n",
            "  [ 8  9 10 11 12 13 14 15]]\n",
            "\n",
            " [[16 17 18 19 20 21 22 23]\n",
            "  [24 25 26 27 28 29 30 31]]\n",
            "\n",
            " [[32 33 34 35 36 37 38 39]\n",
            "  [40 41 42 43 44 45 46 47]]\n",
            "\n",
            " [[48 49 50 51 52 53 54 55]\n",
            "  [56 57 58 59 60 61 62 63]]]\n",
            "************************************************************\n",
            "y3.shape= (4, 2, 3)\n",
            "y4.shape= (4, 2, 3)\n",
            "y5.shape= (4, 2, 2)\n",
            "y3= [[[ 0  1  2]\n",
            "  [ 8  9 10]]\n",
            "\n",
            " [[16 17 18]\n",
            "  [24 25 26]]\n",
            "\n",
            " [[32 33 34]\n",
            "  [40 41 42]]\n",
            "\n",
            " [[48 49 50]\n",
            "  [56 57 58]]]\n",
            "y4= [[[ 3  4  5]\n",
            "  [11 12 13]]\n",
            "\n",
            " [[19 20 21]\n",
            "  [27 28 29]]\n",
            "\n",
            " [[35 36 37]\n",
            "  [43 44 45]]\n",
            "\n",
            " [[51 52 53]\n",
            "  [59 60 61]]]\n",
            "y5= [[[ 6  7]\n",
            "  [14 15]]\n",
            "\n",
            " [[22 23]\n",
            "  [30 31]]\n",
            "\n",
            " [[38 39]\n",
            "  [46 47]]\n",
            "\n",
            " [[54 55]\n",
            "  [62 63]]]\n"
          ]
        }
      ]
    },
    {
      "cell_type": "markdown",
      "metadata": {
        "id": "rK-zrDZuGoVd"
      },
      "source": [
        "\n",
        "\n",
        "---\n",
        "\n"
      ]
    },
    {
      "cell_type": "markdown",
      "metadata": {
        "id": "Vc-iSWewJ3C1"
      },
      "source": [
        "## 배열 연산\n",
        "\n",
        "* NumPy의 배열 연산은 벡터화(vectorized) 연산을 사용\n",
        "* 일반적으로 NumPy의 범용 함수(universal functions)를 통해 구현\n",
        "* 배열 요소에 대한 반복적인 계산을 효율적으로 수행"
      ]
    },
    {
      "cell_type": "markdown",
      "metadata": {
        "id": "Pg2er1A2w3cz"
      },
      "source": [
        "### 브로드캐스팅(Broadcasting)\n",
        "\n",
        "![Image 1.png](data:image/png;base64,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)"
      ]
    },
    {
      "cell_type": "code",
      "metadata": {
        "id": "IGU-HRgr20nj"
      },
      "source": [
        "import numpy as np\n",
        "\n",
        "a1 = np.array([1,2,3])\n",
        "print(a1)\n",
        "print(a1 + 5)\n",
        "\n",
        "a2 = np.arange(1, 10).reshape(3, 3)\n",
        "print(a2)\n",
        "print(a1 + a2)\n",
        "\n",
        "b2 = np.array([1,2,3]).reshape(3,1)\n",
        "print(b2)\n",
        "print(a1 + b2)"
      ],
      "execution_count": null,
      "outputs": []
    },
    {
      "cell_type": "markdown",
      "metadata": {
        "id": "NZzLHHLmwl_b"
      },
      "source": [
        "### 산술 연산(Arithmetic Operators)"
      ]
    },
    {
      "cell_type": "markdown",
      "metadata": {
        "id": "JRKZ1O499PV3"
      },
      "source": [
        "|연산자|범용함수|설명|\n",
        "|-------|-------|-----|\n",
        "|`+`|`np.add`|덧셈|\n",
        "|`-`|`np.subtract`|뺄셈|\n",
        "|`-`|`np.negative`|단향 음수|\n",
        "|`*`|`np.multiply`|곱셈|\n",
        "|`/`|`np.divide`|나눗셈|\n",
        "|`//`|`np.floor_divide`|나눗셈 내림|\n",
        "|`**`|`np.power`|지수 연산|\n",
        "|`%`|`np.mod`|나머지 연산|"
      ]
    },
    {
      "cell_type": "code",
      "metadata": {
        "id": "jHrIjHGEi05k"
      },
      "source": [
        "a1 = np.arange(1,10)\n",
        "print(a1)\n",
        "print(a1 + 1)\n",
        "print(np.add(a1, 10))\n",
        "print(a1 -2)\n",
        "print(np.subtract(a1, -2))\n",
        "print(-a1)\n",
        "#print(a1)\n",
        "print(np.negative(a1))\n",
        "print(a1 * 2)\n",
        "print(np.multiply(a1, 2))\n",
        "print(a1 / 2)\n",
        "print(np.divide(a1, 2))\n",
        "print(a1 // 2)\n",
        "print(np.floor_divide(a1, 2))\n",
        "print(a1 ** 2)\n",
        "print(np.power(a1, 2))\n",
        "print(a1 % 2)\n",
        "print(np.mod(a1, 2))"
      ],
      "execution_count": null,
      "outputs": []
    },
    {
      "cell_type": "code",
      "metadata": {
        "id": "sMUYzXk3psgC"
      },
      "source": [
        "a1 = np.arange(1,10)\n",
        "print(a1)\n",
        "b1 = np.random.randint(1,10,size=9)\n",
        "print(b1)\n",
        "print(a1 + b1)\n",
        "print(a1 - b1)\n",
        "print(a1 * b1)\n",
        "print(a1 / b1)\n",
        "print(a1 // b1)\n",
        "print(a1 ** b1)\n",
        "print(a1 % b1)"
      ],
      "execution_count": null,
      "outputs": []
    },
    {
      "cell_type": "code",
      "metadata": {
        "id": "ZkyjPmk5onPK"
      },
      "source": [
        "a2 = np.arange(1,10).reshape(3,3)\n",
        "print(a2)\n",
        "b2 = np.random.randint(1,10,size=(3,3))\n",
        "print(b2)\n",
        "print(\"*********************************\")\n",
        "print(a2 + b2)\n",
        "print(a2 - b2)\n",
        "print(a2 * b2)\n",
        "print(a2 / b2)\n",
        "print(a2 // b2)\n",
        "print(a2 ** b2)\n",
        "print(a2 % b2)"
      ],
      "execution_count": null,
      "outputs": []
    },
    {
      "cell_type": "markdown",
      "metadata": {
        "id": "hxG_aECas3a9"
      },
      "source": [
        "#### 절대값 함수(Absolute Function)\n",
        "\n",
        "* `absolute()`, `abs()`: 내장된 절대값 함수"
      ]
    },
    {
      "cell_type": "code",
      "metadata": {
        "id": "YmX-0LvWs7qM"
      },
      "source": [
        "a1 = np.random.randint(-10, 0, size=5)\n",
        "print(a1)\n",
        "print(np.absolute(a1))# a1.absolute()\n",
        "print(np.abs(a1))"
      ],
      "execution_count": null,
      "outputs": []
    },
    {
      "cell_type": "markdown",
      "metadata": {
        "id": "U5uE3sVtzRvA"
      },
      "source": [
        "#### 제곱/제곱근 함수\n",
        "\n",
        "* `square`, `sqrt`: 제곱, 제곱근 함수"
      ]
    },
    {
      "cell_type": "code",
      "metadata": {
        "id": "ggnIxDGzzTfX"
      },
      "source": [
        "print(a1)\n",
        "print(np.square(a1))\n",
        "bx = np.random.randint(1,100, size=5)\n",
        "print(bx)\n",
        "print(np.sqrt(bx))"
      ],
      "execution_count": null,
      "outputs": []
    },
    {
      "cell_type": "markdown",
      "metadata": {
        "id": "tWh1aQ50vRhB"
      },
      "source": [
        "#### 지수와 로그 함수 (Exponential and Log Function)"
      ]
    },
    {
      "cell_type": "code",
      "metadata": {
        "id": "Dygt3AyHvTZz"
      },
      "source": [
        "a1 = np.random.randint(1,10, size=5)\n",
        "print(a1)\n",
        "print(np.exp(a1))  #e^[a1_1, a1_2, a1_3, a1_4, a1_5]\n",
        "print(np.exp2(a1)) #2^[a1_1, a1_2, a1_3, a1_4, a1_5]\n",
        "print(np.power(a1, 2)) # a1_1^2, a1_2^2, a1_3^2, a1_4^2, a1_5^2"
      ],
      "execution_count": null,
      "outputs": []
    },
    {
      "cell_type": "code",
      "metadata": {
        "id": "YB0BzwxDvnkT"
      },
      "source": [
        "print(a1)\n",
        "print(np.log(a1)) # base is e\n",
        "print(np.log2(a1))\n",
        "print(np.log10(a1))"
      ],
      "execution_count": null,
      "outputs": []
    },
    {
      "cell_type": "markdown",
      "metadata": {
        "id": "wE_p9AxjtdJ9"
      },
      "source": [
        "#### 삼각 함수(Trigonometrical Function)\n"
      ]
    },
    {
      "cell_type": "markdown",
      "metadata": {
        "id": "19RC1YBBBXH5"
      },
      "source": [
        "|함수|설명|\n",
        "|----|----|\n",
        "|np.sin(array)|요소 별 사인|\n",
        "|np.cos(array)|요소 별 코사인|\n",
        "|np.tan(array)|요소 별 탄젠트|\n",
        "|np.arcsin(array)|요소 별 아크 사인|\n",
        "|np.arccos(array)|요소 별 아크 코사인|\n",
        "|np.arctan(array)|요소 별 아크 탄젠트|\n",
        "|np.arctan2(array1, array2)|요소 별 아크 탄젠트 array1 / array2|\n",
        "|np.sinh(array)|요소 별 하이퍼볼릭 사인|\n",
        "|np.cosh(array)|요소 별 하이퍼볼릭 코사인|\n",
        "|np.tanh(array)|요소 별 하이퍼볼릭 탄젠트|\n",
        "|np.arcsinh(array)|요소 별 하이퍼볼릭 아크 사인|\n",
        "|np.arccosh(array)|요소 별 하이퍼볼릭 아크 코사인|\n",
        "|np.arctanh(array)|요소 별 하이퍼볼릭 아크 탄젠트|\n",
        "|np.deg2rad(array)|요소 별 각도에서 라디안 변환|\n",
        "|np.rad2deg(array)|요소 별 라이안에서 각도 변환|\n",
        "|np.hypot(array)|요소 별 유클리드 거리 계산|\n"
      ]
    },
    {
      "cell_type": "code",
      "metadata": {
        "id": "6bOSPS81tuo5"
      },
      "source": [
        "t = np.linspace(0, np.pi, 3)\n",
        "print(t)\n",
        "print(np.sin(t))\n",
        "print(np.cos(t))\n",
        "print(np.tan(t))"
      ],
      "execution_count": null,
      "outputs": []
    },
    {
      "cell_type": "code",
      "metadata": {
        "id": "v7m-AQW9uJ9u"
      },
      "source": [
        "x = [-1,0,1]\n",
        "print(x)\n",
        "print(np.arcsin(x))\n",
        "print(np.arccos(x))\n",
        "print(np.arctan(x))"
      ],
      "execution_count": null,
      "outputs": []
    },
    {
      "cell_type": "markdown",
      "metadata": {
        "id": "hKJtYUVWwxQy"
      },
      "source": [
        "### 집계 함수(Aggregate Functions)"
      ]
    },
    {
      "cell_type": "markdown",
      "metadata": {
        "id": "n8U_orTCyNJA"
      },
      "source": [
        "\n",
        "|함수|NaN 안전모드|설명|\n",
        "-----|------------|-------\n",
        "|`np.sum`|`np.nansum`|요소의 합 계산|\n",
        "|np.cumsum|np.nancumsum|요소의 누적 합|\n",
        "|np.diff|N/A|요소의 지분|\n",
        "|np.prod|np.nanprod|요소의 곱 계산|\n",
        "|np.cumprod|np.nancumprod|요소의 누적 곱|\n",
        "|np.dot|N/A|점 곱(dot product)|\n",
        "|np.matmul|N/A|행렬 곱|\n",
        "|np.tensordot|N/A|텐서곱(tensor product)|\n",
        "|np.cross|N/A|벡터곱(cross product)|\n",
        "|np.inner|N/A|내적(inner product)|\n",
        "|np.outer|N/A|외적(outer product)|\n",
        "|np.mean|np.nanmean|요소의 평균 계산|\n",
        "|np.std|np.nanstd|표준 편차 계산|\n",
        "|np.var|np.nanvar|분산 계산|\n",
        "|np.min|np.nanmin|최소값|\n",
        "|np.max|np.nanmax|최대값|\n",
        "|np.argmin|np.nanargmin|최소값 인덱스|\n",
        "|np.argmax|np.nanargmax|최대값 인덱스|\n",
        "|np.median|np.nanmedian|중앙값|\n",
        "|np.percentile|np.nanpercentile|요소의 순위 기반 백분위 수 계산|\n",
        "|np.any|N/A|요소 중 참이 있는지 평가|\n",
        "|np.all|N/A|모든 요소가 참인지 평가|\n"
      ]
    },
    {
      "cell_type": "markdown",
      "metadata": {
        "id": "GdxMrX5l9m6W"
      },
      "source": [
        "#### sum(): 합 계산"
      ]
    },
    {
      "cell_type": "code",
      "metadata": {
        "id": "AJQ3GjLI0cZU"
      },
      "source": [
        "a2 = np.random.randint(1, 10, size=(3,3))\n",
        "print(a2)\n",
        "print(a2.sum(), np.sum(a2)) # 행렬의 모든 원소를 더한다 : 더하는 순서는 a11 + a12 + a13 + a21 + a22 + a23 + a31 + a32 + a33\n",
        "print(a2.sum(axis=0), np.sum(a2, axis=0))\n",
        "print(a2.sum(axis=1), np.sum(a2, axis=1))"
      ],
      "execution_count": null,
      "outputs": []
    },
    {
      "cell_type": "markdown",
      "metadata": {
        "id": "U4W4iIb9J4Zd"
      },
      "source": [
        "#### cumsum(): 누적합 계산"
      ]
    },
    {
      "cell_type": "code",
      "metadata": {
        "id": "SRZWZD3UJ4wo"
      },
      "source": [
        "\n",
        "print(a2)\n",
        "print(\"************************\")\n",
        "cums = np.cumsum(a2)\n",
        "print(type(cums))\n",
        "print(cums.shape)\n",
        "print(cums)\n",
        "#print(np.cumsum(a2)) # 1차원 벡터로 더하기 누적을 보여준다:만약 해당 오퍼랜드가 3 by 3 행렬이라면 벡터의 요소 개수는 9개임\n",
        "print(\"************************\")\n",
        "print(np.cumsum(a2, axis=0))\n",
        "print(\"************************\")\n",
        "print(np.cumsum(a2, axis=1))"
      ],
      "execution_count": null,
      "outputs": []
    },
    {
      "cell_type": "markdown",
      "metadata": {
        "id": "pVaJRWQ-LV0f"
      },
      "source": [
        "#### diff(): 차분 계산"
      ]
    },
    {
      "cell_type": "code",
      "metadata": {
        "id": "yKjnWtGVLWJj"
      },
      "source": [
        "\n",
        "print(a2)\n",
        "print(\"************************\")\n",
        "diffs = np.diff(a2)\n",
        "print(type(diffs))\n",
        "print(diffs.shape)\n",
        "print(diffs)\n",
        "print(\"************************\")\n",
        "print(np.diff(a2, axis=0))\n",
        "print(\"************************\")\n",
        "print(np.diff(a2, axis=1))"
      ],
      "execution_count": null,
      "outputs": []
    },
    {
      "cell_type": "markdown",
      "metadata": {
        "id": "b6I38HfA9vGL"
      },
      "source": [
        "#### prod(): 곱 계산"
      ]
    },
    {
      "cell_type": "code",
      "metadata": {
        "id": "rGPMXGe89y0O"
      },
      "source": [
        "\n",
        "print(a2)\n",
        "print(\"************************\")\n",
        "prods = np.prod(a2)  # 행렬의 모든 원소를 곱한다 : 곱하는 순서는 a11 * a12 * a13 * a21 * a22 * a23 * a31 * a32 * a33\n",
        "print(type(prods))\n",
        "print(prods.shape)\n",
        "print(prods)\n",
        "print(\"************************\")\n",
        "print(np.prod(a2, axis=0))\n",
        "print(\"************************\")\n",
        "print(np.prod(a2, axis=1))"
      ],
      "execution_count": null,
      "outputs": []
    },
    {
      "cell_type": "markdown",
      "metadata": {
        "id": "RwaoVUGcKkkE"
      },
      "source": [
        "#### cumprod(): 누적곱 계산"
      ]
    },
    {
      "cell_type": "code",
      "metadata": {
        "id": "jwYoX9inKk4D"
      },
      "source": [
        "\n",
        "print(a2)\n",
        "print(\"************************\")\n",
        "cprod = np.cumprod(a2)  # 행렬의 모든 원소를 곱한다 : 곱하는 순서는 a11 * a12 * a13 * a21 * a22 * a23 * a31 * a32 * a33\n",
        "print(type(cprod))\n",
        "print(cprod.shape)\n",
        "print(cprod)\n",
        "print(\"************************\")\n",
        "print(np.cumprod(a2, axis=0))\n",
        "print(\"************************\")\n",
        "print(np.cumprod(a2, axis=1))"
      ],
      "execution_count": null,
      "outputs": []
    },
    {
      "cell_type": "markdown",
      "metadata": {
        "id": "_LMAbL9hMV7T"
      },
      "source": [
        "#### dot()/matmul(): 점곱/행렬곱 계산\n",
        "\n",
        "numpy.dot 함수는 두 array의 내적 (Dot product)을 계산합니다.\n",
        "\n",
        "구체적으로, numpy.dot(a, b)은\n",
        "\n",
        "* a와 b가 모두 0차원 (scalar)이면, 곱 연산과 같습니다. 하지만 numpy.multiply(a, b) 또는 a * b가 권장됩니다.\n",
        "\n",
        "* a와 b가 모두 1차원 array면, 두 벡터의 내적 (Dot product)이 됩니다.\n",
        "\n",
        "* a와 b가 모두 2차원 array면, 행렬곱 (Matrix multiplication)이 됩니다. 하지만 numpy.matmul을 사용하는 것을 권장합니다."
      ]
    },
    {
      "cell_type": "code",
      "metadata": {
        "id": "xC6FBzF0MWW1"
      },
      "source": [
        "print(\"a2=\", a2)\n",
        "b2 = np.ones_like(a2)\n",
        "print(\"b2=\", b2)\n",
        "print(\"dot=\", np.dot(a2, b2))\n",
        "print(\"matmul=\", np.matmul(a2, b2))\n"
      ],
      "execution_count": null,
      "outputs": []
    },
    {
      "cell_type": "markdown",
      "metadata": {
        "id": "juVk3vnjPu31"
      },
      "source": [
        "#### tensordot(): 텐서곱 계산"
      ]
    },
    {
      "cell_type": "code",
      "metadata": {
        "id": "3LrcLOcjPvNI"
      },
      "source": [
        "print(\"a2=\", a2)\n",
        "print(\"b2=\", b2)\n",
        "print(\"tensordot=\", np.tensordot(a2, b2))\n",
        "print(\"****************************************\")\n",
        "print(np.tensordot(a2, b2, axes=0))\n",
        "print(\"****************************************\")\n",
        "print(np.tensordot(a2, b2, axes=1))\n",
        "\n"
      ],
      "execution_count": null,
      "outputs": []
    },
    {
      "cell_type": "markdown",
      "metadata": {
        "id": "UzmZhB5TNRMX"
      },
      "source": [
        "#### cross(): 벡터곱"
      ]
    },
    {
      "cell_type": "code",
      "metadata": {
        "id": "xvT2hy1FNRkU"
      },
      "source": [
        "x = [1, 2, 3]\n",
        "y = [4, 5, 6]\n",
        "\n",
        "print(np.cross(x, y))\n",
        "\n",
        "# 결과값 = [-3, 6, -3]\n",
        "# -3 : (2 * 6) - (3 * 5)\n",
        "#  6 : (3 * 4) - (1 * 6)\n",
        "# -3 : (1 * 5) - (2 * 4)"
      ],
      "execution_count": null,
      "outputs": []
    },
    {
      "cell_type": "markdown",
      "metadata": {
        "id": "SJVYmtrSO5YL"
      },
      "source": [
        "#### inner()/outer(): 내적/외적"
      ]
    },
    {
      "cell_type": "code",
      "metadata": {
        "id": "HJpomax7O5s6"
      },
      "source": [
        "print(\"a2=\", a2)\n",
        "print(\"b2=\", b2)\n",
        "print(\"inner=\", np.inner(a2, b2)) # np.dot 결과와 동일\n",
        "print(\"outer=\", np.outer(a2, b2))\n",
        "\n",
        "\n"
      ],
      "execution_count": null,
      "outputs": []
    },
    {
      "cell_type": "markdown",
      "metadata": {
        "id": "9CIotQgI_RQ-"
      },
      "source": [
        "#### mean(): 평균 계산"
      ]
    },
    {
      "cell_type": "code",
      "metadata": {
        "id": "g96wAEOT_bUk"
      },
      "source": [
        "print(a2)\n",
        "print(np.mean(a2))\n",
        "print(np.mean(a2, axis=0))\n",
        "print(np.mean(a2, axis=1))"
      ],
      "execution_count": null,
      "outputs": []
    },
    {
      "cell_type": "markdown",
      "metadata": {
        "id": "wAG_zijP_Z5o"
      },
      "source": [
        "#### std(): 표준 편차 계산"
      ]
    },
    {
      "cell_type": "code",
      "metadata": {
        "id": "hlpnuyug_TXA"
      },
      "source": [
        "print(a2)\n",
        "print(np.std(a2))\n",
        "print(np.std(a2, axis=0))\n",
        "print(np.std(a2, axis=1))"
      ],
      "execution_count": null,
      "outputs": []
    },
    {
      "cell_type": "markdown",
      "metadata": {
        "id": "5FFTCCDaAEhx"
      },
      "source": [
        "#### var(): 분산 계산"
      ]
    },
    {
      "cell_type": "code",
      "metadata": {
        "id": "CRMNkSdzAGZG"
      },
      "source": [
        "print(a2)\n",
        "print(np.var(a2))\n",
        "print(np.var(a2, axis=0))\n",
        "print(np.var(a2, axis=1))"
      ],
      "execution_count": null,
      "outputs": []
    },
    {
      "cell_type": "markdown",
      "metadata": {
        "id": "QFeh-4tmCCrU"
      },
      "source": [
        "#### min(): 최소값"
      ]
    },
    {
      "cell_type": "code",
      "metadata": {
        "id": "SMNCfYBQCEtf"
      },
      "source": [
        "print(a2)\n",
        "print(np.min(a2))\n",
        "print(np.min(a2, axis=0))\n",
        "print(np.min(a2, axis=1))"
      ],
      "execution_count": null,
      "outputs": []
    },
    {
      "cell_type": "markdown",
      "metadata": {
        "id": "A3n_JBnBJ2bo"
      },
      "source": [
        "#### max(): 최대값"
      ]
    },
    {
      "cell_type": "code",
      "metadata": {
        "id": "FmuOFKGAJ6Pf"
      },
      "source": [
        "print(a2)\n",
        "print(np.max(a2))\n",
        "print(np.max(a2, axis=0))\n",
        "print(np.max(a2, axis=1))"
      ],
      "execution_count": null,
      "outputs": []
    },
    {
      "cell_type": "markdown",
      "metadata": {
        "id": "PvGOKDP0J_5b"
      },
      "source": [
        "#### argmin(): 최소값 인덱스"
      ]
    },
    {
      "cell_type": "code",
      "metadata": {
        "id": "1ILP7L3yKCqA"
      },
      "source": [
        "print(a2)\n",
        "print(np.argmin(a2))\n",
        "print(np.argmin(a2, axis=0))\n",
        "print(np.argmin(a2, axis=1))"
      ],
      "execution_count": null,
      "outputs": []
    },
    {
      "cell_type": "markdown",
      "metadata": {
        "id": "23IcSctIKbUa"
      },
      "source": [
        "#### argmax(): 최대값 인덱스"
      ]
    },
    {
      "cell_type": "code",
      "metadata": {
        "id": "2m21cfCFKd-Q"
      },
      "source": [
        "print(a2)\n",
        "print(np.argmax(a2))\n",
        "print(np.argmax(a2, axis=0))\n",
        "print(np.argmax(a2, axis=1))\n",
        "\n",
        "\n",
        "testx = np.random.randint(1, 10, size=(3,3))\n",
        "print(testx)\n",
        "print(np.argmax(testx))"
      ],
      "execution_count": null,
      "outputs": []
    },
    {
      "cell_type": "markdown",
      "metadata": {
        "id": "3TjeNFQLKuZb"
      },
      "source": [
        "#### median(): 중앙값"
      ]
    },
    {
      "cell_type": "code",
      "metadata": {
        "id": "kSLN17bpKwv6"
      },
      "source": [
        "print(a2)\n",
        "print(np.median(a2)) # 행렬의 원소중 중앙값, 원소들의 평균값이 아님!\n",
        "print(np.median(a2, axis=0))\n",
        "print(np.median(a2, axis=1))\n",
        "print(\"********************************\")\n",
        "testx = np.random.randint(1, 10, size=(3,3))\n",
        "print(testx)\n",
        "print(np.median(testx))"
      ],
      "execution_count": null,
      "outputs": []
    },
    {
      "cell_type": "markdown",
      "metadata": {
        "id": "df-Id-nhLs3L"
      },
      "source": [
        "#### percentile(): 백분위 수\n",
        "\n",
        "\n",
        "\n"
      ]
    },
    {
      "cell_type": "code",
      "metadata": {
        "id": "N-TCx9hnLvhK"
      },
      "source": [
        "a1 = np.array([0,1,2,3])\n",
        "print(a1)\n",
        "print(np.percentile(a1, [0,20,40,60,80,100], interpolation='linear'))\n",
        "print(np.percentile(a1, [0,20,40,60,80,100], interpolation='higher'))\n",
        "print(np.percentile(a1, [0,20,40,60,80,100], interpolation='lower'))\n",
        "print(np.percentile(a1, [0,20,40,60,80,100], interpolation='nearest'))\n",
        "print(np.percentile(a1, [0,20,40,60,80,100], interpolation='midpoint'))\n"
      ],
      "execution_count": null,
      "outputs": []
    },
    {
      "cell_type": "markdown",
      "metadata": {
        "id": "x0NnNsvvNDIs"
      },
      "source": [
        "#### any()"
      ]
    },
    {
      "cell_type": "code",
      "metadata": {
        "id": "I1XDqsFxOMvA"
      },
      "source": [
        "a2 = np.array([[False, False, False],\n",
        "               [False, True, True],\n",
        "               [False, True, True]])\n",
        "\n",
        "print(a2)\n",
        "print(np.any(a2))  # True가 하나라도 있으면 True\n",
        "print(np.any(a2, axis=0))\n",
        "print(np.any(a2, axis=1))"
      ],
      "execution_count": null,
      "outputs": []
    },
    {
      "cell_type": "markdown",
      "metadata": {
        "id": "Uw-wjYgyONBZ"
      },
      "source": [
        "#### all()"
      ]
    },
    {
      "cell_type": "code",
      "metadata": {
        "id": "sXi2AHOHONYq"
      },
      "source": [
        "a2 = np.array([[False, False, True],\n",
        "               [True, True, True],\n",
        "               [False, True, True]])\n",
        "\n",
        "print(a2)\n",
        "print(np.all(a2))   # 모두가 True여야 True\n",
        "print(np.all(a2, axis=0))\n",
        "print(np.all(a2, axis=1))"
      ],
      "execution_count": null,
      "outputs": []
    },
    {
      "cell_type": "markdown",
      "metadata": {
        "id": "0n7lgzmUwqr1"
      },
      "source": [
        "### 비교 연산(Comparison Operators)\n",
        "\n",
        "|연산자|비교 범용 함수|\n",
        "|--------|-------|\n",
        "|`==`|`np.equal`|\n",
        "|`!=`|`np.not_equal`|\n",
        "|`<`|`np.less`|\n",
        "|`<=`|`np.less_equal`|\n",
        "|`>`|`np.greater`|\n",
        "|`>=`|`np.greater_equal`|\n"
      ]
    },
    {
      "cell_type": "code",
      "metadata": {
        "id": "E00V-nBTVnCu"
      },
      "source": [
        "a1 = np.arange(1,10)\n",
        "print(a1)\n",
        "print(a1 == 5)\n",
        "print(a1 != 5)\n",
        "print(a1 < 5)\n",
        "print(a1 > 5)"
      ],
      "execution_count": null,
      "outputs": []
    },
    {
      "cell_type": "code",
      "metadata": {
        "id": "3MwV1CU1WsWS"
      },
      "source": [
        "a2 = np.arange(1, 10).reshape(3,3)\n",
        "print(a2)\n",
        "print(np.sum(a2))\n",
        "print(np.count_nonzero(a2 > 5))\n",
        "print(np.sum(a2 > 5, axis=0))\n",
        "print(np.sum(a2 > 5, axis=1))\n",
        "print(np.any(a2 > 5))\n",
        "print(np.all(a2 > 5))"
      ],
      "execution_count": null,
      "outputs": []
    },
    {
      "cell_type": "markdown",
      "metadata": {
        "id": "r5i2KU-3uEnt"
      },
      "source": [
        "|비교 범용 함수| 설명|\n",
        "|-------|-----|\n",
        "|`np.isclose`|배열 두 개가 (z*1e+02)% 내외로 가까우면 True, 아니면 Falsle|\n",
        "|`np.isinf`|배열이 inf이면 True, 아니면 False|\n",
        "|`np.isfinite`|배열이 inf, nan이면 False, 아니면 True|\n",
        "|`np.isnan`|배열이 nan이면 True, 아니면 False|"
      ]
    },
    {
      "cell_type": "code",
      "metadata": {
        "id": "D4cuMoyEPn8R"
      },
      "source": [
        "a1 = np.array([1,2,3,4,5])\n",
        "print(a1)\n",
        "b1 = np.array([1,2,3,3,4])\n",
        "print(b1)\n",
        "print(np.isclose(a1, b1))"
      ],
      "execution_count": null,
      "outputs": []
    },
    {
      "cell_type": "code",
      "metadata": {
        "id": "af9VSc6FyMBh"
      },
      "source": [
        "a1 = np.array([np.nan, 2, np.inf, 4, np.NINF])\n",
        "print(a1)\n",
        "print(np.isnan(a1))\n",
        "print(np.isinf(a1))\n",
        "print(np.isfinite(a1))"
      ],
      "execution_count": null,
      "outputs": []
    },
    {
      "cell_type": "markdown",
      "metadata": {
        "id": "4BHMetMlYmt-"
      },
      "source": [
        "#### 불리언 연산자(Boolean Operators)\n",
        "\n",
        "|연산자|비교 범용 함수|\n",
        "|----|------|\n",
        "|`&`|`np.bitwise_and`|\n",
        "|`\\|`|`np.bitwise_or`|\n",
        "|`^`|`np.bitwise_xor`|\n",
        "|`~`|`np.bitwise_not`|"
      ]
    },
    {
      "cell_type": "code",
      "metadata": {
        "id": "ZV1-8DkUHOZq"
      },
      "source": [
        "a2 = np.arange(1,10).reshape(3,3)\n",
        "print(a2)\n",
        "print(\"**********************************\")\n",
        "print((a2 > 5) & (a2 < 8)) # a2의 원소들 각각 5보다 크고 8보다 작은 수인지 아닌지를 True/False로 작성\n",
        "print(a2[(a2 > 5) & (a2 < 8)]) \n",
        "print(\"**********************************\")\n",
        "print((a2 > 5) | (a2 < 8)) # \n",
        "print(a2[(a2 > 5) | (a2 < 8)]) \n",
        "print(\"**********************************\")\n",
        "print((a2 > 5) ^ (a2 < 8)) # \n",
        "print(a2[(a2 > 5) ^ (a2 < 8)]) \n",
        "print(\"**********************************\")\n",
        "print(~(a2 > 5)) # \n",
        "print(a2[~(a2 > 5)]) "
      ],
      "execution_count": null,
      "outputs": []
    },
    {
      "cell_type": "markdown",
      "metadata": {
        "id": "FlQJVeGBxIFw"
      },
      "source": [
        "### 배열 정렬"
      ]
    },
    {
      "cell_type": "code",
      "metadata": {
        "id": "x0sodUMqLU37"
      },
      "source": [
        "a1 = np.random.randint(1,10, size=10)\n",
        "print(a1)\n",
        "print(np.sort(a1))\n",
        "print(a1)\n",
        "print(np.argsort(a1))\n",
        "print(a1)\n",
        "print(a1.sort()) #a1이 드디어 정렬되었음!!!!!!!!!!!!!!!!!!!\n",
        "print(a1)"
      ],
      "execution_count": null,
      "outputs": []
    },
    {
      "cell_type": "code",
      "metadata": {
        "id": "FO_sO5POzeMp"
      },
      "source": [
        "a2 = np.random.randint(1,10, size=(3,3))\n",
        "print(a2)\n",
        "print(np.sort(a2, axis=0))\n",
        "print(np.sort(a2, axis=1))"
      ],
      "execution_count": null,
      "outputs": []
    },
    {
      "cell_type": "markdown",
      "metadata": {
        "id": "yYSItPz_00sZ"
      },
      "source": [
        "#### 부분 정렬\n",
        "\n",
        "* `partition()`: 배열에서 k개의 작은 값을 반환"
      ]
    },
    {
      "cell_type": "code",
      "metadata": {
        "id": "QQwov4N00YFP"
      },
      "source": [
        "import numpy as np\n",
        "\n",
        "a1 = np. random.randint(1,10,size=10)\n",
        "print(a1)\n",
        "print(np.partition(a1,3))"
      ],
      "execution_count": null,
      "outputs": []
    },
    {
      "cell_type": "code",
      "metadata": {
        "id": "XdVL262nihXO"
      },
      "source": [
        "a2 = np.random.randint(1,10,size=(5,5))\n",
        "print(a2)\n",
        "\n",
        "print(np.partition(a2,3))\n",
        "print(np.partition(a2,3, axis=0))\n",
        "print(np.partition(a2,3, axis=1))"
      ],
      "execution_count": null,
      "outputs": []
    },
    {
      "cell_type": "markdown",
      "metadata": {
        "id": "77DSA72ML5cI"
      },
      "source": [
        "## 배열 입출력\n",
        "\n",
        "|연산자|비교 범용 함수|\n",
        "|----|------|\n",
        "|`&`|`np.bitwise_and`|\n",
        "|`\\|`|`np.bitwise_or`|\n",
        "|`^`|`np.bitwise_xor`|\n",
        "|`~`|`np.bitwise_not`|\n",
        "\n",
        "\n",
        "|함수|설명|파일 종류|\n",
        "|----|---|--|----|\n",
        "|`np.save()`|Numpy 배열 객체 1개를 파일에 저장|바이너리|\n",
        "|`np.savez()`|Numpy 배열 객체 여러 개를 파일에 저장|바이너리|\n",
        "|`np.load()`|Numpy 배열 저장 파일로부터 객체 로딩|바이너리|\n",
        "|`np.loadtxt()`|텍스트 파일로부터 배열 로딩|텍스트|\n",
        "|`np.savetxt()`|텍스트 파일에 Numpy 배열 객체 저장|텍스트|\n"
      ]
    },
    {
      "cell_type": "code",
      "metadata": {
        "id": "da-Mm_gzIs7U"
      },
      "source": [
        "a2 = np.random.randint(1,10,size=(5,5))\n",
        "print(a2)\n",
        "np.save(\"a\", a2)"
      ],
      "execution_count": null,
      "outputs": []
    },
    {
      "cell_type": "markdown",
      "source": [
        "## Matrix\n"
      ],
      "metadata": {
        "id": "cg_08D2f3wgj"
      }
    },
    {
      "cell_type": "markdown",
      "source": [
        "matrix는 엄밀하게 행렬이며 파이썬에서는 numpy라이브러리의 matrix자료형으로 정의 또는 변환하여 사용하면 보다 손쉽게 행렬계산을 수행 할 수 있다.\n",
        "\n",
        "numpy 라이브러리에서 matrix 자료형은 array 자료형에서 상속된 하위클래스[SubClass] 개념이며, 수학계산에서 좀더 편리하게 사용하기 위해 matrix 자료형으로 변환하여 사용하면 좋다. 이렇게 생성한 matrix는 좀더 편리하게 수많은 계산식을 사용할 수 있으나, 꼭 matrix로 변환해서 연산할 필요는 없다. 다만 몇가지 연산에서 다른 결과를 나타낼 수 있으니 아래에서 확인 해 두자.\n"
      ],
      "metadata": {
        "id": "HtuuCRM7352L"
      }
    },
    {
      "cell_type": "markdown",
      "source": [
        "### 배열(array)과 행렬(matrix)의 생성과 변환"
      ],
      "metadata": {
        "id": "2x6lLezR4PLL"
      }
    },
    {
      "cell_type": "markdown",
      "source": [
        "행렬을 생성하기 위해서는</br>\n",
        "크게 배열을 생성하여 행렬로 변환하는 방법과</br> 한번에 행렬을 생성하는 두가지 방법이 있다.</br> 한번에 생성하는 것이 편리해보이지만 꽤 많은 함수가 배열(array)형태를 입력변수로 사용하므로 행렬을 사용하여 변환하는 방법이 더 유용하기도 하다.\n",
        "배열은 아래와 같이 변환한다."
      ],
      "metadata": {
        "id": "07LwgX0S5xXS"
      }
    },
    {
      "cell_type": "code",
      "source": [
        "a=np.array([[1,2],[3,4]])\n",
        "b=np.asmatrix(a)\n",
        "print(b)"
      ],
      "metadata": {
        "id": "aq4AhzlS6CUh"
      },
      "execution_count": null,
      "outputs": []
    },
    {
      "cell_type": "markdown",
      "source": [
        "여기서 a는 배열이고, b는 행렬이다.  asmatrix()함수를 사용하여 배열(array)를 행렬(matrix)로 변환할 수도 있고, 처음부터 matrix()함수로 정의할 수도 있다."
      ],
      "metadata": {
        "id": "MSuRgl7J6MZh"
      }
    },
    {
      "cell_type": "code",
      "source": [
        "np.matrix([[1,2],[3,4]])"
      ],
      "metadata": {
        "id": "3MSGMrm46O4r"
      },
      "execution_count": null,
      "outputs": []
    },
    {
      "cell_type": "code",
      "source": [
        "np.mat([[1,2],[3,4]])"
      ],
      "metadata": {
        "id": "93BC7-eZ6RY7"
      },
      "execution_count": null,
      "outputs": []
    },
    {
      "cell_type": "markdown",
      "source": [
        "a=(1324),  b=[1324],  b⋅b=[7151020]"
      ],
      "metadata": {
        "id": "-2hMG8Iw7CZ6"
      }
    },
    {
      "cell_type": "markdown",
      "source": [
        "matrix()함수는 mat()라고 약어로 사용하여도 동일하게 동작한다."
      ],
      "metadata": {
        "id": "p6-TDGPm6xw5"
      }
    },
    {
      "cell_type": "markdown",
      "source": [
        "### 행렬(matrix)을 사용하면 배열(array)보다 연산이 간단함"
      ],
      "metadata": {
        "id": "VFfbkrz861ZC"
      }
    },
    {
      "cell_type": "code",
      "source": [
        ""
      ],
      "metadata": {
        "id": "geKIlPOzqRP3"
      },
      "execution_count": null,
      "outputs": []
    },
    {
      "cell_type": "markdown",
      "source": [
        "matrix 자료형은 array형 보다 손쉽게 행렬곱 (matrix multiplication, dot product; matrix*matrix) 연산과 복소공액 행렬(conjugated matrix;  matrix.H) ,  전치행렬(transpose matrix; matrix.T), 역행렬(Inverse matrix; matrix.I) 등 연산을 편리하게 사용 할 수 있다. 즉, 연속해서 수식을 만들어 연산을 수행하는 경우에 함수를 사용하면 불편하고, 이해도도 떨어지게된다. 이럴때 수기로 표현하는 것과 가능한 유사한 형태의 표기를 사용하면 매우 편리할 것이다. 이러한 편리함을 위해 matrix 자료형을 사용하게 되는 것이다."
      ],
      "metadata": {
        "id": "fAyj4Rdd64o7"
      }
    },
    {
      "cell_type": "code",
      "metadata": {
        "id": "Hvb_ilyisoIV"
      },
      "source": [
        "!ls"
      ],
      "execution_count": null,
      "outputs": []
    },
    {
      "cell_type": "code",
      "metadata": {
        "id": "ArWZfL31s1wU"
      },
      "source": [
        "b2 = np.random.randint(1,10,size=(5,5))\n",
        "print(b2)\n",
        "np.savez(\"ab\", a2, b2)"
      ],
      "execution_count": null,
      "outputs": []
    },
    {
      "cell_type": "code",
      "metadata": {
        "id": "che4cEJEs2Tr"
      },
      "source": [
        "!ls "
      ],
      "execution_count": null,
      "outputs": []
    },
    {
      "cell_type": "code",
      "metadata": {
        "id": "_NIDrc-VuPmv"
      },
      "source": [
        "npy = np.load(\"a.npy\")\n",
        "print(npy)"
      ],
      "execution_count": null,
      "outputs": []
    },
    {
      "cell_type": "code",
      "metadata": {
        "id": "bPhmIoVBuQMf"
      },
      "source": [
        "npz = np.load(\"ab.npz\")\n",
        "print(npz.files)\n",
        "print(npz['arr_0'])\n",
        "print(npz['arr_1'])"
      ],
      "execution_count": null,
      "outputs": []
    },
    {
      "cell_type": "code",
      "metadata": {
        "id": "FeB2p4azuTDv"
      },
      "source": [
        "print(a2)\n",
        "np.savetxt(\"a.csv\", a2, delimiter=',')"
      ],
      "execution_count": null,
      "outputs": []
    },
    {
      "cell_type": "code",
      "metadata": {
        "id": "IUg8Vg4fuxR5"
      },
      "source": [
        "!ls"
      ],
      "execution_count": null,
      "outputs": []
    },
    {
      "cell_type": "code",
      "metadata": {
        "id": "lIK5dSv6vtm2"
      },
      "source": [
        "!cat a.csv"
      ],
      "execution_count": null,
      "outputs": []
    },
    {
      "cell_type": "code",
      "metadata": {
        "id": "l4O-gVxdv8-d"
      },
      "source": [
        "csv = np.loadtxt(\"a.csv\", delimiter=',')\n",
        "print(csv)"
      ],
      "execution_count": null,
      "outputs": []
    },
    {
      "cell_type": "code",
      "metadata": {
        "id": "wOCUR2XmnVar"
      },
      "source": [
        "print(b2)\n",
        "np.savetxt(\"b.csv\", b2, delimiter=',', fmt='%.2e', header='c1, c2, c3, c4, c5')"
      ],
      "execution_count": null,
      "outputs": []
    },
    {
      "cell_type": "code",
      "metadata": {
        "id": "vtBY250LnV-d"
      },
      "source": [
        "!cat b.csv"
      ],
      "execution_count": null,
      "outputs": []
    },
    {
      "cell_type": "code",
      "metadata": {
        "id": "YZCib-BfnWVt"
      },
      "source": [
        "csv = np.loadtxt(\"b.csv\", delimiter=',')\n",
        "print(csv)"
      ],
      "execution_count": null,
      "outputs": []
    },
    {
      "cell_type": "markdown",
      "metadata": {
        "id": "JM2Ghx2NGloN"
      },
      "source": [
        "\n",
        "\n",
        "---\n",
        "\n"
      ]
    },
    {
      "cell_type": "markdown",
      "metadata": {
        "id": "-aEwJBoIoFgG"
      },
      "source": [
        "참고문헌\n",
        "\n",
        "\n",
        "* NumPy, https://numpy.org/\n",
        "* Jake VanderPlas, \"Python Data Science Handbook\", O'Reilly\n",
        "\n",
        "\n",
        "\n"
      ]
    },
    {
      "cell_type": "code",
      "metadata": {
        "id": "uuYWl2KTpgE-"
      },
      "source": [
        "X = np.array([[1., -2., -1.], \n",
        "              [3., 0.5, -3.2]])\n",
        "print(X.shape)\n"
      ],
      "execution_count": null,
      "outputs": []
    },
    {
      "cell_type": "code",
      "source": [
        "x = np.array([\n",
        "              [1, 2]\n",
        "              ])\n",
        "print(x.shape)\n",
        "\n",
        "print(np.squeeze(x).shape)\n",
        "#print(x)"
      ],
      "metadata": {
        "id": "JnGUs8rD4tqz"
      },
      "execution_count": null,
      "outputs": []
    },
    {
      "cell_type": "code",
      "source": [
        "x1 = np.arange(9.0).reshape((3, 3))\n",
        "print(x1)\n",
        "x2 = np.arange(3.0)\n",
        "print(x2)\n",
        "print(np.multiply(x1, x2))"
      ],
      "metadata": {
        "id": "e_UDUJ3r4yIi"
      },
      "execution_count": null,
      "outputs": []
    }
  ]
}