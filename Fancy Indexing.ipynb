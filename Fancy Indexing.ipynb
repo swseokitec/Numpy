{
  "nbformat": 4,
  "nbformat_minor": 0,
  "metadata": {
    "colab": {
      "name": "Fancy Indexing.ipynb",
      "provenance": [],
      "collapsed_sections": [],
      "toc_visible": true,
      "include_colab_link": true
    },
    "kernelspec": {
      "name": "python3",
      "display_name": "Python 3"
    },
    "language_info": {
      "name": "python"
    }
  },
  "cells": [
    {
      "cell_type": "markdown",
      "metadata": {
        "id": "view-in-github",
        "colab_type": "text"
      },
      "source": [
        "<a href=\"https://colab.research.google.com/github/swseokitec/Numpy/blob/main/Fancy%20Indexing.ipynb\" target=\"_parent\"><img src=\"https://colab.research.google.com/assets/colab-badge.svg\" alt=\"Open In Colab\"/></a>"
      ]
    },
    {
      "cell_type": "code",
      "source": [
        "import numpy as np"
      ],
      "metadata": {
        "id": "VNdtITz0Yjn0"
      },
      "execution_count": null,
      "outputs": []
    },
    {
      "cell_type": "markdown",
      "source": [
        "#Fancy Indexing\n",
        "팬시인덱싱이란 `정수 배열`을 만들어서 행과 열의 원소를 추출하는 방식을 말한다."
      ],
      "metadata": {
        "id": "1_kykHCmW-tA"
      }
    },
    {
      "cell_type": "markdown",
      "source": [
        "* 다차원 넘파이 배열은 인덱싱연산자인 대괄호 안에 행과 열의 인데스 정보를 튜플로 넣어서 하나의 원소를 조회할 수 있지만 파이썬 리스트에 이 방식을 사용하면 예외를 발생시킵니다."
      ],
      "metadata": {
        "id": "PX8J_gXo3L7a"
      }
    },
    {
      "cell_type": "code",
      "source": [
        "l2 = [[1,2,3], [4,5,6]]\n",
        "try :\n",
        "  l2[0,1]\n",
        "except Exception as e :\n",
        "  print(e)"
      ],
      "metadata": {
        "id": "PsSc1EoX3THn"
      },
      "execution_count": null,
      "outputs": []
    },
    {
      "cell_type": "markdown",
      "source": [
        "##1차원 배열로 원소만 추출\n",
        "1차원 배열을 팬시인덱싱으로 검색하면 새로운 배열을 만들어서 반환합니다.\n",
        "원본과 다른 사본이 만들어집니다."
      ],
      "metadata": {
        "id": "dXdQYbnKXCqn"
      }
    },
    {
      "cell_type": "markdown",
      "source": [
        "###배열로 원소를 검색하기"
      ],
      "metadata": {
        "id": "aEff77ZVXW4M"
      }
    },
    {
      "cell_type": "code",
      "source": [
        "x = np.arange(1, 15)\n",
        "x"
      ],
      "metadata": {
        "id": "HwARWfL5XknV"
      },
      "execution_count": null,
      "outputs": []
    },
    {
      "cell_type": "code",
      "source": [
        "pos = np.array([10])\n",
        "pos"
      ],
      "metadata": {
        "id": "Dn374nMRY2GT"
      },
      "execution_count": null,
      "outputs": []
    },
    {
      "cell_type": "code",
      "source": [
        "x[10]"
      ],
      "metadata": {
        "id": "UtFTTkt2Y893"
      },
      "execution_count": null,
      "outputs": []
    },
    {
      "cell_type": "code",
      "source": [
        "x[pos]"
      ],
      "metadata": {
        "id": "Z8xIJ5WJY_Us"
      },
      "execution_count": null,
      "outputs": []
    },
    {
      "cell_type": "markdown",
      "source": [
        "팬시인덱싱은 기존 배열의 형상을 유지하면서 검색된 원소를 보여준다"
      ],
      "metadata": {
        "id": "wBVx-k_fZOud"
      }
    },
    {
      "cell_type": "code",
      "source": [
        "print(x)\n",
        "pos2 = np.array([1,2,2,2])\n",
        "x[pos2]"
      ],
      "metadata": {
        "id": "F6YCsQc6ZQpf"
      },
      "execution_count": null,
      "outputs": []
    },
    {
      "cell_type": "markdown",
      "source": [
        "팬시인덱싱의 결과는 새로운 사본을 만드는 것입니다.\n",
        "슬라이싱은 새로운 객체를 만들지만 원본 데이터를 공유하는 구조입니다.\n",
        "많은 원소를 가진 다차원 배열을 만들어 사본을 만들어서 처리할 때는 팬시인덱싱을 사용하는 것이 좋습니다"
      ],
      "metadata": {
        "id": "4QssVViTbvz4"
      }
    },
    {
      "cell_type": "code",
      "source": [
        "c = x[pos2]\n",
        "np.may_share_memory(x,c)"
      ],
      "metadata": {
        "id": "PUlq7ePebkx0"
      },
      "execution_count": null,
      "outputs": []
    },
    {
      "cell_type": "code",
      "source": [
        "y = x[:4]\n",
        "np.may_share_memory(x,y)"
      ],
      "metadata": {
        "id": "-D0h3_HmcY-t"
      },
      "execution_count": null,
      "outputs": []
    },
    {
      "cell_type": "code",
      "source": [
        "print(x)"
      ],
      "metadata": {
        "id": "pdSNlYdjRON6"
      },
      "execution_count": null,
      "outputs": []
    },
    {
      "cell_type": "code",
      "source": [
        "y[0] = 100"
      ],
      "metadata": {
        "id": "i7dyLgLdRQ17"
      },
      "execution_count": null,
      "outputs": []
    },
    {
      "cell_type": "code",
      "source": [
        "print(x)\n",
        "print(y)"
      ],
      "metadata": {
        "id": "dD12J_BxRV1a"
      },
      "execution_count": null,
      "outputs": []
    },
    {
      "cell_type": "markdown",
      "source": [
        "인덱스를 역방향으로 지정해서 팬시인덱싱도 가능합니다.\n",
        "역방향으로 지정해서 검색해도 현재 지정된 인덱스대로 원소를 나열한 배열을 반환합니다\n",
        "\n"
      ],
      "metadata": {
        "id": "bEvX8pWQc5nI"
      }
    },
    {
      "cell_type": "code",
      "source": [
        "print(x)\n",
        "rfi = np.array([-5,-4,-3,-2,-1]) #[-5,-4,-3,-2,-1]\n",
        "d = x[rfi] #d = x[[-5,-4,-3,-2,-1]]\n",
        "d"
      ],
      "metadata": {
        "id": "_YDJkV6kc7NF"
      },
      "execution_count": null,
      "outputs": []
    },
    {
      "cell_type": "code",
      "source": [
        "d[0] = 100\n",
        "d"
      ],
      "metadata": {
        "id": "u4VLCm2yc8dr"
      },
      "execution_count": null,
      "outputs": []
    },
    {
      "cell_type": "code",
      "source": [
        "x[-5]"
      ],
      "metadata": {
        "id": "j4EGFQ7Ic9er"
      },
      "execution_count": null,
      "outputs": []
    },
    {
      "cell_type": "markdown",
      "source": [
        "###2차원 배열의 원소를 검색하기"
      ],
      "metadata": {
        "id": "E5vByYAKXivi"
      }
    },
    {
      "cell_type": "code",
      "execution_count": null,
      "metadata": {
        "id": "HfDpEgtrWp-6"
      },
      "outputs": [],
      "source": [
        "x = np.arange(16).reshape(4,4)\n",
        "x"
      ]
    },
    {
      "cell_type": "code",
      "source": [
        "x[0]"
      ],
      "metadata": {
        "id": "KVYKneSQd35i"
      },
      "execution_count": null,
      "outputs": []
    },
    {
      "cell_type": "code",
      "source": [
        "x[[0,3]]"
      ],
      "metadata": {
        "id": "aBVoc3kWdn9e"
      },
      "execution_count": null,
      "outputs": []
    },
    {
      "cell_type": "code",
      "source": [
        "x[[3,0]]"
      ],
      "metadata": {
        "id": "sSiku1oNDMjQ"
      },
      "execution_count": null,
      "outputs": []
    },
    {
      "cell_type": "markdown",
      "source": [
        "팬시인덱싱으로 행과 열의 정보를 튜플로 지정할 때는 주의해야합니다.\n",
        "행과 열의 만나는 점을 추출하도록 지정했지만 실제로는 두 리스트의 원소를 순서쌍을 만들어서 \n",
        "매칭되는 원소를 가져와서 변환합니다.\n",
        "반환된 결과는 1행 2열의 원소와 2행 3열의 원소가 1차원 배열로 반환됩니다\n"
      ],
      "metadata": {
        "id": "RCz193zuegvt"
      }
    },
    {
      "cell_type": "code",
      "source": [
        "print(x)\n",
        "x[[1,2],[2,3]] #(1,2) , (2,3)"
      ],
      "metadata": {
        "id": "yw5NIHf4ekc_"
      },
      "execution_count": null,
      "outputs": []
    },
    {
      "cell_type": "code",
      "source": [
        "row = np.array([1,2])\n",
        "col = np.array([2,3])\n",
        "x[row,col] #(1,2) , (2,3)"
      ],
      "metadata": {
        "id": "Drzbh-ZHDWxj"
      },
      "execution_count": null,
      "outputs": []
    },
    {
      "cell_type": "markdown",
      "source": [
        "####numpy.ix_"
      ],
      "metadata": {
        "id": "iGzjS4KDD_hp"
      }
    },
    {
      "cell_type": "markdown",
      "source": [
        "행과 열의 원소를 가져와서 여러 개의 원소를 검색할 때는 추가적인 함수인 ix_ 를 사용합니다.\n",
        "두 개의 리스트를 이 함수의 인자로 전달해서 검색하면 2행 2열의 배열을 반환합니다"
      ],
      "metadata": {
        "id": "R1d1sCoNEQhc"
      }
    },
    {
      "cell_type": "code",
      "source": [
        "print(x)\n",
        "x[np.ix_([1,2],[2,3])]"
      ],
      "metadata": {
        "id": "IBM3IImzfjyl"
      },
      "execution_count": null,
      "outputs": []
    },
    {
      "cell_type": "markdown",
      "source": [
        "##다른 인덱싱과 팬시인덱싱을 혼용하기\n"
      ],
      "metadata": {
        "id": "O80Dhs05YCu5"
      }
    },
    {
      "cell_type": "markdown",
      "source": [
        "넘파이 모듈에서 다차원 배열에 대한 인덱싱검색에는 여러 가지 방식을 혼합해서 사용할 수 있습니다. 이번에는 정수, 슬라이스, 팬시인덱싱 등을 혼용해서 검색해 봅니다"
      ],
      "metadata": {
        "id": "_gzXjNe6h9Kf"
      }
    },
    {
      "cell_type": "markdown",
      "source": [
        "###인덱스 검색과 혼용하기"
      ],
      "metadata": {
        "id": "TGa_p7IFYFDr"
      }
    },
    {
      "cell_type": "code",
      "source": [
        "x = np.arange(10).reshape(2,5)\n",
        "x"
      ],
      "metadata": {
        "id": "b4g89ZF6YGDL"
      },
      "execution_count": null,
      "outputs": []
    },
    {
      "cell_type": "code",
      "source": [
        "x[0, [0,1]]"
      ],
      "metadata": {
        "id": "YIYNlFhhiPx3"
      },
      "execution_count": null,
      "outputs": []
    },
    {
      "cell_type": "markdown",
      "source": [
        "인덱싱검색에 첫 번째는 정수(0)로 검색합니다. 2차원 배열이라 첫 번째 행을 검색합니다.\n",
        "두 번째 팬시인덱싱([0,1])은 첫 번째와 두 번째 열을 조회해서 1차원 배열이 만들어집니다"
      ],
      "metadata": {
        "id": "_8jPFSlvinJj"
      }
    },
    {
      "cell_type": "code",
      "source": [
        "x[1,[0,1]]"
      ],
      "metadata": {
        "id": "Zi7-e4Lpi0b8"
      },
      "execution_count": null,
      "outputs": []
    },
    {
      "cell_type": "markdown",
      "source": [
        "팬시인덱싱만 인덱싱연산에 넣고 처리하면 두 개의 행을 전부 가져옵니다. 열에 정수 0을 넣으면 두 개의 행에서\n",
        "정수 0인 열만 추출한 결과를 1차원 배열로 반환합니다\n"
      ],
      "metadata": {
        "id": "0c6rhAkRyCpz"
      }
    },
    {
      "cell_type": "code",
      "source": [
        "print(x)\n",
        "x[[0,1]] # x[0,1]는 일반인덱싱임!!!"
      ],
      "metadata": {
        "id": "FfeSnXemyEJ5"
      },
      "execution_count": null,
      "outputs": []
    },
    {
      "cell_type": "code",
      "source": [
        "print(x)\n",
        "#tr = np.array([[0,1]]) \n",
        "tr = np.array([0,1])\n",
        "x[tr]"
      ],
      "metadata": {
        "id": "aT1AfqYiEgzT"
      },
      "execution_count": null,
      "outputs": []
    },
    {
      "cell_type": "code",
      "source": [
        "print(x)\n",
        "x[[0,1],0]"
      ],
      "metadata": {
        "id": "9isD_4kNyF2m"
      },
      "execution_count": null,
      "outputs": []
    },
    {
      "cell_type": "markdown",
      "source": [
        "일반 인덱싱과 팬시인덱싱을 혼합해도 새로운 객체를 생성하는 것을 알 수 있습니다"
      ],
      "metadata": {
        "id": "rJrAyQrtyuoe"
      }
    },
    {
      "cell_type": "code",
      "source": [
        "a = x[[0,1],0]\n",
        "np.may_share_memory(x,a)"
      ],
      "metadata": {
        "id": "cl5WkE4dywai"
      },
      "execution_count": null,
      "outputs": []
    },
    {
      "cell_type": "markdown",
      "source": [
        "###슬라이스 검색과 혼용하기"
      ],
      "metadata": {
        "id": "o1fAMkvCYNvq"
      }
    },
    {
      "cell_type": "code",
      "source": [
        "y=np.arange(10).reshape(2,5)\n",
        "y"
      ],
      "metadata": {
        "id": "76DZ9MMaYOpj"
      },
      "execution_count": null,
      "outputs": []
    },
    {
      "cell_type": "markdown",
      "source": [
        "\n",
        "팬시인덱싱을 먼저 넣고 열에 대해서는 슬라이싱으로 지정하면\n",
        "2차원 배열을 조회합니다. 또한 행에 슬라이싱을 하고 열에 팬시인덱싱을 사용해도\n",
        "2차원 배열이 생성됩니다\n"
      ],
      "metadata": {
        "id": "cdxiSiwqzZNH"
      }
    },
    {
      "cell_type": "code",
      "source": [
        "y[[0,1], :2]"
      ],
      "metadata": {
        "id": "Yq1Faul6zYbO"
      },
      "execution_count": null,
      "outputs": []
    },
    {
      "cell_type": "code",
      "source": [
        "y[:2, [0,1]]"
      ],
      "metadata": {
        "id": "o3EAqJCDzbjB"
      },
      "execution_count": null,
      "outputs": []
    },
    {
      "cell_type": "markdown",
      "source": [
        "###다양한 검색조건 확인하기"
      ],
      "metadata": {
        "id": "q8YFhdfoYPTd"
      }
    },
    {
      "cell_type": "markdown",
      "source": [
        "행벡터는 1차원 배열을 만들어서 처리합니다.\n",
        "열벡터는 행에 슬라이스와 열에 축 추가인 newaxis 속성을 전달해서 열벡터로 변경합니다"
      ],
      "metadata": {
        "id": "u5B4Sz8v0diF"
      }
    },
    {
      "cell_type": "code",
      "source": [
        "a = np.arange(6)\n",
        "a"
      ],
      "metadata": {
        "id": "iTVJ12V7YU4D"
      },
      "execution_count": null,
      "outputs": []
    },
    {
      "cell_type": "code",
      "source": [
        "b = np.arange(0,51,10)[:,np.newaxis]\n",
        "b"
      ],
      "metadata": {
        "id": "ycATynzO0iag"
      },
      "execution_count": null,
      "outputs": []
    },
    {
      "cell_type": "markdown",
      "source": [
        "두 벡터를 연산하면 두 벡터를 모두 브로드캐스팅해서 동일한 원소를 만든 후에\n",
        "두 배열을 더해서 5행5열의 2차원 배열을 표시합니다.\n",
        "\n"
      ],
      "metadata": {
        "id": "LvhPgkGR0jy2"
      }
    },
    {
      "cell_type": "code",
      "source": [
        "c = a+b\n",
        "c"
      ],
      "metadata": {
        "id": "x5SqDeLW0lp4"
      },
      "execution_count": null,
      "outputs": []
    },
    {
      "cell_type": "code",
      "source": [
        "c[tuple([[1,3,4],[3,4,5]])] # (1,3) , (3,4), (4,5)"
      ],
      "metadata": {
        "id": "mWOdeHBF03po"
      },
      "execution_count": null,
      "outputs": []
    },
    {
      "cell_type": "code",
      "source": [
        "c[:, [0,2,5]]"
      ],
      "metadata": {
        "id": "UoKp-8Ja040T"
      },
      "execution_count": null,
      "outputs": []
    },
    {
      "cell_type": "markdown",
      "source": [
        "배열을 불린인덱싱으로 처리하면 참인 경우의 행만을 추출합니다\n",
        "불리언인덱싱도 기존 배열과 연관되지 않는 새로운 배열을 생성합니다\n"
      ],
      "metadata": {
        "id": "cvHvbc4707uD"
      }
    },
    {
      "cell_type": "code",
      "source": [
        "mask = np.array([1,0,1,0,0,1],dtype=bool)\n",
        "mask"
      ],
      "metadata": {
        "id": "CDyCL89a2Mjp"
      },
      "execution_count": null,
      "outputs": []
    },
    {
      "cell_type": "code",
      "source": [
        "print(c)\n",
        "d = c[mask]\n",
        "d"
      ],
      "metadata": {
        "id": "UBXBK9l02OKA"
      },
      "execution_count": null,
      "outputs": []
    },
    {
      "cell_type": "code",
      "source": [
        "np.may_share_memory(c,d)"
      ],
      "metadata": {
        "id": "Z4ABNVgi2Ptb"
      },
      "execution_count": null,
      "outputs": []
    },
    {
      "cell_type": "markdown",
      "source": [
        "불리언인덱싱과 정수를 혼합해서 인덱싱이 가능합니다."
      ],
      "metadata": {
        "id": "R35g3HTm2lmu"
      }
    },
    {
      "cell_type": "code",
      "source": [
        "c[mask, 2]"
      ],
      "metadata": {
        "id": "2X9WSdX82TfS"
      },
      "execution_count": null,
      "outputs": []
    },
    {
      "cell_type": "markdown",
      "source": [
        "불리언인덱싱과 팬시인덱싱을 같이 혼합해서 사용할 때는 형상이 동일해야 합니다.\n",
        "다른 경우에는 예외가 발생합니다\n",
        "예외를 발생시키지 않으려면 불리언인덱싱을 수행한 후에 팬시인덱싱을 하는 것이 좋습니다\n"
      ],
      "metadata": {
        "id": "IErbbId_2WSo"
      }
    },
    {
      "cell_type": "code",
      "source": [
        "try :\n",
        "  c[mask, tuple([0,1])]\n",
        "except Exception as e :\n",
        "  print(e)"
      ],
      "metadata": {
        "id": "8nOVO3Fg2U20"
      },
      "execution_count": null,
      "outputs": []
    },
    {
      "cell_type": "code",
      "source": [
        "c[mask][[0,1]]"
      ],
      "metadata": {
        "id": "K7a0VJ692Zxi"
      },
      "execution_count": null,
      "outputs": []
    }
  ]
}