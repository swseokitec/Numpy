{
  "nbformat": 4,
  "nbformat_minor": 0,
  "metadata": {
    "colab": {
      "name": "Slice Object.ipynb",
      "provenance": [],
      "collapsed_sections": [],
      "toc_visible": true,
      "include_colab_link": true
    },
    "kernelspec": {
      "name": "python3",
      "display_name": "Python 3"
    },
    "language_info": {
      "name": "python"
    }
  },
  "cells": [
    {
      "cell_type": "markdown",
      "metadata": {
        "id": "view-in-github",
        "colab_type": "text"
      },
      "source": [
        "<a href=\"https://colab.research.google.com/github/swseokitec/Numpy/blob/main/Slice%20Object.ipynb\" target=\"_parent\"><img src=\"https://colab.research.google.com/assets/colab-badge.svg\" alt=\"Open In Colab\"/></a>"
      ]
    },
    {
      "cell_type": "code",
      "source": [
        "import numpy as np"
      ],
      "metadata": {
        "id": "1BaWl6Hex1UM"
      },
      "execution_count": 1,
      "outputs": []
    },
    {
      "cell_type": "markdown",
      "source": [
        "#Slice Object"
      ],
      "metadata": {
        "id": "rPGgpYG5j7V9"
      }
    },
    {
      "cell_type": "markdown",
      "source": [
        "##Python slice()\n",
        "The slice() function returns a slice object that is used to slice any sequence (string, tuple, list, range, or bytes)type."
      ],
      "metadata": {
        "id": "ZS8hvtfSXJ9d"
      }
    },
    {
      "cell_type": "markdown",
      "source": [
        "###Code Example\n",
        "`text = 'Python Programing'`\n",
        "\n",
        "`# get slice object to slice Python`</br>\n",
        "`sliced_text = slice(6)`\n",
        "\n",
        "`print(text[sliced_text])`\n",
        "\n",
        "`# Output: Python`"
      ],
      "metadata": {
        "id": "5ZWsRvWFXK2P"
      }
    },
    {
      "cell_type": "markdown",
      "source": [
        "###slice() Syntax\n",
        "The syntax of slice() is:\n",
        "\n",
        "`slice(start, stop, step)`"
      ],
      "metadata": {
        "id": "6q_dpjT5X7qI"
      }
    },
    {
      "cell_type": "markdown",
      "source": [
        "###slice() Parameters\n",
        "slice() can take three parameters:\n",
        "\n",
        "* start (optional) - Starting integer where the slicing of the object starts. Default to None if not provided.\n",
        "* stop - Integer until which the slicing takes place. The slicing stops at index stop -1 (last element).\n",
        "* step (optional) - Integer value which determines the increment between each index for slicing. Defaults to None if not provided.\n"
      ],
      "metadata": {
        "id": "2PXay_qQYEpt"
      }
    },
    {
      "cell_type": "markdown",
      "source": [
        "###slice() Return Value\n",
        "`slice()` returns a slice object.</br>\n",
        "(slice() 메서드는 지정된 범위를 기반으로 하는 슬라이스 클래스의 객체로 iterable의 일부를 반환합니다)\n",
        "\n",
        "Note: We can use slice with any object which supports sequence protocol (implements `__getitem__()` and `__len()__` method)."
      ],
      "metadata": {
        "id": "cbL_tHZhYf5V"
      }
    },
    {
      "cell_type": "markdown",
      "source": [
        "###Examples"
      ],
      "metadata": {
        "id": "Q9z3azcDY9UF"
      }
    },
    {
      "cell_type": "markdown",
      "source": [
        "####Example 1: Create a slice object for slicing"
      ],
      "metadata": {
        "id": "Lp2-2rHWYsDb"
      }
    },
    {
      "cell_type": "code",
      "source": [
        "# contains indices (0, 1, 2)\n",
        "result1 = slice(3) # specified only stop \n",
        "print(result1)\n",
        "\n",
        "# contains indices (1, 3)\n",
        "result2 = slice(1, 5, 2)\n",
        "\n",
        "print(slice(1, 5, 2))"
      ],
      "metadata": {
        "id": "6TbiYwcjXheR"
      },
      "execution_count": null,
      "outputs": []
    },
    {
      "cell_type": "markdown",
      "source": [
        "####Example 2: Get substring using slice object"
      ],
      "metadata": {
        "id": "y5nUybc_Y6qn"
      }
    },
    {
      "cell_type": "code",
      "source": [
        "# Program to get a substring from the given string \n",
        "\n",
        "py_string = 'Python'\n",
        "\n",
        "# stop = 3\n",
        "# contains 0, 1 and 2 indices\n",
        "slice_object = slice(3) \n",
        "\n",
        "print(py_string[slice_object])  # Pyt\n",
        "\n",
        "# start = 1, stop = 6, step = 2\n",
        "# contains 1, 3 and 5 indices\n",
        "slice_object = slice(1, 6, 2)\n",
        "print(py_string[slice_object])   # yhn"
      ],
      "metadata": {
        "id": "HRqmDrFdY11Z"
      },
      "execution_count": null,
      "outputs": []
    },
    {
      "cell_type": "markdown",
      "source": [
        "####Example 3: Get substring using negative index"
      ],
      "metadata": {
        "id": "YI3HRKcMZG-F"
      }
    },
    {
      "cell_type": "code",
      "source": [
        "py_string = 'Python'\n",
        "\n",
        "# start = -1, stop = -4, step = -1\n",
        "# contains indices -1, -2 and -3\n",
        "slice_object = slice(-1, -4, -1)\n",
        "\n",
        "\n",
        "print(py_string[slice_object])   # noh"
      ],
      "metadata": {
        "id": "se6x3PMbZDsn"
      },
      "execution_count": null,
      "outputs": []
    },
    {
      "cell_type": "markdown",
      "source": [
        "####Example 4: Get sublist and sub-tuple"
      ],
      "metadata": {
        "id": "nMEr1B3_ZQCa"
      }
    },
    {
      "cell_type": "code",
      "source": [
        "py_list = ['P', 'y', 't', 'h', 'o', 'n']\n",
        "py_tuple = ('P', 'y', 't', 'h', 'o', 'n')\n",
        "\n",
        "# contains indices 0, 1 and 2\n",
        "slice_object = slice(3)\n",
        "\n",
        "print(py_list[slice_object]) # ['P', 'y', 't']\n",
        "\n",
        "# contains indices 1 and 3\n",
        "slice_object = slice(1, 5, 2)\n",
        "\n",
        "print(py_tuple[slice_object]) # ('y', 'h')    "
      ],
      "metadata": {
        "id": "pSmdCg8SZK3f"
      },
      "execution_count": null,
      "outputs": []
    },
    {
      "cell_type": "markdown",
      "source": [
        "####Example 5: Get sublist and sub-tuple using negative index"
      ],
      "metadata": {
        "id": "atrKJZZVZXEn"
      }
    },
    {
      "cell_type": "code",
      "source": [
        "py_list = ['P', 'y', 't', 'h', 'o', 'n']\n",
        "py_tuple = ('P', 'y', 't', 'h', 'o', 'n')\n",
        "\n",
        "# contains indices -1, -2 and -3\n",
        "slice_object = slice(-1, -4, -1) \n",
        "\n",
        "print(py_list[slice_object])  # ['n', 'o', 'h']\n",
        "\n",
        "# contains indices -1 and -3\n",
        "slice_object = slice(-1, -5, -2)\n",
        "\n",
        "print(py_tuple[slice_object]) # ('n', 'h')"
      ],
      "metadata": {
        "id": "f9MtmoObZUKm"
      },
      "execution_count": null,
      "outputs": []
    },
    {
      "cell_type": "markdown",
      "source": [
        "##Numpy.s_\n",
        "배열에 대한 인덱스 튜플을 구축하는 더 좋은 방법.</br>\n",
        "IndexExpression을 사용하는 대신 `numpy.s_` 또는 `numpy.index_exp`를 사용하는 것이 좋음."
      ],
      "metadata": {
        "id": "-wi8WeqzkFHr"
      }
    },
    {
      "cell_type": "code",
      "source": [
        "a2_5 = np.arange(10).reshape(2, 5)\n",
        "print(a2_5)\n",
        "m = np.s_[0:2, 3:4] \n",
        "\n",
        "print(m)"
      ],
      "metadata": {
        "id": "QTjSIV7GZj-A"
      },
      "execution_count": null,
      "outputs": []
    },
    {
      "cell_type": "code",
      "source": [
        "a2_5[m]"
      ],
      "metadata": {
        "id": "nTtRIsVmbMRU"
      },
      "execution_count": null,
      "outputs": []
    },
    {
      "cell_type": "code",
      "source": [
        "m = np.s_[0:2] \n",
        "print(m)\n",
        "a2_5[m]"
      ],
      "metadata": {
        "id": "eg0sp7x8bO25"
      },
      "execution_count": null,
      "outputs": []
    },
    {
      "cell_type": "markdown",
      "source": [
        "##Numpy.index_exp\n"
      ],
      "metadata": {
        "id": "88UT-OI8oQBd"
      }
    },
    {
      "cell_type": "code",
      "source": [
        "indexexp_ = np.index_exp[0:2]\n",
        "print(type(indexexp_))\n",
        "print(indexexp_)\n",
        "print(a2_5[indexexp_])"
      ],
      "metadata": {
        "id": "ZSjhzFrzidkD"
      },
      "execution_count": null,
      "outputs": []
    }
  ]
}